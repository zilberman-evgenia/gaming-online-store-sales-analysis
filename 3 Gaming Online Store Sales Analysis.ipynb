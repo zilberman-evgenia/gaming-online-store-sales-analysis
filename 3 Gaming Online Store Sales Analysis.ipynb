{
 "cells": [
  {
   "cell_type": "markdown",
   "metadata": {},
   "source": [
    "<h1 style=\"color:green; margin-bottom:15px;font-size:30px\">Gaming Online Store Sales Analysis</h1>"
   ]
  },
  {
   "cell_type": "markdown",
   "metadata": {},
   "source": [
    "# Project Description\n",
    "\n",
    "You work for an online store, which sells computer games all over the world. Historical game sales data, user and expert ratings, genres and platforms (such as Xbox or PlayStation) are available from open sources. You need to identify the patterns that determine the success of the game. This will allow you to bid on a potentially popular product and plan advertising campaigns.<br>\n",
    "\n",
    "Here is the data up to 2016. Let's say it's December 2016 and you're planning a campaign for 2017. It is necessary to work out the principle of working with data. It doesn't matter if you are forecasting 2017 sales based on 2016 data or 2027 based on 2026 data.<br>\n",
    "\n",
    "The abbreviation ESRB (Entertainment Software Rating Board) is an association that determines the age rating of computer games in the data set. "
   ]
  },
  {
   "cell_type": "markdown",
   "metadata": {},
   "source": [
    "# Contents\n",
    "<ol>\n",
    "<li>Libraries Import</li>\n",
    "<li>Data Import</li>\n",
    "<li>Data Description </li>\n",
    "<li>Data Preparation</li>\n",
    "<li>Exploratory Data Analysis</li>\n",
    "<li>Buyer Portraits</li>\n",
    "<li>Hypotheses Testing</li>\n",
    "<li>Conclusion and Recommendations</li>\n",
    "</ol>"
   ]
  },
  {
   "cell_type": "markdown",
   "metadata": {},
   "source": [
    "# 1. Libraries Import"
   ]
  },
  {
   "cell_type": "code",
   "execution_count": 1,
   "metadata": {},
   "outputs": [],
   "source": [
    "import pandas as pd\n",
    "import math\n",
    "import numpy as np\n",
    "from scipy import stats as st\n",
    "import warnings\n",
    "warnings.filterwarnings('ignore')\n",
    "import matplotlib.pyplot as plt\n",
    "import seaborn as sns"
   ]
  },
  {
   "cell_type": "markdown",
   "metadata": {},
   "source": [
    "# 2. Data Import"
   ]
  },
  {
   "cell_type": "code",
   "execution_count": 2,
   "metadata": {},
   "outputs": [
    {
     "data": {
      "text/html": [
       "<div>\n",
       "<style scoped>\n",
       "    .dataframe tbody tr th:only-of-type {\n",
       "        vertical-align: middle;\n",
       "    }\n",
       "\n",
       "    .dataframe tbody tr th {\n",
       "        vertical-align: top;\n",
       "    }\n",
       "\n",
       "    .dataframe thead th {\n",
       "        text-align: right;\n",
       "    }\n",
       "</style>\n",
       "<table border=\"1\" class=\"dataframe\">\n",
       "  <thead>\n",
       "    <tr style=\"text-align: right;\">\n",
       "      <th></th>\n",
       "      <th>Name</th>\n",
       "      <th>Platform</th>\n",
       "      <th>Year_of_Release</th>\n",
       "      <th>Genre</th>\n",
       "      <th>NA_sales</th>\n",
       "      <th>EU_sales</th>\n",
       "      <th>JP_sales</th>\n",
       "      <th>Other_sales</th>\n",
       "      <th>Critic_Score</th>\n",
       "      <th>User_Score</th>\n",
       "      <th>Rating</th>\n",
       "    </tr>\n",
       "  </thead>\n",
       "  <tbody>\n",
       "    <tr>\n",
       "      <th>0</th>\n",
       "      <td>Wii Sports</td>\n",
       "      <td>Wii</td>\n",
       "      <td>2006.0</td>\n",
       "      <td>Sports</td>\n",
       "      <td>41.36</td>\n",
       "      <td>28.96</td>\n",
       "      <td>3.77</td>\n",
       "      <td>8.45</td>\n",
       "      <td>76.0</td>\n",
       "      <td>8</td>\n",
       "      <td>E</td>\n",
       "    </tr>\n",
       "    <tr>\n",
       "      <th>1</th>\n",
       "      <td>Super Mario Bros.</td>\n",
       "      <td>NES</td>\n",
       "      <td>1985.0</td>\n",
       "      <td>Platform</td>\n",
       "      <td>29.08</td>\n",
       "      <td>3.58</td>\n",
       "      <td>6.81</td>\n",
       "      <td>0.77</td>\n",
       "      <td>NaN</td>\n",
       "      <td>NaN</td>\n",
       "      <td>NaN</td>\n",
       "    </tr>\n",
       "    <tr>\n",
       "      <th>2</th>\n",
       "      <td>Mario Kart Wii</td>\n",
       "      <td>Wii</td>\n",
       "      <td>2008.0</td>\n",
       "      <td>Racing</td>\n",
       "      <td>15.68</td>\n",
       "      <td>12.76</td>\n",
       "      <td>3.79</td>\n",
       "      <td>3.29</td>\n",
       "      <td>82.0</td>\n",
       "      <td>8.3</td>\n",
       "      <td>E</td>\n",
       "    </tr>\n",
       "    <tr>\n",
       "      <th>3</th>\n",
       "      <td>Wii Sports Resort</td>\n",
       "      <td>Wii</td>\n",
       "      <td>2009.0</td>\n",
       "      <td>Sports</td>\n",
       "      <td>15.61</td>\n",
       "      <td>10.93</td>\n",
       "      <td>3.28</td>\n",
       "      <td>2.95</td>\n",
       "      <td>80.0</td>\n",
       "      <td>8</td>\n",
       "      <td>E</td>\n",
       "    </tr>\n",
       "    <tr>\n",
       "      <th>4</th>\n",
       "      <td>Pokemon Red/Pokemon Blue</td>\n",
       "      <td>GB</td>\n",
       "      <td>1996.0</td>\n",
       "      <td>Role-Playing</td>\n",
       "      <td>11.27</td>\n",
       "      <td>8.89</td>\n",
       "      <td>10.22</td>\n",
       "      <td>1.00</td>\n",
       "      <td>NaN</td>\n",
       "      <td>NaN</td>\n",
       "      <td>NaN</td>\n",
       "    </tr>\n",
       "  </tbody>\n",
       "</table>\n",
       "</div>"
      ],
      "text/plain": [
       "                       Name Platform  Year_of_Release         Genre  NA_sales  \\\n",
       "0                Wii Sports      Wii           2006.0        Sports     41.36   \n",
       "1         Super Mario Bros.      NES           1985.0      Platform     29.08   \n",
       "2            Mario Kart Wii      Wii           2008.0        Racing     15.68   \n",
       "3         Wii Sports Resort      Wii           2009.0        Sports     15.61   \n",
       "4  Pokemon Red/Pokemon Blue       GB           1996.0  Role-Playing     11.27   \n",
       "\n",
       "   EU_sales  JP_sales  Other_sales  Critic_Score User_Score Rating  \n",
       "0     28.96      3.77         8.45          76.0          8      E  \n",
       "1      3.58      6.81         0.77           NaN        NaN    NaN  \n",
       "2     12.76      3.79         3.29          82.0        8.3      E  \n",
       "3     10.93      3.28         2.95          80.0          8      E  \n",
       "4      8.89     10.22         1.00           NaN        NaN    NaN  "
      ]
     },
     "metadata": {},
     "output_type": "display_data"
    },
    {
     "name": "stdout",
     "output_type": "stream",
     "text": [
      "<class 'pandas.core.frame.DataFrame'>\n",
      "RangeIndex: 16715 entries, 0 to 16714\n",
      "Data columns (total 11 columns):\n",
      " #   Column           Non-Null Count  Dtype  \n",
      "---  ------           --------------  -----  \n",
      " 0   Name             16713 non-null  object \n",
      " 1   Platform         16715 non-null  object \n",
      " 2   Year_of_Release  16446 non-null  float64\n",
      " 3   Genre            16713 non-null  object \n",
      " 4   NA_sales         16715 non-null  float64\n",
      " 5   EU_sales         16715 non-null  float64\n",
      " 6   JP_sales         16715 non-null  float64\n",
      " 7   Other_sales      16715 non-null  float64\n",
      " 8   Critic_Score     8137 non-null   float64\n",
      " 9   User_Score       10014 non-null  object \n",
      " 10  Rating           9949 non-null   object \n",
      "dtypes: float64(6), object(5)\n",
      "memory usage: 1.4+ MB\n"
     ]
    },
    {
     "data": {
      "text/plain": [
       "None"
      ]
     },
     "metadata": {},
     "output_type": "display_data"
    },
    {
     "data": {
      "text/html": [
       "<div>\n",
       "<style scoped>\n",
       "    .dataframe tbody tr th:only-of-type {\n",
       "        vertical-align: middle;\n",
       "    }\n",
       "\n",
       "    .dataframe tbody tr th {\n",
       "        vertical-align: top;\n",
       "    }\n",
       "\n",
       "    .dataframe thead th {\n",
       "        text-align: right;\n",
       "    }\n",
       "</style>\n",
       "<table border=\"1\" class=\"dataframe\">\n",
       "  <thead>\n",
       "    <tr style=\"text-align: right;\">\n",
       "      <th></th>\n",
       "      <th>count</th>\n",
       "      <th>mean</th>\n",
       "      <th>std</th>\n",
       "      <th>min</th>\n",
       "      <th>25%</th>\n",
       "      <th>50%</th>\n",
       "      <th>75%</th>\n",
       "      <th>max</th>\n",
       "    </tr>\n",
       "  </thead>\n",
       "  <tbody>\n",
       "    <tr>\n",
       "      <th>Year_of_Release</th>\n",
       "      <td>16446.0</td>\n",
       "      <td>2006.484616</td>\n",
       "      <td>5.877050</td>\n",
       "      <td>1980.0</td>\n",
       "      <td>2003.0</td>\n",
       "      <td>2007.00</td>\n",
       "      <td>2010.00</td>\n",
       "      <td>2016.00</td>\n",
       "    </tr>\n",
       "    <tr>\n",
       "      <th>NA_sales</th>\n",
       "      <td>16715.0</td>\n",
       "      <td>0.263377</td>\n",
       "      <td>0.813604</td>\n",
       "      <td>0.0</td>\n",
       "      <td>0.0</td>\n",
       "      <td>0.08</td>\n",
       "      <td>0.24</td>\n",
       "      <td>41.36</td>\n",
       "    </tr>\n",
       "    <tr>\n",
       "      <th>EU_sales</th>\n",
       "      <td>16715.0</td>\n",
       "      <td>0.145060</td>\n",
       "      <td>0.503339</td>\n",
       "      <td>0.0</td>\n",
       "      <td>0.0</td>\n",
       "      <td>0.02</td>\n",
       "      <td>0.11</td>\n",
       "      <td>28.96</td>\n",
       "    </tr>\n",
       "    <tr>\n",
       "      <th>JP_sales</th>\n",
       "      <td>16715.0</td>\n",
       "      <td>0.077617</td>\n",
       "      <td>0.308853</td>\n",
       "      <td>0.0</td>\n",
       "      <td>0.0</td>\n",
       "      <td>0.00</td>\n",
       "      <td>0.04</td>\n",
       "      <td>10.22</td>\n",
       "    </tr>\n",
       "    <tr>\n",
       "      <th>Other_sales</th>\n",
       "      <td>16715.0</td>\n",
       "      <td>0.047342</td>\n",
       "      <td>0.186731</td>\n",
       "      <td>0.0</td>\n",
       "      <td>0.0</td>\n",
       "      <td>0.01</td>\n",
       "      <td>0.03</td>\n",
       "      <td>10.57</td>\n",
       "    </tr>\n",
       "    <tr>\n",
       "      <th>Critic_Score</th>\n",
       "      <td>8137.0</td>\n",
       "      <td>68.967679</td>\n",
       "      <td>13.938165</td>\n",
       "      <td>13.0</td>\n",
       "      <td>60.0</td>\n",
       "      <td>71.00</td>\n",
       "      <td>79.00</td>\n",
       "      <td>98.00</td>\n",
       "    </tr>\n",
       "  </tbody>\n",
       "</table>\n",
       "</div>"
      ],
      "text/plain": [
       "                   count         mean        std     min     25%      50%  \\\n",
       "Year_of_Release  16446.0  2006.484616   5.877050  1980.0  2003.0  2007.00   \n",
       "NA_sales         16715.0     0.263377   0.813604     0.0     0.0     0.08   \n",
       "EU_sales         16715.0     0.145060   0.503339     0.0     0.0     0.02   \n",
       "JP_sales         16715.0     0.077617   0.308853     0.0     0.0     0.00   \n",
       "Other_sales      16715.0     0.047342   0.186731     0.0     0.0     0.01   \n",
       "Critic_Score      8137.0    68.967679  13.938165    13.0    60.0    71.00   \n",
       "\n",
       "                     75%      max  \n",
       "Year_of_Release  2010.00  2016.00  \n",
       "NA_sales            0.24    41.36  \n",
       "EU_sales            0.11    28.96  \n",
       "JP_sales            0.04    10.22  \n",
       "Other_sales         0.03    10.57  \n",
       "Critic_Score       79.00    98.00  "
      ]
     },
     "execution_count": 2,
     "metadata": {},
     "output_type": "execute_result"
    }
   ],
   "source": [
    "data=pd.read_csv('games.csv')\n",
    "\n",
    "display(data.head(5))\n",
    "display(data.info())\n",
    "data.describe().T"
   ]
  },
  {
   "cell_type": "markdown",
   "metadata": {},
   "source": [
    "Let's check for duplicates"
   ]
  },
  {
   "cell_type": "code",
   "execution_count": 3,
   "metadata": {},
   "outputs": [
    {
     "name": "stdout",
     "output_type": "stream",
     "text": [
      "Empty DataFrame\n",
      "Columns: [Name, Platform, Year_of_Release, Genre, NA_sales, EU_sales, JP_sales, Other_sales, Critic_Score, User_Score, Rating]\n",
      "Index: []\n"
     ]
    }
   ],
   "source": [
    "duplicates = data[data.duplicated()]\n",
    "print(duplicates)"
   ]
  },
  {
   "cell_type": "markdown",
   "metadata": {},
   "source": [
    "# 3. Data Description\n",
    "\n",
    "The dataset has incomplete data on computer games sales of online store for 2016.<br>\n",
    "The data contains 16715 games (without duplicates) and 11 variables describing them:\n",
    "\n",
    "*Text variables*\n",
    "<li> Name - game name, 16713 non-null objects</li>\n",
    "\n",
    "*Categorical variables*\n",
    "<li> Rating - ESRB rating that determines the age category of the game, 9949 non-null string objects</li>\n",
    "<li> Platform - platform, 16715 non-null string objects</li>\n",
    "<li> Year_of_Release — year of release, 16446 non-null, type: float64</li>\n",
    "<li> Genre — game genre, 16713 non-null string objects</li>\n",
    "\n",
    "*Quantitative Continuous Variables*\n",
    "<li> NA_sales - sales in North America (millions sold), 16715 non-null, type: float64</li>\n",
    "<li> EU_sales - sales in Europe (millions sold), 16715 non-null, type: float64</li>\n",
    "<li> JP_sales - sales in Japan (millions sold), 16715 non-null, type: float64</li>\n",
    "<li> Other_sales - sales in other countries (millions of copies sold), 16715 non-null, type: float64</li>\n",
    "<li> Critic_Score - Critics score (max 100), 8137 non-null, type: float64</li>\n",
    "<li> User_Score - user score (maximum 10), 10014 non-null, string objects</li>\n"
   ]
  },
  {
   "cell_type": "markdown",
   "metadata": {},
   "source": [
    "# 4. Data Preparation\n",
    "<ol>\n",
    "<li>Lowercasing the column names</li>\n",
    "<li>Dealing with gaps</li>\n",
    "<li>Converting types where needed</li>\n",
    "<li>Calculating total sales</li>\n",
    "</ol>"
   ]
  },
  {
   "cell_type": "code",
   "execution_count": 4,
   "metadata": {},
   "outputs": [
    {
     "name": "stdout",
     "output_type": "stream",
     "text": [
      "Checking for gap values\n",
      "name                  2\n",
      "platform              0\n",
      "year_of_release     269\n",
      "genre                 2\n",
      "na_sales              0\n",
      "eu_sales              0\n",
      "jp_sales              0\n",
      "other_sales           0\n",
      "critic_score       8578\n",
      "user_score         6701\n",
      "rating             6766\n",
      "dtype: int64\n"
     ]
    }
   ],
   "source": [
    "data.columns = data.columns.str.lower()\n",
    "print('Checking for gap values')\n",
    "print(data.isna().sum())"
   ]
  },
  {
   "cell_type": "markdown",
   "metadata": {},
   "source": [
    "Removing 2 games with names missing"
   ]
  },
  {
   "cell_type": "code",
   "execution_count": 5,
   "metadata": {},
   "outputs": [],
   "source": [
    "data['name'].fillna(0, inplace=True)\n",
    "data.drop(data[data['name'] == 0].index, inplace=True)\n",
    "data = data.reset_index(drop=True) "
   ]
  },
  {
   "cell_type": "markdown",
   "metadata": {},
   "source": [
    "The gaps in critic_score (8578), year_of_release (269), user_score (6701), rating (6766) and the \"tbd\" value in the user_score variable can be explained by the fact that the data taken from the open sources has not been updated since it was imported into the store's database. <br>\n",
    "\n",
    "Let's remove all gaps in the year_of_release values (1.6% of the dataset).<br>\n",
    "\n",
    "Let's replace all gaps in the values of critic_score (8578), user_score (6701) with zeros.<br>\n",
    "Let's replace all the \"tbd\" values in the user_score variable with 0 as well.<br>\n",
    "\n",
    "Let's convert critic_score, year_of_release to an integer type, user_score to a float type, and leave the rating unchanged.<br>\n",
    "\n",
    "In future, we will work with the data subsets necessary to solve each specific problem, and we will keep in mind these zeros and gaps so that they won't affect the results of the analysis.<br>"
   ]
  },
  {
   "cell_type": "code",
   "execution_count": 6,
   "metadata": {},
   "outputs": [],
   "source": [
    "data['critic_score'].fillna(0, inplace=True)\n",
    "data['year_of_release'].fillna(0, inplace=True)\n",
    "data['user_score'].fillna(0, inplace=True)\n",
    "data.loc[data['user_score'] == 'tbd', 'user_score'] = 0\n",
    "\n",
    "data.dropna(subset=['year_of_release'])\n",
    "\n",
    "data['critic_score'] = data['critic_score'].astype('int64')\n",
    "data['year_of_release'] = data['year_of_release'].astype('int64')\n",
    "data['user_score'] = data['user_score'].astype('float64')"
   ]
  },
  {
   "cell_type": "markdown",
   "metadata": {},
   "source": [
    "Checking the values of platform, genre и rating"
   ]
  },
  {
   "cell_type": "code",
   "execution_count": 7,
   "metadata": {},
   "outputs": [
    {
     "name": "stdout",
     "output_type": "stream",
     "text": [
      "8\n",
      "E       3990\n",
      "T       2961\n",
      "M       1563\n",
      "E10+    1420\n",
      "EC         8\n",
      "RP         3\n",
      "K-A        3\n",
      "AO         1\n",
      "Name: rating, dtype: int64\n"
     ]
    }
   ],
   "source": [
    "print(data['rating'].value_counts().count())\n",
    "print(data['rating'].value_counts())"
   ]
  },
  {
   "cell_type": "code",
   "execution_count": 8,
   "metadata": {},
   "outputs": [
    {
     "name": "stdout",
     "output_type": "stream",
     "text": [
      "31\n",
      "PS2     2161\n",
      "DS      2151\n",
      "PS3     1331\n",
      "Wii     1320\n",
      "X360    1262\n",
      "PSP     1209\n",
      "PS      1197\n",
      "PC       974\n",
      "XB       824\n",
      "GBA      822\n",
      "GC       556\n",
      "3DS      520\n",
      "PSV      430\n",
      "PS4      392\n",
      "N64      319\n",
      "XOne     247\n",
      "SNES     239\n",
      "SAT      173\n",
      "WiiU     147\n",
      "2600     133\n",
      "NES       98\n",
      "GB        98\n",
      "DC        52\n",
      "GEN       27\n",
      "NG        12\n",
      "WS         6\n",
      "SCD        6\n",
      "3DO        3\n",
      "TG16       2\n",
      "PCFX       1\n",
      "GG         1\n",
      "Name: platform, dtype: int64\n"
     ]
    }
   ],
   "source": [
    "print(data['platform'].value_counts().count())\n",
    "print(data['platform'].value_counts())"
   ]
  },
  {
   "cell_type": "code",
   "execution_count": 9,
   "metadata": {},
   "outputs": [
    {
     "name": "stdout",
     "output_type": "stream",
     "text": [
      "12\n",
      "Action          3369\n",
      "Sports          2348\n",
      "Misc            1750\n",
      "Role-Playing    1498\n",
      "Shooter         1323\n",
      "Adventure       1303\n",
      "Racing          1249\n",
      "Platform         888\n",
      "Simulation       873\n",
      "Fighting         849\n",
      "Strategy         683\n",
      "Puzzle           580\n",
      "Name: genre, dtype: int64\n"
     ]
    }
   ],
   "source": [
    "print(data['genre'].value_counts().count())\n",
    "print(data['genre'].value_counts())"
   ]
  },
  {
   "cell_type": "markdown",
   "metadata": {},
   "source": [
    "The data contains games in 12 genres and 8 age categories released on 31 platforms. <br>\n",
    "There are no missing values, garbage or duplicates among genres and platforms. <br>\n",
    "Among the age categories there is no garbage and duplicates. <br>"
   ]
  },
  {
   "cell_type": "markdown",
   "metadata": {},
   "source": [
    "From the 75% percentile and the maximum for each sales measure, we can see that the game data contains outliers with extremely high sales. Let's experimentally determine the alpha sales threshold for eu_sales, jp_sales, other_sales (and 2 alpha for na_sales, as for all stats, sales in the states are on average twice as high as in the other regions) to remove no more than 2% of the data. We will remove them from the dataset so that they won't affect the analysis."
   ]
  },
  {
   "cell_type": "code",
   "execution_count": 10,
   "metadata": {},
   "outputs": [
    {
     "name": "stdout",
     "output_type": "stream",
     "text": [
      "Values in the dataset: 16713\n",
      "Alpha threshold  1.4\n",
      "Outliers in na_sales at a given threshold 1%\n",
      "Outliers in eu_sales at a given threshold 2%\n",
      "Outliers in jp_sales at a given threshold 1%\n",
      "Outliers in other_sales at a given threshold 0%\n",
      "98%\n"
     ]
    }
   ],
   "source": [
    "data.describe().T\n",
    "\n",
    "alpha = 1.4\n",
    "\n",
    "a = len(data)\n",
    "print ('Values in the dataset: {}'.format(a))\n",
    "print ('Alpha threshold  {}'.format(alpha))\n",
    "\n",
    "sample = data.loc[data['na_sales'] > alpha*2]\n",
    "print ('Outliers in na_sales at a given threshold {:.0%}'.format(len(sample)/a))\n",
    "\n",
    "sample = data.loc[data['eu_sales'] > alpha]\n",
    "print ('Outliers in eu_sales at a given threshold {:.0%}'.format(len(sample)/a))\n",
    "\n",
    "sample = data.loc[data['jp_sales'] > alpha]\n",
    "print ('Outliers in jp_sales at a given threshold {:.0%}'.format(len(sample)/a))\n",
    "\n",
    "sample = data.loc[data['other_sales'] > alpha]\n",
    "print ('Outliers in other_sales at a given threshold {:.0%}'.format(len(sample)/a))\n",
    "\n",
    "data.drop(data[data['na_sales'] > alpha*2].index, inplace=True)\n",
    "data.drop(data[data['eu_sales'] > alpha].index, inplace=True)\n",
    "data.drop(data[data['jp_sales'] > alpha].index, inplace=True)\n",
    "data.drop(data[data['other_sales'] > alpha].index, inplace=True)\n",
    "data = data.reset_index(drop=True)\n",
    "\n",
    "b = len(data)\n",
    "\n",
    "print ('{:.0%}'.format(b/a))"
   ]
  },
  {
   "cell_type": "markdown",
   "metadata": {},
   "source": [
    "Calculating total sales for all regions:"
   ]
  },
  {
   "cell_type": "code",
   "execution_count": 11,
   "metadata": {},
   "outputs": [],
   "source": [
    "data['total_sales'] = data['na_sales'] + data['eu_sales'] + data['jp_sales'] + data['other_sales']"
   ]
  },
  {
   "cell_type": "code",
   "execution_count": 12,
   "metadata": {},
   "outputs": [
    {
     "name": "stdout",
     "output_type": "stream",
     "text": [
      "Dataset successfully preprocessed\n"
     ]
    },
    {
     "data": {
      "text/html": [
       "<div>\n",
       "<style scoped>\n",
       "    .dataframe tbody tr th:only-of-type {\n",
       "        vertical-align: middle;\n",
       "    }\n",
       "\n",
       "    .dataframe tbody tr th {\n",
       "        vertical-align: top;\n",
       "    }\n",
       "\n",
       "    .dataframe thead th {\n",
       "        text-align: right;\n",
       "    }\n",
       "</style>\n",
       "<table border=\"1\" class=\"dataframe\">\n",
       "  <thead>\n",
       "    <tr style=\"text-align: right;\">\n",
       "      <th></th>\n",
       "      <th>name</th>\n",
       "      <th>platform</th>\n",
       "      <th>year_of_release</th>\n",
       "      <th>genre</th>\n",
       "      <th>na_sales</th>\n",
       "      <th>eu_sales</th>\n",
       "      <th>jp_sales</th>\n",
       "      <th>other_sales</th>\n",
       "      <th>critic_score</th>\n",
       "      <th>user_score</th>\n",
       "      <th>rating</th>\n",
       "      <th>total_sales</th>\n",
       "    </tr>\n",
       "  </thead>\n",
       "  <tbody>\n",
       "    <tr>\n",
       "      <th>0</th>\n",
       "      <td>New Super Mario Bros. U</td>\n",
       "      <td>WiiU</td>\n",
       "      <td>2012</td>\n",
       "      <td>Platform</td>\n",
       "      <td>2.30</td>\n",
       "      <td>1.34</td>\n",
       "      <td>1.27</td>\n",
       "      <td>0.32</td>\n",
       "      <td>84</td>\n",
       "      <td>8.1</td>\n",
       "      <td>E</td>\n",
       "      <td>5.23</td>\n",
       "    </tr>\n",
       "    <tr>\n",
       "      <th>1</th>\n",
       "      <td>Resident Evil</td>\n",
       "      <td>PS</td>\n",
       "      <td>1996</td>\n",
       "      <td>Action</td>\n",
       "      <td>2.05</td>\n",
       "      <td>1.16</td>\n",
       "      <td>1.11</td>\n",
       "      <td>0.73</td>\n",
       "      <td>91</td>\n",
       "      <td>9.0</td>\n",
       "      <td>M</td>\n",
       "      <td>5.05</td>\n",
       "    </tr>\n",
       "    <tr>\n",
       "      <th>2</th>\n",
       "      <td>Super Smash Bros. for Wii U and 3DS</td>\n",
       "      <td>WiiU</td>\n",
       "      <td>2014</td>\n",
       "      <td>Fighting</td>\n",
       "      <td>2.60</td>\n",
       "      <td>1.08</td>\n",
       "      <td>0.81</td>\n",
       "      <td>0.38</td>\n",
       "      <td>0</td>\n",
       "      <td>0.0</td>\n",
       "      <td>NaN</td>\n",
       "      <td>4.87</td>\n",
       "    </tr>\n",
       "    <tr>\n",
       "      <th>3</th>\n",
       "      <td>God of War III</td>\n",
       "      <td>PS3</td>\n",
       "      <td>2010</td>\n",
       "      <td>Action</td>\n",
       "      <td>2.74</td>\n",
       "      <td>1.33</td>\n",
       "      <td>0.12</td>\n",
       "      <td>0.61</td>\n",
       "      <td>92</td>\n",
       "      <td>8.7</td>\n",
       "      <td>M</td>\n",
       "      <td>4.80</td>\n",
       "    </tr>\n",
       "    <tr>\n",
       "      <th>4</th>\n",
       "      <td>Animal Crossing: City Folk</td>\n",
       "      <td>Wii</td>\n",
       "      <td>2008</td>\n",
       "      <td>Simulation</td>\n",
       "      <td>1.82</td>\n",
       "      <td>1.12</td>\n",
       "      <td>1.32</td>\n",
       "      <td>0.36</td>\n",
       "      <td>73</td>\n",
       "      <td>7.6</td>\n",
       "      <td>E</td>\n",
       "      <td>4.62</td>\n",
       "    </tr>\n",
       "  </tbody>\n",
       "</table>\n",
       "</div>"
      ],
      "text/plain": [
       "                                  name platform  year_of_release       genre  \\\n",
       "0              New Super Mario Bros. U     WiiU             2012    Platform   \n",
       "1                        Resident Evil       PS             1996      Action   \n",
       "2  Super Smash Bros. for Wii U and 3DS     WiiU             2014    Fighting   \n",
       "3                       God of War III      PS3             2010      Action   \n",
       "4           Animal Crossing: City Folk      Wii             2008  Simulation   \n",
       "\n",
       "   na_sales  eu_sales  jp_sales  other_sales  critic_score  user_score rating  \\\n",
       "0      2.30      1.34      1.27         0.32            84         8.1      E   \n",
       "1      2.05      1.16      1.11         0.73            91         9.0      M   \n",
       "2      2.60      1.08      0.81         0.38             0         0.0    NaN   \n",
       "3      2.74      1.33      0.12         0.61            92         8.7      M   \n",
       "4      1.82      1.12      1.32         0.36            73         7.6      E   \n",
       "\n",
       "   total_sales  \n",
       "0         5.23  \n",
       "1         5.05  \n",
       "2         4.87  \n",
       "3         4.80  \n",
       "4         4.62  "
      ]
     },
     "metadata": {},
     "output_type": "display_data"
    },
    {
     "name": "stdout",
     "output_type": "stream",
     "text": [
      "name                  0\n",
      "platform              0\n",
      "year_of_release       0\n",
      "genre                 0\n",
      "na_sales              0\n",
      "eu_sales              0\n",
      "jp_sales              0\n",
      "other_sales           0\n",
      "critic_score          0\n",
      "user_score            0\n",
      "rating             6615\n",
      "total_sales           0\n",
      "dtype: int64\n"
     ]
    }
   ],
   "source": [
    "print('Dataset successfully preprocessed')\n",
    "display(data.head(5))\n",
    "print(data.isna().sum())"
   ]
  },
  {
   "cell_type": "code",
   "execution_count": 13,
   "metadata": {},
   "outputs": [
    {
     "data": {
      "text/html": [
       "<div>\n",
       "<style scoped>\n",
       "    .dataframe tbody tr th:only-of-type {\n",
       "        vertical-align: middle;\n",
       "    }\n",
       "\n",
       "    .dataframe tbody tr th {\n",
       "        vertical-align: top;\n",
       "    }\n",
       "\n",
       "    .dataframe thead th {\n",
       "        text-align: right;\n",
       "    }\n",
       "</style>\n",
       "<table border=\"1\" class=\"dataframe\">\n",
       "  <thead>\n",
       "    <tr style=\"text-align: right;\">\n",
       "      <th></th>\n",
       "      <th>count</th>\n",
       "      <th>mean</th>\n",
       "      <th>std</th>\n",
       "      <th>min</th>\n",
       "      <th>25%</th>\n",
       "      <th>50%</th>\n",
       "      <th>75%</th>\n",
       "      <th>max</th>\n",
       "    </tr>\n",
       "  </thead>\n",
       "  <tbody>\n",
       "    <tr>\n",
       "      <th>year_of_release</th>\n",
       "      <td>16315.0</td>\n",
       "      <td>1973.707141</td>\n",
       "      <td>254.654620</td>\n",
       "      <td>0.0</td>\n",
       "      <td>2003.00</td>\n",
       "      <td>2007.00</td>\n",
       "      <td>2010.00</td>\n",
       "      <td>2016.00</td>\n",
       "    </tr>\n",
       "    <tr>\n",
       "      <th>na_sales</th>\n",
       "      <td>16315.0</td>\n",
       "      <td>0.194807</td>\n",
       "      <td>0.337319</td>\n",
       "      <td>0.0</td>\n",
       "      <td>0.00</td>\n",
       "      <td>0.07</td>\n",
       "      <td>0.22</td>\n",
       "      <td>2.78</td>\n",
       "    </tr>\n",
       "    <tr>\n",
       "      <th>eu_sales</th>\n",
       "      <td>16315.0</td>\n",
       "      <td>0.097671</td>\n",
       "      <td>0.191494</td>\n",
       "      <td>0.0</td>\n",
       "      <td>0.00</td>\n",
       "      <td>0.02</td>\n",
       "      <td>0.10</td>\n",
       "      <td>1.40</td>\n",
       "    </tr>\n",
       "    <tr>\n",
       "      <th>jp_sales</th>\n",
       "      <td>16315.0</td>\n",
       "      <td>0.052712</td>\n",
       "      <td>0.144466</td>\n",
       "      <td>0.0</td>\n",
       "      <td>0.00</td>\n",
       "      <td>0.00</td>\n",
       "      <td>0.03</td>\n",
       "      <td>1.40</td>\n",
       "    </tr>\n",
       "    <tr>\n",
       "      <th>other_sales</th>\n",
       "      <td>16315.0</td>\n",
       "      <td>0.032521</td>\n",
       "      <td>0.070535</td>\n",
       "      <td>0.0</td>\n",
       "      <td>0.00</td>\n",
       "      <td>0.01</td>\n",
       "      <td>0.03</td>\n",
       "      <td>1.33</td>\n",
       "    </tr>\n",
       "    <tr>\n",
       "      <th>critic_score</th>\n",
       "      <td>16315.0</td>\n",
       "      <td>33.132700</td>\n",
       "      <td>35.537699</td>\n",
       "      <td>0.0</td>\n",
       "      <td>0.00</td>\n",
       "      <td>0.00</td>\n",
       "      <td>70.00</td>\n",
       "      <td>98.00</td>\n",
       "    </tr>\n",
       "    <tr>\n",
       "      <th>user_score</th>\n",
       "      <td>16315.0</td>\n",
       "      <td>3.200221</td>\n",
       "      <td>3.678112</td>\n",
       "      <td>0.0</td>\n",
       "      <td>0.00</td>\n",
       "      <td>0.00</td>\n",
       "      <td>7.30</td>\n",
       "      <td>9.70</td>\n",
       "    </tr>\n",
       "    <tr>\n",
       "      <th>total_sales</th>\n",
       "      <td>16315.0</td>\n",
       "      <td>0.377711</td>\n",
       "      <td>0.567418</td>\n",
       "      <td>0.0</td>\n",
       "      <td>0.06</td>\n",
       "      <td>0.16</td>\n",
       "      <td>0.43</td>\n",
       "      <td>5.23</td>\n",
       "    </tr>\n",
       "  </tbody>\n",
       "</table>\n",
       "</div>"
      ],
      "text/plain": [
       "                   count         mean         std  min      25%      50%  \\\n",
       "year_of_release  16315.0  1973.707141  254.654620  0.0  2003.00  2007.00   \n",
       "na_sales         16315.0     0.194807    0.337319  0.0     0.00     0.07   \n",
       "eu_sales         16315.0     0.097671    0.191494  0.0     0.00     0.02   \n",
       "jp_sales         16315.0     0.052712    0.144466  0.0     0.00     0.00   \n",
       "other_sales      16315.0     0.032521    0.070535  0.0     0.00     0.01   \n",
       "critic_score     16315.0    33.132700   35.537699  0.0     0.00     0.00   \n",
       "user_score       16315.0     3.200221    3.678112  0.0     0.00     0.00   \n",
       "total_sales      16315.0     0.377711    0.567418  0.0     0.06     0.16   \n",
       "\n",
       "                     75%      max  \n",
       "year_of_release  2010.00  2016.00  \n",
       "na_sales            0.22     2.78  \n",
       "eu_sales            0.10     1.40  \n",
       "jp_sales            0.03     1.40  \n",
       "other_sales         0.03     1.33  \n",
       "critic_score       70.00    98.00  \n",
       "user_score          7.30     9.70  \n",
       "total_sales         0.43     5.23  "
      ]
     },
     "execution_count": 13,
     "metadata": {},
     "output_type": "execute_result"
    }
   ],
   "source": [
    "data.describe().T"
   ]
  },
  {
   "cell_type": "markdown",
   "metadata": {},
   "source": [
    "# 5. Exploratory Data Analysis\n",
    "<ol>\n",
    "<li>How many games were released over the years. Is data for all periods important?</li>\n",
    "<li>Analyse the platforms with the highest total sales. How long does it take for new platforms to appear and old ones to disappear?</li>\n",
    "<li>Which platforms are leading in sales, and which are getting more or less popular? Choose a few potentially profitable platforms.</li>\n",
    "<li>Plot a boxplots of global game sales by platform. </li>\n",
    "<li>How sales within one popular platform are affected by user and critic reviews. Plot a scatterplot and calculate the correlation between reviews and sales. </li>\n",
    "<li>Look at the overall distribution of games by genre. What about the most profitable genres? </li>\n",
    "</ol>"
   ]
  },
  {
   "cell_type": "code",
   "execution_count": 14,
   "metadata": {},
   "outputs": [
    {
     "name": "stdout",
     "output_type": "stream",
     "text": [
      "Games released before 1994 4%\n"
     ]
    },
    {
     "data": {
      "image/png": "[encoded data removed]",
      "text/plain": [
       "<Figure size 432x288 with 1 Axes>"
      ]
     },
     "metadata": {
      "needs_background": "light"
     },
     "output_type": "display_data"
    }
   ],
   "source": [
    "data.pivot_table(index='year_of_release', values='name', aggfunc='count').sort_values(by='year_of_release',ascending=True).plot(kind='bar', label='games').set(xlabel='Year', ylabel='Number of Games in mln')\n",
    "plt.legend([\"games\"])\n",
    "plt.title('Number of Games Sold Per Year: 1980-2016')\n",
    "\n",
    "sample = data.loc[data['year_of_release'] < 1994]\n",
    "print ('Games released before 1994 {:.0%}'.format(len(sample)/len(data)))\n",
    "data.drop(data[data['year_of_release'] < 1994].index, inplace=True)"
   ]
  },
  {
   "cell_type": "markdown",
   "metadata": {},
   "source": [
    "The distribution of the number of released games by year is similar to normal distribution.<br>\n",
    "The release peak falls on 2008-2009 (about 1400 games each). <br>We've removed all games released before 1994 (2% of data). <br>Now the observation period contains 13 years: 1994 - 2016."
   ]
  },
  {
   "cell_type": "code",
   "execution_count": 15,
   "metadata": {},
   "outputs": [
    {
     "data": {
      "text/plain": [
       "Text(0.5, 1.0, 'Number of Games Sold Per Year: 1994-2016')"
      ]
     },
     "execution_count": 15,
     "metadata": {},
     "output_type": "execute_result"
    },
    {
     "data": {
      "image/png": "[encoded data removed]",
      "text/plain": [
       "<Figure size 432x288 with 1 Axes>"
      ]
     },
     "metadata": {
      "needs_background": "light"
     },
     "output_type": "display_data"
    }
   ],
   "source": [
    "data.pivot_table(index='year_of_release', values='name', aggfunc='count').sort_values(by='year_of_release',ascending=True).plot(kind='bar').set(xlabel='Year', ylabel='Number of Games in mln')\n",
    "plt.legend([\"games\"])\n",
    "plt.title('Number of Games Sold Per Year: 1994-2016')"
   ]
  },
  {
   "cell_type": "markdown",
   "metadata": {},
   "source": [
    "Let's see how sales are changing from platform to platform."
   ]
  },
  {
   "cell_type": "code",
   "execution_count": 16,
   "metadata": {},
   "outputs": [
    {
     "data": {
      "text/plain": [
       "Text(0.5, 1.0, 'Total Sales in mln copies per Platform: 1994-2016')"
      ]
     },
     "execution_count": 16,
     "metadata": {},
     "output_type": "execute_result"
    },
    {
     "data": {
      "image/png": "[encoded data removed]",
      "text/plain": [
       "<Figure size 432x288 with 1 Axes>"
      ]
     },
     "metadata": {
      "needs_background": "light"
     },
     "output_type": "display_data"
    }
   ],
   "source": [
    "data.pivot_table(index='platform', values='total_sales', aggfunc='sum').sort_values(by='total_sales',ascending=False).plot(kind='bar').set(xlabel='Year', ylabel='Total Sales in mln copies')\n",
    "plt.legend([\"Total Sales in mln copies\"])\n",
    "plt.title('Total Sales in mln copies per Platform: 1994-2016')"
   ]
  },
  {
   "cell_type": "markdown",
   "metadata": {},
   "source": [
    "Let's choose 6 platforms with the highest total sales and plot the distribution by years."
   ]
  },
  {
   "cell_type": "code",
   "execution_count": 17,
   "metadata": {},
   "outputs": [
    {
     "data": {
      "text/html": [
       "<div>\n",
       "<style scoped>\n",
       "    .dataframe tbody tr th:only-of-type {\n",
       "        vertical-align: middle;\n",
       "    }\n",
       "\n",
       "    .dataframe tbody tr th {\n",
       "        vertical-align: top;\n",
       "    }\n",
       "\n",
       "    .dataframe thead th {\n",
       "        text-align: right;\n",
       "    }\n",
       "</style>\n",
       "<table border=\"1\" class=\"dataframe\">\n",
       "  <thead>\n",
       "    <tr style=\"text-align: right;\">\n",
       "      <th></th>\n",
       "      <th>total_sales</th>\n",
       "    </tr>\n",
       "    <tr>\n",
       "      <th>platform</th>\n",
       "      <th></th>\n",
       "    </tr>\n",
       "  </thead>\n",
       "  <tbody>\n",
       "    <tr>\n",
       "      <th>PS2</th>\n",
       "      <td>972.41</td>\n",
       "    </tr>\n",
       "    <tr>\n",
       "      <th>X360</th>\n",
       "      <td>653.71</td>\n",
       "    </tr>\n",
       "    <tr>\n",
       "      <th>PS3</th>\n",
       "      <td>646.20</td>\n",
       "    </tr>\n",
       "    <tr>\n",
       "      <th>PS</th>\n",
       "      <td>531.99</td>\n",
       "    </tr>\n",
       "    <tr>\n",
       "      <th>DS</th>\n",
       "      <td>509.89</td>\n",
       "    </tr>\n",
       "    <tr>\n",
       "      <th>Wii</th>\n",
       "      <td>497.18</td>\n",
       "    </tr>\n",
       "  </tbody>\n",
       "</table>\n",
       "</div>"
      ],
      "text/plain": [
       "          total_sales\n",
       "platform             \n",
       "PS2            972.41\n",
       "X360           653.71\n",
       "PS3            646.20\n",
       "PS             531.99\n",
       "DS             509.89\n",
       "Wii            497.18"
      ]
     },
     "execution_count": 17,
     "metadata": {},
     "output_type": "execute_result"
    }
   ],
   "source": [
    "data.pivot_table(index='platform', values='total_sales', aggfunc='sum').sort_values(by='total_sales',ascending=False).head(6)"
   ]
  },
  {
   "cell_type": "markdown",
   "metadata": {},
   "source": [
    "Top selling platforms in 13 years of observation: PS2, X360, PS3, PS, DS, Wii.<br>\n",
    "There are 3 PlayStation platforms among top 6 platforms."
   ]
  },
  {
   "cell_type": "code",
   "execution_count": 18,
   "metadata": {
    "scrolled": false
   },
   "outputs": [
    {
     "data": {
      "image/png": "[encoded data removed]",
      "text/plain": [
       "<Figure size 432x288 with 1 Axes>"
      ]
     },
     "metadata": {
      "needs_background": "light"
     },
     "output_type": "display_data"
    },
    {
     "data": {
      "image/png": "[encoded data removed]",
      "text/plain": [
       "<Figure size 432x288 with 1 Axes>"
      ]
     },
     "metadata": {
      "needs_background": "light"
     },
     "output_type": "display_data"
    },
    {
     "data": {
      "image/png": "[encoded data removed]",
      "text/plain": [
       "<Figure size 432x288 with 1 Axes>"
      ]
     },
     "metadata": {
      "needs_background": "light"
     },
     "output_type": "display_data"
    },
    {
     "data": {
      "image/png": "[encoded data removed]",
      "text/plain": [
       "<Figure size 432x288 with 1 Axes>"
      ]
     },
     "metadata": {
      "needs_background": "light"
     },
     "output_type": "display_data"
    },
    {
     "data": {
      "image/png": "[encoded data removed]",
      "text/plain": [
       "<Figure size 432x288 with 1 Axes>"
      ]
     },
     "metadata": {
      "needs_background": "light"
     },
     "output_type": "display_data"
    },
    {
     "data": {
      "image/png": "[encoded data removed]",
      "text/plain": [
       "<Figure size 432x288 with 1 Axes>"
      ]
     },
     "metadata": {
      "needs_background": "light"
     },
     "output_type": "display_data"
    }
   ],
   "source": [
    "# Код ревьюера\n",
    "\n",
    "platform_list = ['PS2','X360','PS3','PS','DS','Wii']\n",
    "\n",
    "for pl in platform_list:\n",
    "    data.loc[data['platform'] == pl].pivot_table(index='year_of_release', values='total_sales', aggfunc='sum').sort_values(by='year_of_release',ascending=True).plot(kind='bar').set(xlabel='Year', ylabel='Total Sales in mln copies')\n",
    "    plt.title(pl + ': Total Sales per Year: 1994-2016')"
   ]
  },
  {
   "cell_type": "markdown",
   "metadata": {},
   "source": [
    "The graphs show that total sales in popular platforms first grow, reach a peak, and then fall.<br>\n",
    "The life cycle of a gaming platform is 10-11 years. Platforms reach peak sales in 5-6 years.<br>\n",
    "New PS platforms are released every 6 years, just after the previous platform's peak sales has ended."
   ]
  },
  {
   "cell_type": "markdown",
   "metadata": {},
   "source": [
    "Let's introduce the actual_data variable with data for 2011-2016, it will help us show what phase of the life cycle the platforms are at in 2016"
   ]
  },
  {
   "cell_type": "code",
   "execution_count": 19,
   "metadata": {
    "scrolled": false
   },
   "outputs": [
    {
     "data": {
      "text/plain": [
       "3921"
      ]
     },
     "execution_count": 19,
     "metadata": {},
     "output_type": "execute_result"
    }
   ],
   "source": [
    "actual_data = data.loc[data['year_of_release'] > 2010]\n",
    "len(actual_data)"
   ]
  },
  {
   "cell_type": "markdown",
   "metadata": {
    "scrolled": false
   },
   "source": [
    "Let's build global sales graphs by years for all platforms"
   ]
  },
  {
   "cell_type": "code",
   "execution_count": 20,
   "metadata": {},
   "outputs": [
    {
     "data": {
      "text/plain": [
       "Text(0.5, 1.0, 'Total Sales per Platform per Year: 2011-2016')"
      ]
     },
     "execution_count": 20,
     "metadata": {},
     "output_type": "execute_result"
    },
    {
     "data": {
      "image/png": "[encoded data removed]",
      "text/plain": [
       "<Figure size 864x432 with 1 Axes>"
      ]
     },
     "metadata": {
      "needs_background": "light"
     },
     "output_type": "display_data"
    }
   ],
   "source": [
    "pivot = actual_data.pivot_table(index=['year_of_release', 'platform'], values='total_sales', aggfunc='sum')\n",
    "pivot = pivot.reset_index()\n",
    "\n",
    "plt.figure(figsize=(12, 6))\n",
    "sns.lineplot(x='year_of_release', y='total_sales', hue='platform', data=pivot)\n",
    "plt.xlabel('Year',fontsize=16)\n",
    "plt.ylabel('Total Sales in mln copies',fontsize=16)\n",
    "plt.title('Total Sales per Platform per Year: 2011-2016')"
   ]
  },
  {
   "cell_type": "code",
   "execution_count": 21,
   "metadata": {},
   "outputs": [
    {
     "name": "stdout",
     "output_type": "stream",
     "text": [
      "    year_of_release platform  total_sales\n",
      "52             2016      PS4        43.92\n",
      "57             2016     XOne        23.50\n",
      "49             2016      3DS         8.00\n",
      "50             2016       PC         5.25\n",
      "55             2016     WiiU         4.60\n",
      "53             2016      PSV         4.25\n",
      "51             2016      PS3         3.60\n",
      "56             2016     X360         1.52\n",
      "54             2016      Wii         0.18\n"
     ]
    }
   ],
   "source": [
    "print(pivot.loc[pivot['year_of_release'] == 2016].sort_values(by='total_sales',ascending=False))"
   ]
  },
  {
   "cell_type": "markdown",
   "metadata": {},
   "source": [
    "Judging by the graphs, the sales peak for all platforms from our dataset has already passed in 2016, all platforms are falling and there are no promising platforms. The most popular platfroms in 2016 are PS4 (43.92 million copies) and XOne (23.50 million copies)."
   ]
  },
  {
   "cell_type": "markdown",
   "metadata": {},
   "source": [
    "Let's build boxplots of total sales by platform."
   ]
  },
  {
   "cell_type": "code",
   "execution_count": 22,
   "metadata": {},
   "outputs": [
    {
     "data": {
      "text/plain": [
       "Text(0.5, 1.0, 'Total Sales per Platform: 2011-2016')"
      ]
     },
     "execution_count": 22,
     "metadata": {},
     "output_type": "execute_result"
    },
    {
     "data": {
      "image/png": "[encoded data removed]",
      "text/plain": [
       "<Figure size 864x648 with 1 Axes>"
      ]
     },
     "metadata": {
      "needs_background": "light"
     },
     "output_type": "display_data"
    }
   ],
   "source": [
    "plt.figure(figsize=(12, 9))\n",
    "sns.boxplot(x='platform', y='total_sales', data = actual_data)\n",
    "plt.xlabel('Platform',fontsize=16)\n",
    "plt.ylabel('Total Sales',fontsize=16)\n",
    "plt.title('Total Sales per Platform: 2011-2016')"
   ]
  },
  {
   "cell_type": "markdown",
   "metadata": {},
   "source": [
    "The outliers show that all platforms (except PS2) have successful games with abnormally high sales.<br>\n",
    "From 2011 to 2016, X360, XOne, PS4, PS3, and WiiU lead global sales. And 3DS, PC, DS, PSP, PSV, PS2 are lagging behind."
   ]
  },
  {
   "cell_type": "markdown",
   "metadata": {},
   "source": [
    "Let's see how the user reviews and critic reviews affect the sales of X360 games. Let's build a scatterplot and calculate the correlation between reviews and sales."
   ]
  },
  {
   "cell_type": "code",
   "execution_count": 23,
   "metadata": {},
   "outputs": [
    {
     "name": "stdout",
     "output_type": "stream",
     "text": [
      "0.5069976994422002\n",
      "0.2192067275514546\n"
     ]
    },
    {
     "data": {
      "image/png": "[encoded data removed]",
      "text/plain": [
       "<Figure size 432x288 with 1 Axes>"
      ]
     },
     "metadata": {
      "needs_background": "light"
     },
     "output_type": "display_data"
    },
    {
     "data": {
      "image/png": "[encoded data removed]",
      "text/plain": [
       "<Figure size 432x288 with 1 Axes>"
      ]
     },
     "metadata": {
      "needs_background": "light"
     },
     "output_type": "display_data"
    }
   ],
   "source": [
    "x360_critic = data.loc[(data['platform'] == 'X360') & (data['critic_score'] > 0)]\n",
    "x360_user = data.loc[(data['platform'] == 'X360') & (data['user_score'] > 0)]\n",
    "\n",
    "x360_critic.plot(x='critic_score', y='total_sales', kind='scatter').set(xlabel='Critic Score', ylabel='Total Sales')\n",
    "plt.title('X360: Total Sales per Critic Score, 1994-2016: Scatter Plot')\n",
    "\n",
    "x360_user.plot(x='user_score', y='total_sales', kind='scatter').set(xlabel='User Score', ylabel='Total Sales')\n",
    "plt.title('X360: Total Sales per User Score, 1994-2016: Scatter Plot')\n",
    "\n",
    "print(x360_critic['critic_score'].corr(x360_critic['total_sales']))\n",
    "print(x360_user['user_score'].corr(x360_user['total_sales']))\n"
   ]
  },
  {
   "cell_type": "markdown",
   "metadata": {},
   "source": [
    "There is a weak direct correlation between user reviews (0.22) and X360 game sales and a 2.3 times stronger correlation between critic reviews (0.5) and X360 game sales."
   ]
  },
  {
   "cell_type": "markdown",
   "metadata": {},
   "source": [
    "Let's also check 2 popular platforms (XOne, PS4) and 2 unpopular platforms (DS, PSP) for the correlation of reviews and sales."
   ]
  },
  {
   "cell_type": "code",
   "execution_count": 24,
   "metadata": {},
   "outputs": [
    {
     "name": "stdout",
     "output_type": "stream",
     "text": [
      "0.395623364019281\n",
      "-0.04645477316353189\n"
     ]
    },
    {
     "data": {
      "image/png": "[encoded data removed]",
      "text/plain": [
       "<Figure size 432x288 with 1 Axes>"
      ]
     },
     "metadata": {
      "needs_background": "light"
     },
     "output_type": "display_data"
    },
    {
     "data": {
      "image/png": "[encoded data removed]",
      "text/plain": [
       "<Figure size 432x288 with 1 Axes>"
      ]
     },
     "metadata": {
      "needs_background": "light"
     },
     "output_type": "display_data"
    }
   ],
   "source": [
    "xone_critic = data.loc[(data['platform'] == 'XOne') & (data['critic_score'] > 0)]\n",
    "xone_user = data.loc[(data['platform'] == 'XOne') & (data['user_score'] > 0)]\n",
    "\n",
    "xone_critic.plot(x='critic_score', y='total_sales', kind='scatter')\n",
    "plt.title('XOne: Total Sales per Critic Score, 1994-2016: Scatter Plot')\n",
    "\n",
    "xone_user.plot(x='user_score', y='total_sales', kind='scatter')\n",
    "plt.title('XOne: Total Sales per Critic Score, 1994-2016: Scatter Plot')\n",
    "\n",
    "print(xone_critic['critic_score'].corr(xone_critic['total_sales']))\n",
    "print(xone_user['user_score'].corr(xone_user['total_sales']))"
   ]
  },
  {
   "cell_type": "code",
   "execution_count": 25,
   "metadata": {},
   "outputs": [
    {
     "name": "stdout",
     "output_type": "stream",
     "text": [
      "0.3698834664826908\n",
      "0.031040425773764993\n"
     ]
    },
    {
     "data": {
      "image/png": "[encoded data removed]",
      "text/plain": [
       "<Figure size 432x288 with 1 Axes>"
      ]
     },
     "metadata": {
      "needs_background": "light"
     },
     "output_type": "display_data"
    },
    {
     "data": {
      "image/png": "[encoded data removed]",
      "text/plain": [
       "<Figure size 432x288 with 1 Axes>"
      ]
     },
     "metadata": {
      "needs_background": "light"
     },
     "output_type": "display_data"
    }
   ],
   "source": [
    "ps4_critic = data.loc[(data['platform'] == 'PS4') & (data['critic_score'] > 0)]\n",
    "ps4_user = data.loc[(data['platform'] == 'PS4') & (data['user_score'] > 0)]\n",
    "\n",
    "ps4_critic.plot(x='critic_score', y='total_sales', kind='scatter')\n",
    "plt.title('PS4: Total Sales per Critic Score, 1994-2016: Scatter Plot')\n",
    "\n",
    "ps4_user.plot(x='user_score', y='total_sales', kind='scatter')\n",
    "plt.title('PS4: Total Sales per Critic Score, 1994-2016: Scatter Plot')\n",
    "\n",
    "print(ps4_critic['critic_score'].corr(ps4_critic['total_sales']))\n",
    "print(ps4_user['user_score'].corr(ps4_user['total_sales']))"
   ]
  },
  {
   "cell_type": "code",
   "execution_count": 26,
   "metadata": {},
   "outputs": [
    {
     "name": "stdout",
     "output_type": "stream",
     "text": [
      "0.2615722331795648\n",
      "0.1250894164871944\n"
     ]
    },
    {
     "data": {
      "image/png": "[encoded data removed]",
      "text/plain": [
       "<Figure size 432x288 with 1 Axes>"
      ]
     },
     "metadata": {
      "needs_background": "light"
     },
     "output_type": "display_data"
    },
    {
     "data": {
      "image/png": "[encoded data removed]",
      "text/plain": [
       "<Figure size 432x288 with 1 Axes>"
      ]
     },
     "metadata": {
      "needs_background": "light"
     },
     "output_type": "display_data"
    }
   ],
   "source": [
    "ds_critic = data.loc[(data['platform'] == 'DS') & (data['critic_score'] > 0)]\n",
    "ds_user = data.loc[(data['platform'] == 'DS') & (data['user_score'] > 0)]\n",
    "\n",
    "ds_critic.plot(x='critic_score', y='total_sales', kind='scatter')\n",
    "plt.title('DS: Total Sales per Critic Score, 1994-2016: Scatter Plot')\n",
    "\n",
    "ds_user.plot(x='user_score', y='total_sales', kind='scatter')\n",
    "plt.title('DS: Total Sales per Critic Score, 1994-2016: Scatter Plot')\n",
    "\n",
    "print(ds_critic['critic_score'].corr(ds_critic['total_sales']))\n",
    "print(ds_user['user_score'].corr(ds_user['total_sales']))"
   ]
  },
  {
   "cell_type": "code",
   "execution_count": 27,
   "metadata": {},
   "outputs": [
    {
     "name": "stdout",
     "output_type": "stream",
     "text": [
      "0.31949406685350046\n",
      "0.24123733273773734\n"
     ]
    },
    {
     "data": {
      "image/png": "[encoded data removed]",
      "text/plain": [
       "<Figure size 432x288 with 1 Axes>"
      ]
     },
     "metadata": {
      "needs_background": "light"
     },
     "output_type": "display_data"
    },
    {
     "data": {
      "image/png": "[encoded data removed]",
      "text/plain": [
       "<Figure size 432x288 with 1 Axes>"
      ]
     },
     "metadata": {
      "needs_background": "light"
     },
     "output_type": "display_data"
    }
   ],
   "source": [
    "psp_critic = data.loc[(data['platform'] == 'PSP') & (data['critic_score'] > 0)]\n",
    "psp_user = data.loc[(data['platform'] == 'PSP') & (data['user_score'] > 0)]\n",
    "\n",
    "psp_critic.plot(x='critic_score', y='total_sales', kind='scatter')\n",
    "plt.title('PSP: Total Sales per Critic Score, 1994-2016: Scatter Plot')\n",
    "\n",
    "psp_user.plot(x='user_score', y='total_sales', kind='scatter')\n",
    "plt.title('PSP: Total Sales per Critic Score, 1994-2016: Scatter Plot')\n",
    "\n",
    "print(psp_critic['critic_score'].corr(psp_critic['total_sales']))\n",
    "print(psp_user['user_score'].corr(psp_user['total_sales']))"
   ]
  },
  {
   "cell_type": "markdown",
   "metadata": {},
   "source": [
    "Weak direct correlation (from 0.26 to 0.4) between critic reviews and total sales can be seen among both more popular and less popular platforms. Total sales do not always correlate with user reviews, and when they do, there is a weak direct correlation (between 0.125 and 0.31). It's better to focus on critic reviews once trying to predict future sales."
   ]
  },
  {
   "cell_type": "markdown",
   "metadata": {},
   "source": [
    "Let's look at the distribution of total sales by genre"
   ]
  },
  {
   "cell_type": "code",
   "execution_count": 28,
   "metadata": {},
   "outputs": [
    {
     "name": "stdout",
     "output_type": "stream",
     "text": [
      "              total_sales\n",
      "genre                    \n",
      "Action            1243.62\n",
      "Sports             911.41\n",
      "Shooter            604.85\n",
      "Misc               545.57\n",
      "Role-Playing       517.69\n",
      "Racing             465.83\n",
      "Platform           403.68\n",
      "Fighting           354.85\n",
      "Simulation         291.10\n",
      "Adventure          197.47\n",
      "Strategy           149.34\n",
      "Puzzle             132.22\n"
     ]
    },
    {
     "data": {
      "text/plain": [
       "Text(0.5, 1.0, 'Total Sales per Genre: 1994-2016')"
      ]
     },
     "execution_count": 28,
     "metadata": {},
     "output_type": "execute_result"
    },
    {
     "data": {
      "image/png": "[encoded data removed]",
      "text/plain": [
       "<Figure size 432x288 with 1 Axes>"
      ]
     },
     "metadata": {
      "needs_background": "light"
     },
     "output_type": "display_data"
    }
   ],
   "source": [
    "genre_pivot = data.pivot_table(index='genre', values='total_sales', aggfunc='sum')\n",
    "print(genre_pivot.sort_values(by='total_sales',ascending=False))\n",
    "\n",
    "genre_pivot.sort_values(by='total_sales',ascending=False).plot(kind='bar').set(xlabel='Genre', ylabel='Total Sales')\n",
    "plt.title('Total Sales per Genre: 1994-2016')"
   ]
  },
  {
   "cell_type": "markdown",
   "metadata": {},
   "source": [
    "Action is the most popular genre (907.24 million copies sold) over 13 years of observation (1994 - 2016).\n",
    "It is followed by Sports (602.06 million copies sold) and Shooter (503.92 million copies sold).\n",
    "The most unpopular genres are Adventure (84.88 million), Strategy (73.51 million) and Puzzle (52.23 million)."
   ]
  },
  {
   "cell_type": "markdown",
   "metadata": {},
   "source": [
    "# 6. User Portraits\n",
    "\n",
    "Let's define for each region (NA, EU, JP):\n",
    "<ol>\n",
    "<li>Most popular platforms (top 5)</li>\n",
    "<li>Most popular genres (top 5)</li>\n",
    "<li>Does the ESRB rating affect sales in a particular region?</li>\n",
    "</ol>"
   ]
  },
  {
   "cell_type": "code",
   "execution_count": 29,
   "metadata": {},
   "outputs": [
    {
     "name": "stdout",
     "output_type": "stream",
     "text": [
      "Top-5 platfroms in North America by total sales\n",
      "platform\n",
      "PS2     466.70\n",
      "X360    410.15\n",
      "Wii     298.13\n",
      "PS3     286.21\n",
      "DS      284.11\n",
      "Name: na_sales, dtype: float64\n",
      "\n",
      "Топ-5 genres in North America by total sales\n",
      "genre\n",
      "Action     634.26\n",
      "Sports     527.11\n",
      "Shooter    332.02\n",
      "Misc       288.10\n",
      "Racing     249.86\n",
      "Name: na_sales, dtype: float64\n",
      "Top-5 ESRB categories in North America by total sales\n",
      "\n",
      "rating\n",
      "E       939.88\n",
      "T       627.99\n",
      "M       431.47\n",
      "E10+    314.14\n",
      "K-A       2.30\n",
      "Name: na_sales, dtype: float64\n"
     ]
    }
   ],
   "source": [
    "print('Top-5 platfroms in North America by total sales')\n",
    "print(data.groupby('platform')['na_sales'].sum().sort_values(ascending=False).head(5))\n",
    "print()\n",
    "print('Топ-5 genres in North America by total sales')\n",
    "print(data.groupby('genre')['na_sales'].sum().sort_values(ascending=False).head(5))\n",
    "print('Top-5 ESRB categories in North America by total sales')\n",
    "print()\n",
    "print(data.groupby('rating')['na_sales'].sum().sort_values(ascending=False).head(5))"
   ]
  },
  {
   "cell_type": "code",
   "execution_count": 30,
   "metadata": {},
   "outputs": [
    {
     "name": "stdout",
     "output_type": "stream",
     "text": [
      "Top-5 platfroms in Europe by total sales\n",
      "platform\n",
      "PS2     263.82\n",
      "PS3     205.79\n",
      "X360    176.57\n",
      "PS      146.95\n",
      "Wii     126.54\n",
      "Name: eu_sales, dtype: float64\n",
      "\n",
      "Топ-5 genres in Europe by total sales\n",
      "genre\n",
      "Action     366.33\n",
      "Sports     217.22\n",
      "Shooter    189.87\n",
      "Racing     151.04\n",
      "Misc       136.28\n",
      "Name: eu_sales, dtype: float64\n",
      "\n",
      "Top-5 ESRB categories in Europe by total sales\n",
      "rating\n",
      "E       397.22\n",
      "T       329.29\n",
      "M       277.15\n",
      "E10+    163.74\n",
      "AO        0.61\n",
      "Name: eu_sales, dtype: float64\n"
     ]
    }
   ],
   "source": [
    "print('Top-5 platfroms in Europe by total sales')\n",
    "print(data.groupby('platform')['eu_sales'].sum().sort_values(ascending=False).head(5))\n",
    "print()\n",
    "print('Топ-5 genres in Europe by total sales')\n",
    "print(data.groupby('genre')['eu_sales'].sum().sort_values(ascending=False).head(5))\n",
    "print()\n",
    "print('Top-5 ESRB categories in Europe by total sales')\n",
    "print(data.groupby('rating')['eu_sales'].sum().sort_values(ascending=False).head(5))"
   ]
  },
  {
   "cell_type": "code",
   "execution_count": 31,
   "metadata": {},
   "outputs": [
    {
     "name": "stdout",
     "output_type": "stream",
     "text": [
      "Top-5 platfroms in Japan by total sales\n",
      "platform\n",
      "PS2    111.53\n",
      "PS     102.03\n",
      "DS      97.46\n",
      "PS3     65.86\n",
      "PSP     64.42\n",
      "Name: jp_sales, dtype: float64\n",
      "\n",
      "Топ-5 genres in Japan by total sales\n",
      "genre\n",
      "Role-Playing    182.28\n",
      "Action          120.19\n",
      "Sports           83.86\n",
      "Misc             69.31\n",
      "Fighting         60.07\n",
      "Name: jp_sales, dtype: float64\n",
      "\n",
      "Top-5 ESRB categories in Japan by total sales\n",
      "rating\n",
      "T       107.59\n",
      "E        92.86\n",
      "M        44.48\n",
      "E10+     31.08\n",
      "AO        0.00\n",
      "Name: jp_sales, dtype: float64\n"
     ]
    }
   ],
   "source": [
    "print('Top-5 platfroms in Japan by total sales')\n",
    "print(data.groupby('platform')['jp_sales'].sum().sort_values(ascending=False).head(5))\n",
    "print()\n",
    "print('Топ-5 genres in Japan by total sales')\n",
    "print(data.groupby('genre')['jp_sales'].sum().sort_values(ascending=False).head(5))\n",
    "print()\n",
    "print('Top-5 ESRB categories in Japan by total sales')\n",
    "print(data.groupby('rating')['jp_sales'].sum().sort_values(ascending=False).head(5))"
   ]
  },
  {
   "cell_type": "markdown",
   "metadata": {},
   "source": [
    "Top platforms and genres for each region over 13 years of observation can be seen above. <br>\n",
    "\n",
    "The user profiles of North America and Europe are similar, NA and EU users prefer to play on PS2, X360, PS3 platforms and Action, Shooter, Sports.<br>\n",
    "\n",
    "Users from Japan play on PS2, PS3 and DS and prefer Role-Playing, Action and Fighting genres.<br>\n",
    "\n",
    "ESRB Game rating also affects sales. All popular games have one of 4 ratings T (for teens), E (for everyone), M (for adults) or E10+ (from 10 and up). But if in Europe and North America the most popular games are rated E (for everyone), then in Japan the most popular games are rated T - Teens."
   ]
  },
  {
   "cell_type": "markdown",
   "metadata": {},
   "source": [
    "# 7.1 Hypothesis Testing\n",
    "\n",
    "*Null Hypothesis:* The average user ratings of Xbox One and PC platforms are the same.<br>\n",
    "*Alternative Hypothesis:* The average user ratings of Xbox One and PC platforms are different.\n",
    "    \n",
    "The threshold value of alpha is 0.01 (99% accuracy)"
   ]
  },
  {
   "cell_type": "code",
   "execution_count": 32,
   "metadata": {},
   "outputs": [
    {
     "name": "stdout",
     "output_type": "stream",
     "text": [
      "p-value: 2.600707076324785e-10\n",
      "Rejecting the null hypothesis\n"
     ]
    }
   ],
   "source": [
    "data.drop(data[data['user_score'] == 0].index, inplace=True)\n",
    "\n",
    "ps = data['platform'].isin(['PS','PS2','PS3','PSP','PS4','PSV'])\n",
    "xbox = data['platform'].isin(['XOne','X360','XB'])\n",
    "  \n",
    "alpha = 0.01\n",
    "\n",
    "results = st.ttest_ind(data[ps]['user_score'], data[xbox]['user_score'])\n",
    "\n",
    "print('p-value:', results.pvalue)\n",
    "\n",
    "if results.pvalue < alpha:\n",
    "    print('Rejecting the null hypothesis')\n",
    "else:\n",
    "    print('Failed to reject null hypothesis') "
   ]
  },
  {
   "cell_type": "markdown",
   "metadata": {},
   "source": [
    "*Conclusion:* In 99% of cases the average user ratings of Xbox One and PC platforms are different"
   ]
  },
  {
   "cell_type": "markdown",
   "metadata": {},
   "source": [
    "# 7.2 Hypothesis Testing\n",
    "\n",
    "*Null Hypothesis:* The average user ratings for Actions and Sports are the same.<br>\n",
    "*Alternative Hypothesis:* The average user ratings for Actions and Sports are different.\n",
    "    \n",
    "The threshold value of alpha is 0.01 (99% accuracy)"
   ]
  },
  {
   "cell_type": "code",
   "execution_count": 33,
   "metadata": {},
   "outputs": [
    {
     "name": "stdout",
     "output_type": "stream",
     "text": [
      "p-value: 0.21628830752649442\n",
      "Failed to reject null hypothesis\n"
     ]
    }
   ],
   "source": [
    "data.drop(data[data['user_score'] == 0].index, inplace=True)\n",
    "\n",
    "action = data[data['genre']=='Action']\n",
    "sports = data[data['genre']=='Sports']\n",
    "\n",
    "alpha = 0.01\n",
    "\n",
    "results = st.ttest_ind(action['user_score'], sports['user_score'])\n",
    "\n",
    "print('p-value:', results.pvalue)\n",
    "\n",
    "if results.pvalue < alpha:\n",
    "    print('Rejecting the null hypothesis')\n",
    "else:\n",
    "    print('Failed to reject null hypothesis') "
   ]
  },
  {
   "cell_type": "markdown",
   "metadata": {},
   "source": [
    "*Conclusion:* In 99% of cases the average user ratings for Actions and Sports are the same"
   ]
  },
  {
   "cell_type": "markdown",
   "metadata": {},
   "source": [
    "# 8. Conclusion and Recommendations"
   ]
  },
  {
   "cell_type": "markdown",
   "metadata": {},
   "source": [
    "<ol>\n",
    "<li>The data contains games in 12 genres and 8 age categories released on 31 platforms. <br>\n",
    "\n",
    "<li>The distribution of the number of released games by year is similar to normal distribution.\n",
    "The release peak falls on 2008-2009 (about 1400 games each).</li>\n",
    "\n",
    "<li>The graphs show that total sales in popular platforms first grow, reach a peak, and then fall.\n",
    "The life cycle of a gaming platform is 10-11 years. Platforms reach peak sales in 5-6 years.\n",
    "New PS platforms are released every 6 years, just after the previous platform's peak sales has ended.</li>\n",
    "    \n",
    "<li>Sales peak for all platforms from our dataset has already passed in 2016, all platforms are falling and there are no promising platforms. The most popular platfroms in 2016 are PS4 (43.92 million copies) and XOne (23.50 million copies).</li>\n",
    "\n",
    "<li>From 2011 to 2016, X360, XOne, PS4, PS3, and WiiU lead the global sales. And 3DS, PC, DS, PSP, PSV, PS2 are lagging behind. All platforms (except PS2) have successful games with abnormally high sales.</li>\n",
    "\n",
    "<li>Weak direct correlation (from 0.21 to 0.41) between reviews and global sales is observed among both more popular and less popular platforms.</li>\n",
    "\n",
    "<li>Action is the most popular genre (907.24 million copies sold) over 13 years of observation (1994 - 2016).\n",
    "It is followed by Sports (602.06 million copies sold) and Shooter (503.92 million copies sold).\n",
    "The most unpopular genres are Adventure (84.88 million), Strategy (73.51 million) and Puzzle (52.23 million).</li>\n",
    "\n",
    "<li>North American and European user portraits are similar. Both those and others prefer PS2, X360, PS3 platforms and Action, Shooter and Sports genres. Japanese users play on PS2, PS3 and DS and prefer Role-Playing, Action and Fighting genres.</li>\n",
    "\n",
    "<li>ESRB Game ratings also affect sales. All popular games have one of 4 ratings T (for teens), E (for everyone), M (for adults) or E10+ (from 10 and up). But while in Europe and North America the most popular games are rated E (for everyone), in Japan the most popular games are rated T - Teens.</li>\n",
    "\n",
    "<li>In 99% of cases the average user ratings of the Xbox One and PC platforms are different</li>\n",
    "    \n",
    "<li>In 99% of cases the average user ratings of the Action and Sports genres are the same</li>\n",
    "    \n",
    "<li>If I worked for this online store in 2017, I would purchase and advertise games for X360, XOne, PS4, PS3 and WiiU in  Action, Sports and Shooter genres (with rating above E10 +) and would start preparing for the release of new XBox and Play Station platforms.</li>\n",
    "    \n",
    "</ol>"
   ]
  },
  {
   "cell_type": "code",
   "execution_count": null,
   "metadata": {},
   "outputs": [],
   "source": []
  }
 ],
 "metadata": {
  "ExecuteTimeLog": [
   {
    "duration": 1070,
    "start_time": "2021-09-11T08:05:45.466Z"
   },
   {
    "duration": 541,
    "start_time": "2021-09-11T08:14:53.140Z"
   },
   {
    "duration": 99,
    "start_time": "2021-09-11T08:15:25.695Z"
   },
   {
    "duration": 219,
    "start_time": "2021-09-11T16:44:14.761Z"
   },
   {
    "duration": 171,
    "start_time": "2021-09-11T16:44:21.635Z"
   },
   {
    "duration": 871,
    "start_time": "2021-09-11T16:44:26.635Z"
   },
   {
    "duration": 215,
    "start_time": "2021-09-11T16:44:30.830Z"
   },
   {
    "duration": 901,
    "start_time": "2021-09-11T16:44:45.507Z"
   },
   {
    "duration": 242,
    "start_time": "2021-09-11T16:44:46.410Z"
   },
   {
    "duration": 86,
    "start_time": "2021-09-11T16:45:05.589Z"
   },
   {
    "duration": 76,
    "start_time": "2021-09-11T16:56:37.117Z"
   },
   {
    "duration": 265,
    "start_time": "2021-09-11T16:57:50.264Z"
   },
   {
    "duration": 250,
    "start_time": "2021-09-11T16:58:10.965Z"
   },
   {
    "duration": 872,
    "start_time": "2021-09-11T16:58:52.850Z"
   },
   {
    "duration": 87,
    "start_time": "2021-09-11T16:58:53.724Z"
   },
   {
    "duration": 1484,
    "start_time": "2021-09-11T16:58:53.813Z"
   },
   {
    "duration": 1180,
    "start_time": "2021-09-12T11:54:59.012Z"
   },
   {
    "duration": 129,
    "start_time": "2021-09-12T11:55:00.195Z"
   },
   {
    "duration": 427,
    "start_time": "2021-09-12T11:55:00.328Z"
   },
   {
    "duration": 11,
    "start_time": "2021-09-12T11:55:12.692Z"
   },
   {
    "duration": 10,
    "start_time": "2021-09-12T11:55:41.433Z"
   },
   {
    "duration": 15,
    "start_time": "2021-09-12T11:55:58.419Z"
   },
   {
    "duration": 14,
    "start_time": "2021-09-12T11:56:26.116Z"
   },
   {
    "duration": 15,
    "start_time": "2021-09-12T11:58:55.783Z"
   },
   {
    "duration": 18,
    "start_time": "2021-09-12T11:59:56.730Z"
   },
   {
    "duration": 307,
    "start_time": "2021-09-12T12:03:16.229Z"
   },
   {
    "duration": 1177,
    "start_time": "2021-09-12T12:03:34.811Z"
   },
   {
    "duration": 129,
    "start_time": "2021-09-12T12:03:35.990Z"
   },
   {
    "duration": 401,
    "start_time": "2021-09-12T12:03:36.121Z"
   },
   {
    "duration": 23,
    "start_time": "2021-09-12T12:04:06.938Z"
   },
   {
    "duration": 23,
    "start_time": "2021-09-12T12:14:32.983Z"
   },
   {
    "duration": 28,
    "start_time": "2021-09-12T12:14:55.407Z"
   },
   {
    "duration": 38,
    "start_time": "2021-09-12T12:15:50.798Z"
   },
   {
    "duration": 38,
    "start_time": "2021-09-12T12:16:52.271Z"
   },
   {
    "duration": 1182,
    "start_time": "2021-09-12T12:17:17.799Z"
   },
   {
    "duration": 130,
    "start_time": "2021-09-12T12:17:18.984Z"
   },
   {
    "duration": 4220,
    "start_time": "2021-09-12T12:17:19.116Z"
   },
   {
    "duration": 3669,
    "start_time": "2021-09-12T12:18:45.631Z"
   },
   {
    "duration": 1169,
    "start_time": "2021-09-12T12:18:53.611Z"
   },
   {
    "duration": 130,
    "start_time": "2021-09-12T12:18:54.783Z"
   },
   {
    "duration": 54,
    "start_time": "2021-09-12T12:18:54.916Z"
   },
   {
    "duration": 38,
    "start_time": "2021-09-12T12:19:32.611Z"
   },
   {
    "duration": 111,
    "start_time": "2021-09-12T12:20:20.875Z"
   },
   {
    "duration": 329,
    "start_time": "2021-09-12T12:20:46.350Z"
   },
   {
    "duration": 38,
    "start_time": "2021-09-12T12:21:06.654Z"
   },
   {
    "duration": 41,
    "start_time": "2021-09-12T12:22:01.516Z"
   },
   {
    "duration": 7679,
    "start_time": "2021-09-12T12:29:42.186Z"
   },
   {
    "duration": 12,
    "start_time": "2021-09-12T12:31:08.457Z"
   },
   {
    "duration": 1521,
    "start_time": "2021-09-12T12:31:21.163Z"
   },
   {
    "duration": 128,
    "start_time": "2021-09-12T12:31:22.687Z"
   },
   {
    "duration": 11,
    "start_time": "2021-09-12T12:31:22.818Z"
   },
   {
    "duration": 1557,
    "start_time": "2021-09-12T12:32:05.443Z"
   },
   {
    "duration": 129,
    "start_time": "2021-09-12T12:32:07.002Z"
   },
   {
    "duration": 11,
    "start_time": "2021-09-12T12:32:07.134Z"
   },
   {
    "duration": 1576,
    "start_time": "2021-09-12T12:32:38.505Z"
   },
   {
    "duration": 136,
    "start_time": "2021-09-12T12:32:40.084Z"
   },
   {
    "duration": 12,
    "start_time": "2021-09-12T12:32:40.223Z"
   },
   {
    "duration": 39866,
    "start_time": "2021-09-12T12:32:40.237Z"
   },
   {
    "duration": 1626,
    "start_time": "2021-09-12T12:36:37.054Z"
   },
   {
    "duration": 134,
    "start_time": "2021-09-12T12:36:38.683Z"
   },
   {
    "duration": 13,
    "start_time": "2021-09-12T12:36:38.821Z"
   },
   {
    "duration": 37766,
    "start_time": "2021-09-12T12:36:38.837Z"
   },
   {
    "duration": 33,
    "start_time": "2021-09-12T12:39:37.375Z"
   },
   {
    "duration": 1205,
    "start_time": "2021-09-12T12:44:54.379Z"
   },
   {
    "duration": 134,
    "start_time": "2021-09-12T12:44:55.587Z"
   },
   {
    "duration": 12,
    "start_time": "2021-09-12T12:44:55.724Z"
   },
   {
    "duration": 54,
    "start_time": "2021-09-12T12:44:55.739Z"
   },
   {
    "duration": 13,
    "start_time": "2021-09-12T12:49:50.452Z"
   },
   {
    "duration": 1234,
    "start_time": "2021-09-12T12:49:56.350Z"
   },
   {
    "duration": 133,
    "start_time": "2021-09-12T12:49:57.587Z"
   },
   {
    "duration": 12,
    "start_time": "2021-09-12T12:49:57.722Z"
   },
   {
    "duration": 55,
    "start_time": "2021-09-12T12:49:57.736Z"
   },
   {
    "duration": 10,
    "start_time": "2021-09-12T12:51:04.994Z"
   },
   {
    "duration": 8,
    "start_time": "2021-09-12T12:51:30.669Z"
   },
   {
    "duration": 368,
    "start_time": "2021-09-12T12:52:12.316Z"
   },
   {
    "duration": 8,
    "start_time": "2021-09-12T12:52:29.573Z"
   },
   {
    "duration": 113,
    "start_time": "2021-09-12T12:53:04.174Z"
   },
   {
    "duration": 9,
    "start_time": "2021-09-12T12:53:07.526Z"
   },
   {
    "duration": 13,
    "start_time": "2021-09-12T12:53:22.916Z"
   },
   {
    "duration": 11,
    "start_time": "2021-09-12T12:55:52.517Z"
   },
   {
    "duration": 19,
    "start_time": "2021-09-12T12:58:49.413Z"
   },
   {
    "duration": 20,
    "start_time": "2021-09-12T13:00:40.397Z"
   },
   {
    "duration": 27,
    "start_time": "2021-09-12T13:03:14.105Z"
   },
   {
    "duration": 116,
    "start_time": "2021-09-12T13:08:02.192Z"
   },
   {
    "duration": 103,
    "start_time": "2021-09-12T13:08:14.543Z"
   },
   {
    "duration": 6473,
    "start_time": "2021-09-12T13:09:50.029Z"
   },
   {
    "duration": 1223,
    "start_time": "2021-09-12T13:10:03.758Z"
   },
   {
    "duration": 132,
    "start_time": "2021-09-12T13:10:04.984Z"
   },
   {
    "duration": 12,
    "start_time": "2021-09-12T13:10:05.119Z"
   },
   {
    "duration": 67,
    "start_time": "2021-09-12T13:10:05.134Z"
   },
   {
    "duration": 109,
    "start_time": "2021-09-12T13:10:05.204Z"
   },
   {
    "duration": 414,
    "start_time": "2021-09-12T13:10:05.315Z"
   },
   {
    "duration": 395,
    "start_time": "2021-09-12T13:10:05.336Z"
   },
   {
    "duration": 297,
    "start_time": "2021-09-12T13:11:02.273Z"
   },
   {
    "duration": 7220,
    "start_time": "2021-09-12T13:16:46.382Z"
   },
   {
    "duration": 1264,
    "start_time": "2021-09-12T13:18:12.119Z"
   },
   {
    "duration": 125,
    "start_time": "2021-09-12T13:18:13.386Z"
   },
   {
    "duration": 12,
    "start_time": "2021-09-12T13:18:13.514Z"
   },
   {
    "duration": 61,
    "start_time": "2021-09-12T13:18:13.529Z"
   },
   {
    "duration": 108,
    "start_time": "2021-09-12T13:18:13.592Z"
   },
   {
    "duration": 418,
    "start_time": "2021-09-12T13:18:13.703Z"
   },
   {
    "duration": 330,
    "start_time": "2021-09-12T13:18:13.794Z"
   },
   {
    "duration": 726,
    "start_time": "2021-09-12T13:18:40.484Z"
   },
   {
    "duration": 2170,
    "start_time": "2021-09-12T13:19:14.109Z"
   },
   {
    "duration": 2346,
    "start_time": "2021-09-12T13:19:38.116Z"
   },
   {
    "duration": 2220,
    "start_time": "2021-09-12T13:20:01.041Z"
   },
   {
    "duration": 2301,
    "start_time": "2021-09-12T13:20:17.455Z"
   },
   {
    "duration": 6457,
    "start_time": "2021-09-12T13:20:45.755Z"
   },
   {
    "duration": 1230,
    "start_time": "2021-09-12T13:23:29.451Z"
   },
   {
    "duration": 132,
    "start_time": "2021-09-12T13:23:30.684Z"
   },
   {
    "duration": 12,
    "start_time": "2021-09-12T13:23:30.819Z"
   },
   {
    "duration": 43,
    "start_time": "2021-09-12T13:23:30.834Z"
   },
   {
    "duration": 55,
    "start_time": "2021-09-12T13:23:30.879Z"
   },
   {
    "duration": 24,
    "start_time": "2021-09-12T13:23:30.936Z"
   },
   {
    "duration": 105,
    "start_time": "2021-09-12T13:23:30.963Z"
   },
   {
    "duration": 6778,
    "start_time": "2021-09-12T13:23:31.072Z"
   },
   {
    "duration": 319,
    "start_time": "2021-09-12T13:23:37.534Z"
   },
   {
    "duration": 1192,
    "start_time": "2021-09-12T13:26:27.187Z"
   },
   {
    "duration": 135,
    "start_time": "2021-09-12T13:26:28.381Z"
   },
   {
    "duration": 14,
    "start_time": "2021-09-12T13:26:28.520Z"
   },
   {
    "duration": 27,
    "start_time": "2021-09-12T13:26:28.566Z"
   },
   {
    "duration": 28,
    "start_time": "2021-09-12T13:26:28.595Z"
   },
   {
    "duration": 108,
    "start_time": "2021-09-12T13:26:28.626Z"
   },
   {
    "duration": 6680,
    "start_time": "2021-09-12T13:26:28.736Z"
   },
   {
    "duration": 344,
    "start_time": "2021-09-12T13:26:35.075Z"
   },
   {
    "duration": 1193,
    "start_time": "2021-09-12T13:28:20.897Z"
   },
   {
    "duration": 133,
    "start_time": "2021-09-12T13:28:22.092Z"
   },
   {
    "duration": 42,
    "start_time": "2021-09-12T13:28:22.229Z"
   },
   {
    "duration": 16,
    "start_time": "2021-09-12T13:28:22.275Z"
   },
   {
    "duration": 27,
    "start_time": "2021-09-12T13:28:22.293Z"
   },
   {
    "duration": 93,
    "start_time": "2021-09-12T13:28:22.323Z"
   },
   {
    "duration": 52,
    "start_time": "2021-09-12T13:28:22.419Z"
   },
   {
    "duration": 402,
    "start_time": "2021-09-12T13:28:22.475Z"
   },
   {
    "duration": 54,
    "start_time": "2021-09-12T13:29:21.306Z"
   },
   {
    "duration": 27,
    "start_time": "2021-09-12T13:29:26.700Z"
   },
   {
    "duration": 1225,
    "start_time": "2021-09-12T13:55:20.544Z"
   },
   {
    "duration": 133,
    "start_time": "2021-09-12T13:55:21.772Z"
   },
   {
    "duration": 12,
    "start_time": "2021-09-12T13:55:21.908Z"
   },
   {
    "duration": 14,
    "start_time": "2021-09-12T13:55:21.923Z"
   },
   {
    "duration": 38,
    "start_time": "2021-09-12T13:55:21.939Z"
   },
   {
    "duration": 30,
    "start_time": "2021-09-12T13:55:21.980Z"
   },
   {
    "duration": 55,
    "start_time": "2021-09-12T13:55:22.013Z"
   },
   {
    "duration": 378,
    "start_time": "2021-09-12T13:55:22.072Z"
   },
   {
    "duration": 1225,
    "start_time": "2021-09-12T13:58:10.356Z"
   },
   {
    "duration": 139,
    "start_time": "2021-09-12T13:58:11.583Z"
   },
   {
    "duration": 11,
    "start_time": "2021-09-12T13:58:11.725Z"
   },
   {
    "duration": 39,
    "start_time": "2021-09-12T13:58:11.739Z"
   },
   {
    "duration": 17,
    "start_time": "2021-09-12T13:58:11.780Z"
   },
   {
    "duration": 27,
    "start_time": "2021-09-12T13:58:11.799Z"
   },
   {
    "duration": 13,
    "start_time": "2021-09-12T13:58:11.829Z"
   },
   {
    "duration": 30,
    "start_time": "2021-09-12T13:58:11.867Z"
   },
   {
    "duration": 2989,
    "start_time": "2021-09-12T13:58:11.899Z"
   },
   {
    "duration": 1407,
    "start_time": "2021-09-12T13:59:58.480Z"
   },
   {
    "duration": 129,
    "start_time": "2021-09-12T13:59:59.890Z"
   },
   {
    "duration": 13,
    "start_time": "2021-09-12T14:00:00.024Z"
   },
   {
    "duration": 41,
    "start_time": "2021-09-12T14:00:00.040Z"
   },
   {
    "duration": 18,
    "start_time": "2021-09-12T14:00:00.083Z"
   },
   {
    "duration": 12,
    "start_time": "2021-09-12T14:00:00.104Z"
   },
   {
    "duration": 27,
    "start_time": "2021-09-12T14:00:00.119Z"
   },
   {
    "duration": 45,
    "start_time": "2021-09-12T14:00:00.149Z"
   },
   {
    "duration": 3111,
    "start_time": "2021-09-12T14:00:00.197Z"
   },
   {
    "duration": 3,
    "start_time": "2021-09-12T14:03:05.149Z"
   },
   {
    "duration": 1045,
    "start_time": "2021-09-12T18:20:44.879Z"
   },
   {
    "duration": 92,
    "start_time": "2021-09-12T18:20:45.926Z"
   },
   {
    "duration": 9,
    "start_time": "2021-09-12T18:20:46.020Z"
   },
   {
    "duration": 10,
    "start_time": "2021-09-12T18:20:46.031Z"
   },
   {
    "duration": 10,
    "start_time": "2021-09-12T18:20:46.043Z"
   },
   {
    "duration": 2,
    "start_time": "2021-09-12T18:20:46.055Z"
   },
   {
    "duration": 7,
    "start_time": "2021-09-12T18:20:46.091Z"
   },
   {
    "duration": 19,
    "start_time": "2021-09-12T18:20:46.101Z"
   },
   {
    "duration": 1638,
    "start_time": "2021-09-12T18:20:46.123Z"
   },
   {
    "duration": 33,
    "start_time": "2021-09-12T18:38:54.228Z"
   },
   {
    "duration": 18,
    "start_time": "2021-09-12T18:39:00.254Z"
   },
   {
    "duration": 7193,
    "start_time": "2021-09-12T18:46:38.562Z"
   },
   {
    "duration": 6571,
    "start_time": "2021-09-12T18:47:06.838Z"
   },
   {
    "duration": 7050,
    "start_time": "2021-09-12T18:47:30.980Z"
   },
   {
    "duration": 60,
    "start_time": "2021-09-12T18:50:56.987Z"
   },
   {
    "duration": 896,
    "start_time": "2021-09-12T18:51:36.735Z"
   },
   {
    "duration": 84,
    "start_time": "2021-09-12T18:51:37.633Z"
   },
   {
    "duration": 8,
    "start_time": "2021-09-12T18:51:37.720Z"
   },
   {
    "duration": 68,
    "start_time": "2021-09-12T18:51:37.730Z"
   },
   {
    "duration": 14,
    "start_time": "2021-09-12T18:51:37.800Z"
   },
   {
    "duration": 2,
    "start_time": "2021-09-12T18:51:37.816Z"
   },
   {
    "duration": 39,
    "start_time": "2021-09-12T18:51:37.820Z"
   },
   {
    "duration": 5,
    "start_time": "2021-09-12T18:51:37.861Z"
   },
   {
    "duration": 38,
    "start_time": "2021-09-12T18:51:37.867Z"
   },
   {
    "duration": 1623,
    "start_time": "2021-09-12T18:51:37.906Z"
   },
   {
    "duration": 34,
    "start_time": "2021-09-12T18:53:04.019Z"
   },
   {
    "duration": 32,
    "start_time": "2021-09-12T18:53:09.132Z"
   },
   {
    "duration": 34,
    "start_time": "2021-09-12T18:53:15.748Z"
   },
   {
    "duration": 30,
    "start_time": "2021-09-12T18:53:41.665Z"
   },
   {
    "duration": 35,
    "start_time": "2021-09-12T18:54:11.894Z"
   },
   {
    "duration": 1687,
    "start_time": "2021-09-12T18:54:30.247Z"
   },
   {
    "duration": 37,
    "start_time": "2021-09-12T18:55:11.249Z"
   },
   {
    "duration": 33,
    "start_time": "2021-09-12T18:56:15.415Z"
   },
   {
    "duration": 34,
    "start_time": "2021-09-12T18:56:19.266Z"
   },
   {
    "duration": 885,
    "start_time": "2021-09-12T18:58:07.744Z"
   },
   {
    "duration": 90,
    "start_time": "2021-09-12T18:58:08.631Z"
   },
   {
    "duration": 8,
    "start_time": "2021-09-12T18:58:08.723Z"
   },
   {
    "duration": 22,
    "start_time": "2021-09-12T18:58:08.733Z"
   },
   {
    "duration": 14,
    "start_time": "2021-09-12T18:58:08.756Z"
   },
   {
    "duration": 10,
    "start_time": "2021-09-12T18:58:08.771Z"
   },
   {
    "duration": 50,
    "start_time": "2021-09-12T18:58:08.791Z"
   },
   {
    "duration": 5,
    "start_time": "2021-09-12T18:58:08.843Z"
   },
   {
    "duration": 41,
    "start_time": "2021-09-12T18:58:08.850Z"
   },
   {
    "duration": 1743,
    "start_time": "2021-09-12T18:58:08.893Z"
   },
   {
    "duration": 950,
    "start_time": "2021-09-12T18:58:37.370Z"
   },
   {
    "duration": 88,
    "start_time": "2021-09-12T18:58:38.321Z"
   },
   {
    "duration": 7,
    "start_time": "2021-09-12T18:58:38.411Z"
   },
   {
    "duration": 15,
    "start_time": "2021-09-12T18:58:38.420Z"
   },
   {
    "duration": 10,
    "start_time": "2021-09-12T18:58:38.437Z"
   },
   {
    "duration": 2,
    "start_time": "2021-09-12T18:58:38.449Z"
   },
   {
    "duration": 79,
    "start_time": "2021-09-12T18:58:38.453Z"
   },
   {
    "duration": 5,
    "start_time": "2021-09-12T18:58:38.534Z"
   },
   {
    "duration": 21,
    "start_time": "2021-09-12T18:58:38.541Z"
   },
   {
    "duration": 1714,
    "start_time": "2021-09-12T18:58:38.564Z"
   },
   {
    "duration": 920,
    "start_time": "2021-09-12T18:59:17.613Z"
   },
   {
    "duration": 89,
    "start_time": "2021-09-12T18:59:18.535Z"
   },
   {
    "duration": 9,
    "start_time": "2021-09-12T18:59:18.626Z"
   },
   {
    "duration": 11,
    "start_time": "2021-09-12T18:59:18.637Z"
   },
   {
    "duration": 9,
    "start_time": "2021-09-12T18:59:18.650Z"
   },
   {
    "duration": 3,
    "start_time": "2021-09-12T18:59:18.691Z"
   },
   {
    "duration": 53,
    "start_time": "2021-09-12T18:59:18.695Z"
   },
   {
    "duration": 5,
    "start_time": "2021-09-12T18:59:18.750Z"
   },
   {
    "duration": 48,
    "start_time": "2021-09-12T18:59:18.757Z"
   },
   {
    "duration": 1716,
    "start_time": "2021-09-12T18:59:18.807Z"
   },
   {
    "duration": 53,
    "start_time": "2021-09-12T18:59:52.099Z"
   },
   {
    "duration": 960,
    "start_time": "2021-09-12T19:00:21.172Z"
   },
   {
    "duration": 94,
    "start_time": "2021-09-12T19:00:22.134Z"
   },
   {
    "duration": 9,
    "start_time": "2021-09-12T19:00:22.230Z"
   },
   {
    "duration": 11,
    "start_time": "2021-09-12T19:00:22.240Z"
   },
   {
    "duration": 40,
    "start_time": "2021-09-12T19:00:22.253Z"
   },
   {
    "duration": 2,
    "start_time": "2021-09-12T19:00:22.295Z"
   },
   {
    "duration": 55,
    "start_time": "2021-09-12T19:00:22.299Z"
   },
   {
    "duration": 4,
    "start_time": "2021-09-12T19:00:22.357Z"
   },
   {
    "duration": 40,
    "start_time": "2021-09-12T19:00:22.363Z"
   },
   {
    "duration": 1716,
    "start_time": "2021-09-12T19:00:22.405Z"
   },
   {
    "duration": 1005,
    "start_time": "2021-09-12T19:00:55.829Z"
   },
   {
    "duration": 91,
    "start_time": "2021-09-12T19:00:56.836Z"
   },
   {
    "duration": 10,
    "start_time": "2021-09-12T19:00:56.929Z"
   },
   {
    "duration": 12,
    "start_time": "2021-09-12T19:00:56.941Z"
   },
   {
    "duration": 46,
    "start_time": "2021-09-12T19:00:56.955Z"
   },
   {
    "duration": 3,
    "start_time": "2021-09-12T19:00:57.002Z"
   },
   {
    "duration": 52,
    "start_time": "2021-09-12T19:00:57.008Z"
   },
   {
    "duration": 34,
    "start_time": "2021-09-12T19:00:57.063Z"
   },
   {
    "duration": 24,
    "start_time": "2021-09-12T19:00:57.099Z"
   },
   {
    "duration": 1808,
    "start_time": "2021-09-12T19:00:57.126Z"
   },
   {
    "duration": 943,
    "start_time": "2021-09-12T19:01:30.492Z"
   },
   {
    "duration": 90,
    "start_time": "2021-09-12T19:01:31.437Z"
   },
   {
    "duration": 8,
    "start_time": "2021-09-12T19:01:31.529Z"
   },
   {
    "duration": 15,
    "start_time": "2021-09-12T19:01:31.539Z"
   },
   {
    "duration": 10,
    "start_time": "2021-09-12T19:01:31.556Z"
   },
   {
    "duration": 2,
    "start_time": "2021-09-12T19:01:31.592Z"
   },
   {
    "duration": 52,
    "start_time": "2021-09-12T19:01:31.596Z"
   },
   {
    "duration": 4,
    "start_time": "2021-09-12T19:01:31.651Z"
   },
   {
    "duration": 42,
    "start_time": "2021-09-12T19:01:31.657Z"
   },
   {
    "duration": 1715,
    "start_time": "2021-09-12T19:01:31.701Z"
   },
   {
    "duration": 930,
    "start_time": "2021-09-12T19:01:52.300Z"
   },
   {
    "duration": 92,
    "start_time": "2021-09-12T19:01:53.232Z"
   },
   {
    "duration": 8,
    "start_time": "2021-09-12T19:01:53.326Z"
   },
   {
    "duration": 9,
    "start_time": "2021-09-12T19:01:53.336Z"
   },
   {
    "duration": 10,
    "start_time": "2021-09-12T19:01:53.347Z"
   },
   {
    "duration": 2,
    "start_time": "2021-09-12T19:01:53.359Z"
   },
   {
    "duration": 48,
    "start_time": "2021-09-12T19:01:53.391Z"
   },
   {
    "duration": 5,
    "start_time": "2021-09-12T19:01:53.441Z"
   },
   {
    "duration": 45,
    "start_time": "2021-09-12T19:01:53.447Z"
   },
   {
    "duration": 1747,
    "start_time": "2021-09-12T19:01:53.494Z"
   },
   {
    "duration": 998,
    "start_time": "2021-09-12T19:02:42.724Z"
   },
   {
    "duration": 95,
    "start_time": "2021-09-12T19:02:43.724Z"
   },
   {
    "duration": 9,
    "start_time": "2021-09-12T19:02:43.821Z"
   },
   {
    "duration": 12,
    "start_time": "2021-09-12T19:02:43.832Z"
   },
   {
    "duration": 11,
    "start_time": "2021-09-12T19:02:43.846Z"
   },
   {
    "duration": 3,
    "start_time": "2021-09-12T19:02:43.858Z"
   },
   {
    "duration": 472,
    "start_time": "2021-09-12T19:02:43.863Z"
   },
   {
    "duration": 1541,
    "start_time": "2021-09-12T19:02:42.797Z"
   },
   {
    "duration": 1536,
    "start_time": "2021-09-12T19:02:42.803Z"
   },
   {
    "duration": 1533,
    "start_time": "2021-09-12T19:02:42.807Z"
   },
   {
    "duration": 968,
    "start_time": "2021-09-12T19:06:02.560Z"
   },
   {
    "duration": 89,
    "start_time": "2021-09-12T19:06:03.530Z"
   },
   {
    "duration": 8,
    "start_time": "2021-09-12T19:06:03.621Z"
   },
   {
    "duration": 11,
    "start_time": "2021-09-12T19:06:03.631Z"
   },
   {
    "duration": 10,
    "start_time": "2021-09-12T19:06:03.644Z"
   },
   {
    "duration": 36,
    "start_time": "2021-09-12T19:06:03.656Z"
   },
   {
    "duration": 60,
    "start_time": "2021-09-12T19:06:03.694Z"
   },
   {
    "duration": 9,
    "start_time": "2021-09-12T19:06:03.757Z"
   },
   {
    "duration": 27,
    "start_time": "2021-09-12T19:06:03.768Z"
   },
   {
    "duration": 1720,
    "start_time": "2021-09-12T19:06:03.797Z"
   },
   {
    "duration": 893,
    "start_time": "2021-09-12T19:06:21.652Z"
   },
   {
    "duration": 87,
    "start_time": "2021-09-12T19:06:22.547Z"
   },
   {
    "duration": 8,
    "start_time": "2021-09-12T19:06:22.636Z"
   },
   {
    "duration": 23,
    "start_time": "2021-09-12T19:06:22.646Z"
   },
   {
    "duration": 23,
    "start_time": "2021-09-12T19:06:22.671Z"
   },
   {
    "duration": 3,
    "start_time": "2021-09-12T19:06:22.695Z"
   },
   {
    "duration": 42,
    "start_time": "2021-09-12T19:06:22.699Z"
   },
   {
    "duration": 5,
    "start_time": "2021-09-12T19:06:22.743Z"
   },
   {
    "duration": 46,
    "start_time": "2021-09-12T19:06:22.749Z"
   },
   {
    "duration": 1706,
    "start_time": "2021-09-12T19:06:22.797Z"
   },
   {
    "duration": 941,
    "start_time": "2021-09-12T19:06:35.587Z"
   },
   {
    "duration": 93,
    "start_time": "2021-09-12T19:06:36.530Z"
   },
   {
    "duration": 8,
    "start_time": "2021-09-12T19:06:36.625Z"
   },
   {
    "duration": 10,
    "start_time": "2021-09-12T19:06:36.635Z"
   },
   {
    "duration": 10,
    "start_time": "2021-09-12T19:06:36.647Z"
   },
   {
    "duration": 3,
    "start_time": "2021-09-12T19:06:36.659Z"
   },
   {
    "duration": 42,
    "start_time": "2021-09-12T19:06:36.692Z"
   },
   {
    "duration": 5,
    "start_time": "2021-09-12T19:06:36.736Z"
   },
   {
    "duration": 19,
    "start_time": "2021-09-12T19:06:36.743Z"
   },
   {
    "duration": 1683,
    "start_time": "2021-09-12T19:06:36.791Z"
   },
   {
    "duration": 919,
    "start_time": "2021-09-12T19:06:46.049Z"
   },
   {
    "duration": 93,
    "start_time": "2021-09-12T19:06:46.970Z"
   },
   {
    "duration": 9,
    "start_time": "2021-09-12T19:06:47.065Z"
   },
   {
    "duration": 10,
    "start_time": "2021-09-12T19:06:47.092Z"
   },
   {
    "duration": 10,
    "start_time": "2021-09-12T19:06:47.104Z"
   },
   {
    "duration": 6,
    "start_time": "2021-09-12T19:06:47.116Z"
   },
   {
    "duration": 68,
    "start_time": "2021-09-12T19:06:47.124Z"
   },
   {
    "duration": 9,
    "start_time": "2021-09-12T19:06:47.194Z"
   },
   {
    "duration": 17,
    "start_time": "2021-09-12T19:06:47.205Z"
   },
   {
    "duration": 1756,
    "start_time": "2021-09-12T19:06:47.224Z"
   },
   {
    "duration": 51,
    "start_time": "2021-09-12T19:08:54.869Z"
   },
   {
    "duration": 47,
    "start_time": "2021-09-12T19:09:00.459Z"
   },
   {
    "duration": 46,
    "start_time": "2021-09-12T19:09:38.915Z"
   },
   {
    "duration": 45,
    "start_time": "2021-09-12T19:09:42.947Z"
   },
   {
    "duration": 45,
    "start_time": "2021-09-12T19:09:45.980Z"
   },
   {
    "duration": 929,
    "start_time": "2021-09-12T19:10:54.903Z"
   },
   {
    "duration": 88,
    "start_time": "2021-09-12T19:10:55.833Z"
   },
   {
    "duration": 8,
    "start_time": "2021-09-12T19:10:55.924Z"
   },
   {
    "duration": 9,
    "start_time": "2021-09-12T19:10:55.934Z"
   },
   {
    "duration": 10,
    "start_time": "2021-09-12T19:10:55.945Z"
   },
   {
    "duration": 2,
    "start_time": "2021-09-12T19:10:55.957Z"
   },
   {
    "duration": 41,
    "start_time": "2021-09-12T19:10:55.992Z"
   },
   {
    "duration": 9,
    "start_time": "2021-09-12T19:10:56.036Z"
   },
   {
    "duration": 51,
    "start_time": "2021-09-12T19:10:56.047Z"
   },
   {
    "duration": 1860,
    "start_time": "2021-09-12T19:10:56.099Z"
   },
   {
    "duration": 901,
    "start_time": "2021-09-12T19:11:41.731Z"
   },
   {
    "duration": 95,
    "start_time": "2021-09-12T19:11:42.634Z"
   },
   {
    "duration": 11,
    "start_time": "2021-09-12T19:11:42.731Z"
   },
   {
    "duration": 30,
    "start_time": "2021-09-12T19:11:42.745Z"
   },
   {
    "duration": 23,
    "start_time": "2021-09-12T19:11:42.777Z"
   },
   {
    "duration": 10,
    "start_time": "2021-09-12T19:11:42.802Z"
   },
   {
    "duration": 61,
    "start_time": "2021-09-12T19:11:42.813Z"
   },
   {
    "duration": 9,
    "start_time": "2021-09-12T19:11:42.876Z"
   },
   {
    "duration": 27,
    "start_time": "2021-09-12T19:11:42.890Z"
   },
   {
    "duration": 1682,
    "start_time": "2021-09-12T19:11:42.918Z"
   },
   {
    "duration": 31,
    "start_time": "2021-09-12T19:12:25.014Z"
   },
   {
    "duration": 948,
    "start_time": "2021-09-12T19:13:55.980Z"
   },
   {
    "duration": 91,
    "start_time": "2021-09-12T19:13:56.930Z"
   },
   {
    "duration": 8,
    "start_time": "2021-09-12T19:13:57.023Z"
   },
   {
    "duration": 12,
    "start_time": "2021-09-12T19:13:57.033Z"
   },
   {
    "duration": 10,
    "start_time": "2021-09-12T19:13:57.046Z"
   },
   {
    "duration": 34,
    "start_time": "2021-09-12T19:13:57.057Z"
   },
   {
    "duration": 43,
    "start_time": "2021-09-12T19:13:57.093Z"
   },
   {
    "duration": 9,
    "start_time": "2021-09-12T19:13:57.138Z"
   },
   {
    "duration": 45,
    "start_time": "2021-09-12T19:13:57.149Z"
   },
   {
    "duration": 30,
    "start_time": "2021-09-12T19:13:57.195Z"
   },
   {
    "duration": 1739,
    "start_time": "2021-09-12T19:13:57.226Z"
   },
   {
    "duration": 1140,
    "start_time": "2021-09-12T19:14:16.889Z"
   },
   {
    "duration": 95,
    "start_time": "2021-09-12T19:14:18.031Z"
   },
   {
    "duration": 9,
    "start_time": "2021-09-12T19:14:18.128Z"
   },
   {
    "duration": 12,
    "start_time": "2021-09-12T19:14:18.139Z"
   },
   {
    "duration": 42,
    "start_time": "2021-09-12T19:14:18.153Z"
   },
   {
    "duration": 3,
    "start_time": "2021-09-12T19:14:18.197Z"
   },
   {
    "duration": 42,
    "start_time": "2021-09-12T19:14:18.201Z"
   },
   {
    "duration": 5,
    "start_time": "2021-09-12T19:14:18.246Z"
   },
   {
    "duration": 52,
    "start_time": "2021-09-12T19:14:18.253Z"
   },
   {
    "duration": 31,
    "start_time": "2021-09-12T19:14:18.306Z"
   },
   {
    "duration": 1910,
    "start_time": "2021-09-12T19:14:18.339Z"
   },
   {
    "duration": 939,
    "start_time": "2021-09-12T19:15:28.592Z"
   },
   {
    "duration": 89,
    "start_time": "2021-09-12T19:15:29.534Z"
   },
   {
    "duration": 9,
    "start_time": "2021-09-12T19:15:29.625Z"
   },
   {
    "duration": 13,
    "start_time": "2021-09-12T19:15:29.636Z"
   },
   {
    "duration": 42,
    "start_time": "2021-09-12T19:15:29.650Z"
   },
   {
    "duration": 2,
    "start_time": "2021-09-12T19:15:29.694Z"
   },
   {
    "duration": 45,
    "start_time": "2021-09-12T19:15:29.698Z"
   },
   {
    "duration": 6,
    "start_time": "2021-09-12T19:15:29.745Z"
   },
   {
    "duration": 48,
    "start_time": "2021-09-12T19:15:29.753Z"
   },
   {
    "duration": 31,
    "start_time": "2021-09-12T19:15:29.803Z"
   },
   {
    "duration": 1834,
    "start_time": "2021-09-12T19:15:29.836Z"
   },
   {
    "duration": 909,
    "start_time": "2021-09-12T19:19:26.717Z"
   },
   {
    "duration": 87,
    "start_time": "2021-09-12T19:19:27.628Z"
   },
   {
    "duration": 9,
    "start_time": "2021-09-12T19:19:27.717Z"
   },
   {
    "duration": 8,
    "start_time": "2021-09-12T19:19:27.728Z"
   },
   {
    "duration": 9,
    "start_time": "2021-09-12T19:19:27.738Z"
   },
   {
    "duration": 2,
    "start_time": "2021-09-12T19:19:27.749Z"
   },
   {
    "duration": 77,
    "start_time": "2021-09-12T19:19:27.753Z"
   },
   {
    "duration": 5,
    "start_time": "2021-09-12T19:19:27.833Z"
   },
   {
    "duration": 20,
    "start_time": "2021-09-12T19:19:27.840Z"
   },
   {
    "duration": 53,
    "start_time": "2021-09-12T19:19:27.862Z"
   },
   {
    "duration": 1684,
    "start_time": "2021-09-12T19:19:27.916Z"
   },
   {
    "duration": 924,
    "start_time": "2021-09-12T19:20:37.206Z"
   },
   {
    "duration": 85,
    "start_time": "2021-09-12T19:20:38.132Z"
   },
   {
    "duration": 7,
    "start_time": "2021-09-12T19:20:38.219Z"
   },
   {
    "duration": 12,
    "start_time": "2021-09-12T19:20:38.228Z"
   },
   {
    "duration": 10,
    "start_time": "2021-09-12T19:20:38.241Z"
   },
   {
    "duration": 2,
    "start_time": "2021-09-12T19:20:38.252Z"
   },
   {
    "duration": 67,
    "start_time": "2021-09-12T19:20:38.256Z"
   },
   {
    "duration": 5,
    "start_time": "2021-09-12T19:20:38.326Z"
   },
   {
    "duration": 23,
    "start_time": "2021-09-12T19:20:38.333Z"
   },
   {
    "duration": 50,
    "start_time": "2021-09-12T19:20:38.358Z"
   },
   {
    "duration": 1664,
    "start_time": "2021-09-12T19:20:38.410Z"
   },
   {
    "duration": 945,
    "start_time": "2021-09-12T19:22:03.684Z"
   },
   {
    "duration": 84,
    "start_time": "2021-09-12T19:22:04.631Z"
   },
   {
    "duration": 7,
    "start_time": "2021-09-12T19:22:04.717Z"
   },
   {
    "duration": 10,
    "start_time": "2021-09-12T19:22:04.726Z"
   },
   {
    "duration": 9,
    "start_time": "2021-09-12T19:22:04.738Z"
   },
   {
    "duration": 2,
    "start_time": "2021-09-12T19:22:04.748Z"
   },
   {
    "duration": 69,
    "start_time": "2021-09-12T19:22:04.752Z"
   },
   {
    "duration": 8,
    "start_time": "2021-09-12T19:22:04.823Z"
   },
   {
    "duration": 23,
    "start_time": "2021-09-12T19:22:04.832Z"
   },
   {
    "duration": 52,
    "start_time": "2021-09-12T19:22:04.856Z"
   },
   {
    "duration": 1756,
    "start_time": "2021-09-12T19:22:04.909Z"
   },
   {
    "duration": 913,
    "start_time": "2021-09-12T19:22:42.208Z"
   },
   {
    "duration": 84,
    "start_time": "2021-09-12T19:22:43.123Z"
   },
   {
    "duration": 8,
    "start_time": "2021-09-12T19:22:43.209Z"
   },
   {
    "duration": 16,
    "start_time": "2021-09-12T19:22:43.219Z"
   },
   {
    "duration": 12,
    "start_time": "2021-09-12T19:22:43.236Z"
   },
   {
    "duration": 2,
    "start_time": "2021-09-12T19:22:43.250Z"
   },
   {
    "duration": 64,
    "start_time": "2021-09-12T19:22:43.253Z"
   },
   {
    "duration": 5,
    "start_time": "2021-09-12T19:22:43.319Z"
   },
   {
    "duration": 31,
    "start_time": "2021-09-12T19:22:43.326Z"
   },
   {
    "duration": 51,
    "start_time": "2021-09-12T19:22:43.359Z"
   },
   {
    "duration": 1637,
    "start_time": "2021-09-12T19:22:43.413Z"
   },
   {
    "duration": 950,
    "start_time": "2021-09-12T19:23:01.377Z"
   },
   {
    "duration": 86,
    "start_time": "2021-09-12T19:23:02.328Z"
   },
   {
    "duration": 8,
    "start_time": "2021-09-12T19:23:02.416Z"
   },
   {
    "duration": 13,
    "start_time": "2021-09-12T19:23:02.426Z"
   },
   {
    "duration": 10,
    "start_time": "2021-09-12T19:23:02.440Z"
   },
   {
    "duration": 5,
    "start_time": "2021-09-12T19:23:02.452Z"
   },
   {
    "duration": 65,
    "start_time": "2021-09-12T19:23:02.459Z"
   },
   {
    "duration": 9,
    "start_time": "2021-09-12T19:23:02.526Z"
   },
   {
    "duration": 21,
    "start_time": "2021-09-12T19:23:02.536Z"
   },
   {
    "duration": 53,
    "start_time": "2021-09-12T19:23:02.558Z"
   },
   {
    "duration": 1635,
    "start_time": "2021-09-12T19:23:02.613Z"
   },
   {
    "duration": 887,
    "start_time": "2021-09-12T19:23:15.438Z"
   },
   {
    "duration": 87,
    "start_time": "2021-09-12T19:23:16.327Z"
   },
   {
    "duration": 8,
    "start_time": "2021-09-12T19:23:16.416Z"
   },
   {
    "duration": 15,
    "start_time": "2021-09-12T19:23:16.426Z"
   },
   {
    "duration": 12,
    "start_time": "2021-09-12T19:23:16.443Z"
   },
   {
    "duration": 2,
    "start_time": "2021-09-12T19:23:16.457Z"
   },
   {
    "duration": 70,
    "start_time": "2021-09-12T19:23:16.461Z"
   },
   {
    "duration": 9,
    "start_time": "2021-09-12T19:23:16.534Z"
   },
   {
    "duration": 21,
    "start_time": "2021-09-12T19:23:16.544Z"
   },
   {
    "duration": 32,
    "start_time": "2021-09-12T19:23:16.591Z"
   },
   {
    "duration": 1672,
    "start_time": "2021-09-12T19:23:16.625Z"
   },
   {
    "duration": 883,
    "start_time": "2021-09-12T19:23:27.947Z"
   },
   {
    "duration": 92,
    "start_time": "2021-09-12T19:23:28.833Z"
   },
   {
    "duration": 8,
    "start_time": "2021-09-12T19:23:28.927Z"
   },
   {
    "duration": 9,
    "start_time": "2021-09-12T19:23:28.937Z"
   },
   {
    "duration": 44,
    "start_time": "2021-09-12T19:23:28.947Z"
   },
   {
    "duration": 3,
    "start_time": "2021-09-12T19:23:28.993Z"
   },
   {
    "duration": 41,
    "start_time": "2021-09-12T19:23:28.997Z"
   },
   {
    "duration": 9,
    "start_time": "2021-09-12T19:23:29.040Z"
   },
   {
    "duration": 46,
    "start_time": "2021-09-12T19:23:29.051Z"
   },
   {
    "duration": 29,
    "start_time": "2021-09-12T19:23:29.099Z"
   },
   {
    "duration": 1783,
    "start_time": "2021-09-12T19:23:29.130Z"
   },
   {
    "duration": 887,
    "start_time": "2021-09-12T19:25:12.336Z"
   },
   {
    "duration": 88,
    "start_time": "2021-09-12T19:25:13.225Z"
   },
   {
    "duration": 9,
    "start_time": "2021-09-12T19:25:13.315Z"
   },
   {
    "duration": 14,
    "start_time": "2021-09-12T19:25:13.325Z"
   },
   {
    "duration": 10,
    "start_time": "2021-09-12T19:25:13.341Z"
   },
   {
    "duration": 3,
    "start_time": "2021-09-12T19:25:13.353Z"
   },
   {
    "duration": 75,
    "start_time": "2021-09-12T19:25:13.358Z"
   },
   {
    "duration": 6,
    "start_time": "2021-09-12T19:25:13.435Z"
   },
   {
    "duration": 24,
    "start_time": "2021-09-12T19:25:13.443Z"
   },
   {
    "duration": 51,
    "start_time": "2021-09-12T19:25:13.469Z"
   },
   {
    "duration": 1662,
    "start_time": "2021-09-12T19:25:13.521Z"
   },
   {
    "duration": 929,
    "start_time": "2021-09-12T19:26:26.800Z"
   },
   {
    "duration": 92,
    "start_time": "2021-09-12T19:26:27.731Z"
   },
   {
    "duration": 11,
    "start_time": "2021-09-12T19:26:27.825Z"
   },
   {
    "duration": 28,
    "start_time": "2021-09-12T19:26:27.838Z"
   },
   {
    "duration": 27,
    "start_time": "2021-09-12T19:26:27.868Z"
   },
   {
    "duration": 17,
    "start_time": "2021-09-12T19:26:27.897Z"
   },
   {
    "duration": 48,
    "start_time": "2021-09-12T19:26:27.916Z"
   },
   {
    "duration": 7,
    "start_time": "2021-09-12T19:26:27.966Z"
   },
   {
    "duration": 33,
    "start_time": "2021-09-12T19:26:27.975Z"
   },
   {
    "duration": 31,
    "start_time": "2021-09-12T19:26:28.010Z"
   },
   {
    "duration": 1668,
    "start_time": "2021-09-12T19:26:28.043Z"
   },
   {
    "duration": 918,
    "start_time": "2021-09-12T19:26:43.004Z"
   },
   {
    "duration": 89,
    "start_time": "2021-09-12T19:26:43.924Z"
   },
   {
    "duration": 8,
    "start_time": "2021-09-12T19:26:44.015Z"
   },
   {
    "duration": 31,
    "start_time": "2021-09-12T19:26:44.025Z"
   },
   {
    "duration": 17,
    "start_time": "2021-09-12T19:26:44.058Z"
   },
   {
    "duration": 18,
    "start_time": "2021-09-12T19:26:44.076Z"
   },
   {
    "duration": 58,
    "start_time": "2021-09-12T19:26:44.095Z"
   },
   {
    "duration": 9,
    "start_time": "2021-09-12T19:26:44.155Z"
   },
   {
    "duration": 34,
    "start_time": "2021-09-12T19:26:44.166Z"
   },
   {
    "duration": 34,
    "start_time": "2021-09-12T19:26:44.201Z"
   },
   {
    "duration": 1628,
    "start_time": "2021-09-12T19:26:44.237Z"
   },
   {
    "duration": 971,
    "start_time": "2021-09-12T19:26:51.676Z"
   },
   {
    "duration": 84,
    "start_time": "2021-09-12T19:26:52.648Z"
   },
   {
    "duration": 8,
    "start_time": "2021-09-12T19:26:52.733Z"
   },
   {
    "duration": 27,
    "start_time": "2021-09-12T19:26:52.743Z"
   },
   {
    "duration": 11,
    "start_time": "2021-09-12T19:26:52.772Z"
   },
   {
    "duration": 11,
    "start_time": "2021-09-12T19:26:52.791Z"
   },
   {
    "duration": 59,
    "start_time": "2021-09-12T19:26:52.804Z"
   },
   {
    "duration": 8,
    "start_time": "2021-09-12T19:26:52.865Z"
   },
   {
    "duration": 17,
    "start_time": "2021-09-12T19:26:52.875Z"
   },
   {
    "duration": 32,
    "start_time": "2021-09-12T19:26:52.894Z"
   },
   {
    "duration": 1844,
    "start_time": "2021-09-12T19:26:52.928Z"
   },
   {
    "duration": 1678,
    "start_time": "2021-09-12T19:48:07.271Z"
   },
   {
    "duration": 1708,
    "start_time": "2021-09-12T19:48:38.836Z"
   },
   {
    "duration": 1806,
    "start_time": "2021-09-13T10:21:42.254Z"
   },
   {
    "duration": 471,
    "start_time": "2021-09-13T10:24:51.235Z"
   },
   {
    "duration": 912,
    "start_time": "2021-09-13T10:27:06.013Z"
   },
   {
    "duration": 91,
    "start_time": "2021-09-13T10:27:06.927Z"
   },
   {
    "duration": 11,
    "start_time": "2021-09-13T10:27:07.020Z"
   },
   {
    "duration": 12,
    "start_time": "2021-09-13T10:27:07.033Z"
   },
   {
    "duration": 12,
    "start_time": "2021-09-13T10:27:07.047Z"
   },
   {
    "duration": 32,
    "start_time": "2021-09-13T10:27:07.060Z"
   },
   {
    "duration": 46,
    "start_time": "2021-09-13T10:27:07.094Z"
   },
   {
    "duration": 10,
    "start_time": "2021-09-13T10:27:07.142Z"
   },
   {
    "duration": 53,
    "start_time": "2021-09-13T10:27:07.154Z"
   },
   {
    "duration": 31,
    "start_time": "2021-09-13T10:27:07.209Z"
   },
   {
    "duration": 483,
    "start_time": "2021-09-13T10:27:07.242Z"
   },
   {
    "duration": 1539,
    "start_time": "2021-09-13T10:27:07.727Z"
   },
   {
    "duration": 978,
    "start_time": "2021-09-13T10:27:57.968Z"
   },
   {
    "duration": 87,
    "start_time": "2021-09-13T10:27:58.948Z"
   },
   {
    "duration": 8,
    "start_time": "2021-09-13T10:27:59.037Z"
   },
   {
    "duration": 21,
    "start_time": "2021-09-13T10:27:59.047Z"
   },
   {
    "duration": 22,
    "start_time": "2021-09-13T10:27:59.070Z"
   },
   {
    "duration": 8,
    "start_time": "2021-09-13T10:27:59.093Z"
   },
   {
    "duration": 61,
    "start_time": "2021-09-13T10:27:59.103Z"
   },
   {
    "duration": 8,
    "start_time": "2021-09-13T10:27:59.166Z"
   },
   {
    "duration": 18,
    "start_time": "2021-09-13T10:27:59.176Z"
   },
   {
    "duration": 29,
    "start_time": "2021-09-13T10:27:59.196Z"
   },
   {
    "duration": 482,
    "start_time": "2021-09-13T10:27:59.227Z"
   },
   {
    "duration": 1577,
    "start_time": "2021-09-13T10:27:59.711Z"
   },
   {
    "duration": 997,
    "start_time": "2021-09-13T10:28:09.871Z"
   },
   {
    "duration": 93,
    "start_time": "2021-09-13T10:28:10.870Z"
   },
   {
    "duration": 8,
    "start_time": "2021-09-13T10:28:10.964Z"
   },
   {
    "duration": 27,
    "start_time": "2021-09-13T10:28:10.974Z"
   },
   {
    "duration": 22,
    "start_time": "2021-09-13T10:28:11.003Z"
   },
   {
    "duration": 13,
    "start_time": "2021-09-13T10:28:11.026Z"
   },
   {
    "duration": 59,
    "start_time": "2021-09-13T10:28:11.041Z"
   },
   {
    "duration": 8,
    "start_time": "2021-09-13T10:28:11.102Z"
   },
   {
    "duration": 42,
    "start_time": "2021-09-13T10:28:11.112Z"
   },
   {
    "duration": 51,
    "start_time": "2021-09-13T10:28:11.156Z"
   },
   {
    "duration": 528,
    "start_time": "2021-09-13T10:28:11.208Z"
   },
   {
    "duration": 1587,
    "start_time": "2021-09-13T10:28:11.738Z"
   },
   {
    "duration": 935,
    "start_time": "2021-09-13T10:29:58.495Z"
   },
   {
    "duration": 90,
    "start_time": "2021-09-13T10:29:59.433Z"
   },
   {
    "duration": 11,
    "start_time": "2021-09-13T10:29:59.526Z"
   },
   {
    "duration": 11,
    "start_time": "2021-09-13T10:29:59.539Z"
   },
   {
    "duration": 46,
    "start_time": "2021-09-13T10:29:59.552Z"
   },
   {
    "duration": 2,
    "start_time": "2021-09-13T10:29:59.601Z"
   },
   {
    "duration": 40,
    "start_time": "2021-09-13T10:29:59.605Z"
   },
   {
    "duration": 5,
    "start_time": "2021-09-13T10:29:59.648Z"
   },
   {
    "duration": 46,
    "start_time": "2021-09-13T10:29:59.654Z"
   },
   {
    "duration": 30,
    "start_time": "2021-09-13T10:29:59.702Z"
   },
   {
    "duration": 537,
    "start_time": "2021-09-13T10:29:59.735Z"
   },
   {
    "duration": 1776,
    "start_time": "2021-09-13T10:30:00.274Z"
   },
   {
    "duration": 1777,
    "start_time": "2021-09-13T10:30:02.052Z"
   },
   {
    "duration": 1100,
    "start_time": "2021-09-13T10:30:45.878Z"
   },
   {
    "duration": 92,
    "start_time": "2021-09-13T10:30:46.983Z"
   },
   {
    "duration": 21,
    "start_time": "2021-09-13T10:30:47.077Z"
   },
   {
    "duration": 14,
    "start_time": "2021-09-13T10:30:47.101Z"
   },
   {
    "duration": 19,
    "start_time": "2021-09-13T10:30:47.118Z"
   },
   {
    "duration": 8,
    "start_time": "2021-09-13T10:30:47.139Z"
   },
   {
    "duration": 66,
    "start_time": "2021-09-13T10:30:47.150Z"
   },
   {
    "duration": 5,
    "start_time": "2021-09-13T10:30:47.219Z"
   },
   {
    "duration": 21,
    "start_time": "2021-09-13T10:30:47.226Z"
   },
   {
    "duration": 65,
    "start_time": "2021-09-13T10:30:47.249Z"
   },
   {
    "duration": 478,
    "start_time": "2021-09-13T10:30:47.316Z"
   },
   {
    "duration": 1546,
    "start_time": "2021-09-13T10:30:47.795Z"
   },
   {
    "duration": 1697,
    "start_time": "2021-09-13T10:30:49.344Z"
   },
   {
    "duration": 974,
    "start_time": "2021-09-13T10:31:18.407Z"
   },
   {
    "duration": 109,
    "start_time": "2021-09-13T10:31:19.384Z"
   },
   {
    "duration": 10,
    "start_time": "2021-09-13T10:31:19.495Z"
   },
   {
    "duration": 13,
    "start_time": "2021-09-13T10:31:19.507Z"
   },
   {
    "duration": 13,
    "start_time": "2021-09-13T10:31:19.522Z"
   },
   {
    "duration": 6,
    "start_time": "2021-09-13T10:31:19.536Z"
   },
   {
    "duration": 114,
    "start_time": "2021-09-13T10:31:19.544Z"
   },
   {
    "duration": 9,
    "start_time": "2021-09-13T10:31:19.661Z"
   },
   {
    "duration": 20,
    "start_time": "2021-09-13T10:31:19.672Z"
   },
   {
    "duration": 35,
    "start_time": "2021-09-13T10:31:19.694Z"
   },
   {
    "duration": 536,
    "start_time": "2021-09-13T10:31:19.731Z"
   },
   {
    "duration": 1607,
    "start_time": "2021-09-13T10:31:20.268Z"
   },
   {
    "duration": 1865,
    "start_time": "2021-09-13T10:31:21.877Z"
   },
   {
    "duration": 259,
    "start_time": "2021-09-13T10:32:48.884Z"
   },
   {
    "duration": 973,
    "start_time": "2021-09-13T10:33:34.852Z"
   },
   {
    "duration": 89,
    "start_time": "2021-09-13T10:33:35.827Z"
   },
   {
    "duration": 8,
    "start_time": "2021-09-13T10:33:35.918Z"
   },
   {
    "duration": 17,
    "start_time": "2021-09-13T10:33:35.928Z"
   },
   {
    "duration": 11,
    "start_time": "2021-09-13T10:33:35.947Z"
   },
   {
    "duration": 3,
    "start_time": "2021-09-13T10:33:35.960Z"
   },
   {
    "duration": 40,
    "start_time": "2021-09-13T10:33:35.992Z"
   },
   {
    "duration": 8,
    "start_time": "2021-09-13T10:33:36.035Z"
   },
   {
    "duration": 18,
    "start_time": "2021-09-13T10:33:36.045Z"
   },
   {
    "duration": 30,
    "start_time": "2021-09-13T10:33:36.091Z"
   },
   {
    "duration": 455,
    "start_time": "2021-09-13T10:33:36.122Z"
   },
   {
    "duration": 1542,
    "start_time": "2021-09-13T10:33:36.579Z"
   },
   {
    "duration": 1652,
    "start_time": "2021-09-13T10:33:38.123Z"
   },
   {
    "duration": 934,
    "start_time": "2021-09-13T10:35:53.719Z"
   },
   {
    "duration": 87,
    "start_time": "2021-09-13T10:35:54.656Z"
   },
   {
    "duration": 8,
    "start_time": "2021-09-13T10:35:54.745Z"
   },
   {
    "duration": 12,
    "start_time": "2021-09-13T10:35:54.755Z"
   },
   {
    "duration": 36,
    "start_time": "2021-09-13T10:35:54.768Z"
   },
   {
    "duration": 2,
    "start_time": "2021-09-13T10:35:54.806Z"
   },
   {
    "duration": 53,
    "start_time": "2021-09-13T10:35:54.810Z"
   },
   {
    "duration": 5,
    "start_time": "2021-09-13T10:35:54.865Z"
   },
   {
    "duration": 37,
    "start_time": "2021-09-13T10:35:54.872Z"
   },
   {
    "duration": 32,
    "start_time": "2021-09-13T10:35:54.910Z"
   },
   {
    "duration": 477,
    "start_time": "2021-09-13T10:35:54.943Z"
   },
   {
    "duration": 1537,
    "start_time": "2021-09-13T10:35:55.421Z"
   },
   {
    "duration": 1613,
    "start_time": "2021-09-13T10:35:56.960Z"
   },
   {
    "duration": 943,
    "start_time": "2021-09-13T10:38:42.893Z"
   },
   {
    "duration": 92,
    "start_time": "2021-09-13T10:38:43.840Z"
   },
   {
    "duration": 9,
    "start_time": "2021-09-13T10:38:43.934Z"
   },
   {
    "duration": 14,
    "start_time": "2021-09-13T10:38:43.945Z"
   },
   {
    "duration": 41,
    "start_time": "2021-09-13T10:38:43.960Z"
   },
   {
    "duration": 2,
    "start_time": "2021-09-13T10:38:44.003Z"
   },
   {
    "duration": 50,
    "start_time": "2021-09-13T10:38:44.006Z"
   },
   {
    "duration": 5,
    "start_time": "2021-09-13T10:38:44.059Z"
   },
   {
    "duration": 37,
    "start_time": "2021-09-13T10:38:44.066Z"
   },
   {
    "duration": 40,
    "start_time": "2021-09-13T10:38:44.105Z"
   },
   {
    "duration": 791,
    "start_time": "2021-09-13T10:38:44.146Z"
   },
   {
    "duration": 146,
    "start_time": "2021-09-13T10:38:44.793Z"
   },
   {
    "duration": 143,
    "start_time": "2021-09-13T10:38:44.797Z"
   },
   {
    "duration": 970,
    "start_time": "2021-09-13T10:39:13.365Z"
   },
   {
    "duration": 93,
    "start_time": "2021-09-13T10:39:14.337Z"
   },
   {
    "duration": 8,
    "start_time": "2021-09-13T10:39:14.432Z"
   },
   {
    "duration": 19,
    "start_time": "2021-09-13T10:39:14.442Z"
   },
   {
    "duration": 40,
    "start_time": "2021-09-13T10:39:14.463Z"
   },
   {
    "duration": 3,
    "start_time": "2021-09-13T10:39:14.504Z"
   },
   {
    "duration": 49,
    "start_time": "2021-09-13T10:39:14.509Z"
   },
   {
    "duration": 31,
    "start_time": "2021-09-13T10:39:14.561Z"
   },
   {
    "duration": 28,
    "start_time": "2021-09-13T10:39:14.594Z"
   },
   {
    "duration": 38,
    "start_time": "2021-09-13T10:39:14.623Z"
   },
   {
    "duration": 362,
    "start_time": "2021-09-13T10:39:14.662Z"
   },
   {
    "duration": 128,
    "start_time": "2021-09-13T10:39:14.898Z"
   },
   {
    "duration": 126,
    "start_time": "2021-09-13T10:39:14.902Z"
   },
   {
    "duration": 1120,
    "start_time": "2021-09-13T10:40:12.592Z"
   },
   {
    "duration": 127,
    "start_time": "2021-09-13T10:40:13.715Z"
   },
   {
    "duration": 10,
    "start_time": "2021-09-13T10:40:13.844Z"
   },
   {
    "duration": 40,
    "start_time": "2021-09-13T10:40:13.856Z"
   },
   {
    "duration": 18,
    "start_time": "2021-09-13T10:40:13.899Z"
   },
   {
    "duration": 30,
    "start_time": "2021-09-13T10:40:13.919Z"
   },
   {
    "duration": 52,
    "start_time": "2021-09-13T10:40:13.951Z"
   },
   {
    "duration": 6,
    "start_time": "2021-09-13T10:40:14.006Z"
   },
   {
    "duration": 22,
    "start_time": "2021-09-13T10:40:14.013Z"
   },
   {
    "duration": 61,
    "start_time": "2021-09-13T10:40:14.037Z"
   },
   {
    "duration": 339,
    "start_time": "2021-09-13T10:40:14.100Z"
   },
   {
    "duration": 139,
    "start_time": "2021-09-13T10:40:14.303Z"
   },
   {
    "duration": 134,
    "start_time": "2021-09-13T10:40:14.309Z"
   },
   {
    "duration": 992,
    "start_time": "2021-09-13T10:40:22.884Z"
   },
   {
    "duration": 93,
    "start_time": "2021-09-13T10:40:23.878Z"
   },
   {
    "duration": 22,
    "start_time": "2021-09-13T10:40:23.973Z"
   },
   {
    "duration": 29,
    "start_time": "2021-09-13T10:40:23.997Z"
   },
   {
    "duration": 23,
    "start_time": "2021-09-13T10:40:24.027Z"
   },
   {
    "duration": 13,
    "start_time": "2021-09-13T10:40:24.052Z"
   },
   {
    "duration": 63,
    "start_time": "2021-09-13T10:40:24.067Z"
   },
   {
    "duration": 10,
    "start_time": "2021-09-13T10:40:24.133Z"
   },
   {
    "duration": 22,
    "start_time": "2021-09-13T10:40:24.145Z"
   },
   {
    "duration": 33,
    "start_time": "2021-09-13T10:40:24.192Z"
   },
   {
    "duration": 505,
    "start_time": "2021-09-13T10:40:24.228Z"
   },
   {
    "duration": 1647,
    "start_time": "2021-09-13T10:40:24.734Z"
   },
   {
    "duration": 1714,
    "start_time": "2021-09-13T10:40:26.391Z"
   },
   {
    "duration": 279,
    "start_time": "2021-09-13T10:41:44.851Z"
   },
   {
    "duration": 901,
    "start_time": "2021-09-13T10:42:38.430Z"
   },
   {
    "duration": 87,
    "start_time": "2021-09-13T10:42:39.333Z"
   },
   {
    "duration": 10,
    "start_time": "2021-09-13T10:42:39.422Z"
   },
   {
    "duration": 12,
    "start_time": "2021-09-13T10:42:39.435Z"
   },
   {
    "duration": 51,
    "start_time": "2021-09-13T10:42:39.449Z"
   },
   {
    "duration": 2,
    "start_time": "2021-09-13T10:42:39.502Z"
   },
   {
    "duration": 44,
    "start_time": "2021-09-13T10:42:39.506Z"
   },
   {
    "duration": 5,
    "start_time": "2021-09-13T10:42:39.553Z"
   },
   {
    "duration": 49,
    "start_time": "2021-09-13T10:42:39.560Z"
   },
   {
    "duration": 35,
    "start_time": "2021-09-13T10:42:39.610Z"
   },
   {
    "duration": 473,
    "start_time": "2021-09-13T10:42:39.646Z"
   },
   {
    "duration": 263,
    "start_time": "2021-09-13T10:42:40.121Z"
   },
   {
    "duration": 1617,
    "start_time": "2021-09-13T10:42:40.386Z"
   },
   {
    "duration": 1581,
    "start_time": "2021-09-13T10:42:42.005Z"
   },
   {
    "duration": 960,
    "start_time": "2021-09-13T10:43:05.569Z"
   },
   {
    "duration": 91,
    "start_time": "2021-09-13T10:43:06.531Z"
   },
   {
    "duration": 9,
    "start_time": "2021-09-13T10:43:06.625Z"
   },
   {
    "duration": 10,
    "start_time": "2021-09-13T10:43:06.636Z"
   },
   {
    "duration": 47,
    "start_time": "2021-09-13T10:43:06.648Z"
   },
   {
    "duration": 3,
    "start_time": "2021-09-13T10:43:06.696Z"
   },
   {
    "duration": 45,
    "start_time": "2021-09-13T10:43:06.700Z"
   },
   {
    "duration": 5,
    "start_time": "2021-09-13T10:43:06.747Z"
   },
   {
    "duration": 46,
    "start_time": "2021-09-13T10:43:06.754Z"
   },
   {
    "duration": 41,
    "start_time": "2021-09-13T10:43:06.802Z"
   },
   {
    "duration": 465,
    "start_time": "2021-09-13T10:43:06.845Z"
   },
   {
    "duration": 303,
    "start_time": "2021-09-13T10:43:07.312Z"
   },
   {
    "duration": 1784,
    "start_time": "2021-09-13T10:43:07.617Z"
   },
   {
    "duration": 1525,
    "start_time": "2021-09-13T10:43:09.403Z"
   },
   {
    "duration": 271,
    "start_time": "2021-09-13T10:44:44.809Z"
   },
   {
    "duration": 272,
    "start_time": "2021-09-13T10:45:27.806Z"
   },
   {
    "duration": 17,
    "start_time": "2021-09-13T10:48:04.865Z"
   },
   {
    "duration": 260,
    "start_time": "2021-09-13T10:48:37.999Z"
   },
   {
    "duration": 430,
    "start_time": "2021-09-13T10:50:12.564Z"
   },
   {
    "duration": 280,
    "start_time": "2021-09-13T10:50:22.714Z"
   },
   {
    "duration": 15,
    "start_time": "2021-09-13T10:50:31.996Z"
   },
   {
    "duration": 16,
    "start_time": "2021-09-13T10:52:21.419Z"
   },
   {
    "duration": 197,
    "start_time": "2021-09-13T10:52:54.078Z"
   },
   {
    "duration": 1043,
    "start_time": "2021-09-13T10:53:37.307Z"
   },
   {
    "duration": 343,
    "start_time": "2021-09-13T11:01:47.160Z"
   },
   {
    "duration": 12,
    "start_time": "2021-09-13T11:01:56.881Z"
   },
   {
    "duration": 314,
    "start_time": "2021-09-13T11:04:57.669Z"
   },
   {
    "duration": 15,
    "start_time": "2021-09-13T11:05:40.679Z"
   },
   {
    "duration": 191,
    "start_time": "2021-09-13T11:06:04.104Z"
   },
   {
    "duration": 207,
    "start_time": "2021-09-13T11:06:39.892Z"
   },
   {
    "duration": 1257,
    "start_time": "2021-09-13T11:07:37.813Z"
   },
   {
    "duration": 250,
    "start_time": "2021-09-13T11:08:36.016Z"
   },
   {
    "duration": 247,
    "start_time": "2021-09-13T11:08:50.401Z"
   },
   {
    "duration": 963,
    "start_time": "2021-09-13T11:08:58.073Z"
   },
   {
    "duration": 94,
    "start_time": "2021-09-13T11:08:59.037Z"
   },
   {
    "duration": 11,
    "start_time": "2021-09-13T11:08:59.134Z"
   },
   {
    "duration": 44,
    "start_time": "2021-09-13T11:08:59.148Z"
   },
   {
    "duration": 18,
    "start_time": "2021-09-13T11:08:59.194Z"
   },
   {
    "duration": 3,
    "start_time": "2021-09-13T11:08:59.214Z"
   },
   {
    "duration": 73,
    "start_time": "2021-09-13T11:08:59.219Z"
   },
   {
    "duration": 10,
    "start_time": "2021-09-13T11:08:59.294Z"
   },
   {
    "duration": 22,
    "start_time": "2021-09-13T11:08:59.306Z"
   },
   {
    "duration": 66,
    "start_time": "2021-09-13T11:08:59.330Z"
   },
   {
    "duration": 494,
    "start_time": "2021-09-13T11:08:59.398Z"
   },
   {
    "duration": 262,
    "start_time": "2021-09-13T11:08:59.893Z"
   },
   {
    "duration": 293,
    "start_time": "2021-09-13T11:09:00.157Z"
   },
   {
    "duration": 14,
    "start_time": "2021-09-13T11:09:00.452Z"
   },
   {
    "duration": 1189,
    "start_time": "2021-09-13T11:09:00.468Z"
   },
   {
    "duration": 1685,
    "start_time": "2021-09-13T11:09:01.658Z"
   },
   {
    "duration": 516,
    "start_time": "2021-09-13T11:10:06.395Z"
   },
   {
    "duration": 260,
    "start_time": "2021-09-13T11:10:24.425Z"
   },
   {
    "duration": 1204,
    "start_time": "2021-09-13T11:11:43.155Z"
   },
   {
    "duration": 95,
    "start_time": "2021-09-13T11:11:44.362Z"
   },
   {
    "duration": 33,
    "start_time": "2021-09-13T11:11:44.459Z"
   },
   {
    "duration": 10,
    "start_time": "2021-09-13T11:11:44.495Z"
   },
   {
    "duration": 32,
    "start_time": "2021-09-13T11:11:44.507Z"
   },
   {
    "duration": 8,
    "start_time": "2021-09-13T11:11:44.541Z"
   },
   {
    "duration": 56,
    "start_time": "2021-09-13T11:11:44.550Z"
   },
   {
    "duration": 5,
    "start_time": "2021-09-13T11:11:44.609Z"
   },
   {
    "duration": 34,
    "start_time": "2021-09-13T11:11:44.616Z"
   },
   {
    "duration": 48,
    "start_time": "2021-09-13T11:11:44.652Z"
   },
   {
    "duration": 377,
    "start_time": "2021-09-13T11:11:44.702Z"
   },
   {
    "duration": 283,
    "start_time": "2021-09-13T11:11:45.081Z"
   },
   {
    "duration": 310,
    "start_time": "2021-09-13T11:11:45.366Z"
   },
   {
    "duration": 25,
    "start_time": "2021-09-13T11:11:45.678Z"
   },
   {
    "duration": 1672,
    "start_time": "2021-09-13T11:11:45.705Z"
   },
   {
    "duration": 1676,
    "start_time": "2021-09-13T11:11:47.379Z"
   },
   {
    "duration": 1903,
    "start_time": "2021-09-13T11:12:02.009Z"
   },
   {
    "duration": 1554,
    "start_time": "2021-09-13T11:12:10.884Z"
   },
   {
    "duration": 1205,
    "start_time": "2021-09-13T11:12:32.263Z"
   },
   {
    "duration": 1167,
    "start_time": "2021-09-13T11:12:56.988Z"
   },
   {
    "duration": 88,
    "start_time": "2021-09-13T11:12:58.157Z"
   },
   {
    "duration": 8,
    "start_time": "2021-09-13T11:12:58.248Z"
   },
   {
    "duration": 12,
    "start_time": "2021-09-13T11:12:58.258Z"
   },
   {
    "duration": 34,
    "start_time": "2021-09-13T11:12:58.272Z"
   },
   {
    "duration": 2,
    "start_time": "2021-09-13T11:12:58.308Z"
   },
   {
    "duration": 43,
    "start_time": "2021-09-13T11:12:58.312Z"
   },
   {
    "duration": 34,
    "start_time": "2021-09-13T11:12:58.358Z"
   },
   {
    "duration": 23,
    "start_time": "2021-09-13T11:12:58.394Z"
   },
   {
    "duration": 36,
    "start_time": "2021-09-13T11:12:58.419Z"
   },
   {
    "duration": 385,
    "start_time": "2021-09-13T11:12:58.457Z"
   },
   {
    "duration": 264,
    "start_time": "2021-09-13T11:12:58.844Z"
   },
   {
    "duration": 295,
    "start_time": "2021-09-13T11:12:59.110Z"
   },
   {
    "duration": 14,
    "start_time": "2021-09-13T11:12:59.407Z"
   },
   {
    "duration": 1304,
    "start_time": "2021-09-13T11:12:59.423Z"
   },
   {
    "duration": 1854,
    "start_time": "2021-09-13T11:13:00.729Z"
   },
   {
    "duration": 1495,
    "start_time": "2021-09-13T11:16:45.532Z"
   },
   {
    "duration": 1178,
    "start_time": "2021-09-13T11:16:59.880Z"
   },
   {
    "duration": 94,
    "start_time": "2021-09-13T11:17:01.060Z"
   },
   {
    "duration": 10,
    "start_time": "2021-09-13T11:17:01.156Z"
   },
   {
    "duration": 10,
    "start_time": "2021-09-13T11:17:01.192Z"
   },
   {
    "duration": 27,
    "start_time": "2021-09-13T11:17:01.204Z"
   },
   {
    "duration": 10,
    "start_time": "2021-09-13T11:17:01.233Z"
   },
   {
    "duration": 56,
    "start_time": "2021-09-13T11:17:01.244Z"
   },
   {
    "duration": 5,
    "start_time": "2021-09-13T11:17:01.303Z"
   },
   {
    "duration": 33,
    "start_time": "2021-09-13T11:17:01.310Z"
   },
   {
    "duration": 51,
    "start_time": "2021-09-13T11:17:01.345Z"
   },
   {
    "duration": 351,
    "start_time": "2021-09-13T11:17:01.398Z"
   },
   {
    "duration": 286,
    "start_time": "2021-09-13T11:17:01.751Z"
   },
   {
    "duration": 301,
    "start_time": "2021-09-13T11:17:02.038Z"
   },
   {
    "duration": 16,
    "start_time": "2021-09-13T11:17:02.341Z"
   },
   {
    "duration": 1355,
    "start_time": "2021-09-13T11:17:02.359Z"
   },
   {
    "duration": 85,
    "start_time": "2021-09-13T11:17:03.632Z"
   },
   {
    "duration": 1191,
    "start_time": "2021-09-13T11:17:19.508Z"
   },
   {
    "duration": 111,
    "start_time": "2021-09-13T11:17:20.701Z"
   },
   {
    "duration": 13,
    "start_time": "2021-09-13T11:17:20.817Z"
   },
   {
    "duration": 16,
    "start_time": "2021-09-13T11:17:20.832Z"
   },
   {
    "duration": 19,
    "start_time": "2021-09-13T11:17:20.849Z"
   },
   {
    "duration": 2,
    "start_time": "2021-09-13T11:17:20.892Z"
   },
   {
    "duration": 48,
    "start_time": "2021-09-13T11:17:20.897Z"
   },
   {
    "duration": 9,
    "start_time": "2021-09-13T11:17:20.947Z"
   },
   {
    "duration": 41,
    "start_time": "2021-09-13T11:17:20.958Z"
   },
   {
    "duration": 34,
    "start_time": "2021-09-13T11:17:21.001Z"
   },
   {
    "duration": 399,
    "start_time": "2021-09-13T11:17:21.037Z"
   },
   {
    "duration": 275,
    "start_time": "2021-09-13T11:17:21.439Z"
   },
   {
    "duration": 308,
    "start_time": "2021-09-13T11:17:21.716Z"
   },
   {
    "duration": 18,
    "start_time": "2021-09-13T11:17:22.027Z"
   },
   {
    "duration": 1384,
    "start_time": "2021-09-13T11:17:22.048Z"
   },
   {
    "duration": 1683,
    "start_time": "2021-09-13T11:17:23.434Z"
   },
   {
    "duration": 1193,
    "start_time": "2021-09-13T11:18:13.893Z"
   },
   {
    "duration": 97,
    "start_time": "2021-09-13T11:18:15.088Z"
   },
   {
    "duration": 11,
    "start_time": "2021-09-13T11:18:15.187Z"
   },
   {
    "duration": 12,
    "start_time": "2021-09-13T11:18:15.200Z"
   },
   {
    "duration": 16,
    "start_time": "2021-09-13T11:18:15.214Z"
   },
   {
    "duration": 1,
    "start_time": "2021-09-13T11:18:15.232Z"
   },
   {
    "duration": 77,
    "start_time": "2021-09-13T11:18:15.235Z"
   },
   {
    "duration": 6,
    "start_time": "2021-09-13T11:18:15.315Z"
   },
   {
    "duration": 21,
    "start_time": "2021-09-13T11:18:15.323Z"
   },
   {
    "duration": 64,
    "start_time": "2021-09-13T11:18:15.345Z"
   },
   {
    "duration": 381,
    "start_time": "2021-09-13T11:18:15.410Z"
   },
   {
    "duration": 286,
    "start_time": "2021-09-13T11:18:15.793Z"
   },
   {
    "duration": 293,
    "start_time": "2021-09-13T11:18:16.080Z"
   },
   {
    "duration": 24,
    "start_time": "2021-09-13T11:18:16.375Z"
   },
   {
    "duration": 1296,
    "start_time": "2021-09-13T11:18:16.401Z"
   },
   {
    "duration": 1620,
    "start_time": "2021-09-13T11:18:17.698Z"
   },
   {
    "duration": 1185,
    "start_time": "2021-09-13T11:18:38.150Z"
   },
   {
    "duration": 85,
    "start_time": "2021-09-13T11:18:39.337Z"
   },
   {
    "duration": 9,
    "start_time": "2021-09-13T11:18:39.425Z"
   },
   {
    "duration": 10,
    "start_time": "2021-09-13T11:18:39.436Z"
   },
   {
    "duration": 14,
    "start_time": "2021-09-13T11:18:39.448Z"
   },
   {
    "duration": 28,
    "start_time": "2021-09-13T11:18:39.464Z"
   },
   {
    "duration": 41,
    "start_time": "2021-09-13T11:18:39.494Z"
   },
   {
    "duration": 6,
    "start_time": "2021-09-13T11:18:39.539Z"
   },
   {
    "duration": 56,
    "start_time": "2021-09-13T11:18:39.547Z"
   },
   {
    "duration": 33,
    "start_time": "2021-09-13T11:18:39.605Z"
   },
   {
    "duration": 378,
    "start_time": "2021-09-13T11:18:39.640Z"
   },
   {
    "duration": 277,
    "start_time": "2021-09-13T11:18:40.020Z"
   },
   {
    "duration": 295,
    "start_time": "2021-09-13T11:18:40.299Z"
   },
   {
    "duration": 18,
    "start_time": "2021-09-13T11:18:40.596Z"
   },
   {
    "duration": 1302,
    "start_time": "2021-09-13T11:18:40.617Z"
   },
   {
    "duration": 1717,
    "start_time": "2021-09-13T11:18:41.921Z"
   },
   {
    "duration": 20,
    "start_time": "2021-09-13T13:00:04.174Z"
   },
   {
    "duration": 1153,
    "start_time": "2021-09-13T13:05:17.062Z"
   },
   {
    "duration": 19,
    "start_time": "2021-09-13T13:05:44.665Z"
   },
   {
    "duration": 21,
    "start_time": "2021-09-13T13:06:18.854Z"
   },
   {
    "duration": 28,
    "start_time": "2021-09-13T13:07:33.457Z"
   },
   {
    "duration": 19,
    "start_time": "2021-09-13T13:23:59.303Z"
   },
   {
    "duration": 7,
    "start_time": "2021-09-13T14:08:39.827Z"
   },
   {
    "duration": 248,
    "start_time": "2021-09-13T14:36:56.519Z"
   },
   {
    "duration": 247,
    "start_time": "2021-09-13T14:37:46.697Z"
   },
   {
    "duration": 252,
    "start_time": "2021-09-13T14:37:54.245Z"
   },
   {
    "duration": 248,
    "start_time": "2021-09-13T14:37:59.165Z"
   },
   {
    "duration": 308,
    "start_time": "2021-09-13T14:38:52.860Z"
   },
   {
    "duration": 261,
    "start_time": "2021-09-13T14:41:25.157Z"
   },
   {
    "duration": 333,
    "start_time": "2021-09-13T14:45:24.486Z"
   },
   {
    "duration": 124,
    "start_time": "2021-09-13T14:47:39.549Z"
   },
   {
    "duration": 264,
    "start_time": "2021-09-13T14:47:54.066Z"
   },
   {
    "duration": 307,
    "start_time": "2021-09-13T16:51:04.049Z"
   },
   {
    "duration": 6,
    "start_time": "2021-09-13T16:51:10.426Z"
   },
   {
    "duration": 6,
    "start_time": "2021-09-13T16:51:30.143Z"
   },
   {
    "duration": 7,
    "start_time": "2021-09-13T16:51:35.406Z"
   },
   {
    "duration": 5,
    "start_time": "2021-09-13T16:51:59.156Z"
   },
   {
    "duration": 6,
    "start_time": "2021-09-13T16:54:11.619Z"
   },
   {
    "duration": 11,
    "start_time": "2021-09-13T16:54:21.780Z"
   },
   {
    "duration": 24,
    "start_time": "2021-09-13T16:54:46.426Z"
   },
   {
    "duration": 9,
    "start_time": "2021-09-13T16:55:10.801Z"
   },
   {
    "duration": 9,
    "start_time": "2021-09-13T16:55:16.051Z"
   },
   {
    "duration": 9,
    "start_time": "2021-09-13T16:55:21.775Z"
   },
   {
    "duration": 680,
    "start_time": "2021-09-13T16:57:28.161Z"
   },
   {
    "duration": 11,
    "start_time": "2021-09-13T16:58:08.720Z"
   },
   {
    "duration": 303,
    "start_time": "2021-09-13T17:00:53.097Z"
   },
   {
    "duration": 1620,
    "start_time": "2021-09-13T17:01:05.611Z"
   },
   {
    "duration": 84,
    "start_time": "2021-09-13T17:01:07.233Z"
   },
   {
    "duration": 10,
    "start_time": "2021-09-13T17:01:07.318Z"
   },
   {
    "duration": 13,
    "start_time": "2021-09-13T17:01:07.330Z"
   },
   {
    "duration": 22,
    "start_time": "2021-09-13T17:01:07.345Z"
   },
   {
    "duration": 10,
    "start_time": "2021-09-13T17:01:07.368Z"
   },
   {
    "duration": 43,
    "start_time": "2021-09-13T17:01:07.392Z"
   },
   {
    "duration": 7,
    "start_time": "2021-09-13T17:01:07.438Z"
   },
   {
    "duration": 46,
    "start_time": "2021-09-13T17:01:07.446Z"
   },
   {
    "duration": 43,
    "start_time": "2021-09-13T17:01:07.494Z"
   },
   {
    "duration": 366,
    "start_time": "2021-09-13T17:01:07.539Z"
   },
   {
    "duration": 260,
    "start_time": "2021-09-13T17:01:07.907Z"
   },
   {
    "duration": 293,
    "start_time": "2021-09-13T17:01:08.170Z"
   },
   {
    "duration": 28,
    "start_time": "2021-09-13T17:01:08.465Z"
   },
   {
    "duration": 1227,
    "start_time": "2021-09-13T17:01:08.496Z"
   },
   {
    "duration": 18,
    "start_time": "2021-09-13T17:01:09.725Z"
   },
   {
    "duration": 18,
    "start_time": "2021-09-13T17:01:09.745Z"
   },
   {
    "duration": 8,
    "start_time": "2021-09-13T17:01:09.765Z"
   },
   {
    "duration": 1785,
    "start_time": "2021-09-13T17:01:09.792Z"
   },
   {
    "duration": 2362,
    "start_time": "2021-09-13T17:02:05.654Z"
   },
   {
    "duration": 82,
    "start_time": "2021-09-13T17:02:08.018Z"
   },
   {
    "duration": 9,
    "start_time": "2021-09-13T17:02:08.102Z"
   },
   {
    "duration": 12,
    "start_time": "2021-09-13T17:02:08.113Z"
   },
   {
    "duration": 15,
    "start_time": "2021-09-13T17:02:08.126Z"
   },
   {
    "duration": 6,
    "start_time": "2021-09-13T17:02:08.142Z"
   },
   {
    "duration": 68,
    "start_time": "2021-09-13T17:02:08.149Z"
   },
   {
    "duration": 5,
    "start_time": "2021-09-13T17:02:08.220Z"
   },
   {
    "duration": 23,
    "start_time": "2021-09-13T17:02:08.227Z"
   },
   {
    "duration": 46,
    "start_time": "2021-09-13T17:02:08.251Z"
   },
   {
    "duration": 351,
    "start_time": "2021-09-13T17:02:08.299Z"
   },
   {
    "duration": 247,
    "start_time": "2021-09-13T17:02:08.652Z"
   },
   {
    "duration": 269,
    "start_time": "2021-09-13T17:02:08.900Z"
   },
   {
    "duration": 21,
    "start_time": "2021-09-13T17:02:09.171Z"
   },
   {
    "duration": 1157,
    "start_time": "2021-09-13T17:02:09.193Z"
   },
   {
    "duration": 17,
    "start_time": "2021-09-13T17:02:10.352Z"
   },
   {
    "duration": 33,
    "start_time": "2021-09-13T17:02:10.370Z"
   },
   {
    "duration": 2,
    "start_time": "2021-09-13T17:02:10.404Z"
   },
   {
    "duration": 617,
    "start_time": "2021-09-13T17:02:10.408Z"
   },
   {
    "duration": 1088,
    "start_time": "2021-09-13T17:04:23.526Z"
   },
   {
    "duration": 83,
    "start_time": "2021-09-13T17:04:24.616Z"
   },
   {
    "duration": 8,
    "start_time": "2021-09-13T17:04:24.701Z"
   },
   {
    "duration": 10,
    "start_time": "2021-09-13T17:04:24.711Z"
   },
   {
    "duration": 17,
    "start_time": "2021-09-13T17:04:24.723Z"
   },
   {
    "duration": 5,
    "start_time": "2021-09-13T17:04:24.742Z"
   },
   {
    "duration": 67,
    "start_time": "2021-09-13T17:04:24.749Z"
   },
   {
    "duration": 5,
    "start_time": "2021-09-13T17:04:24.818Z"
   },
   {
    "duration": 20,
    "start_time": "2021-09-13T17:04:24.825Z"
   },
   {
    "duration": 47,
    "start_time": "2021-09-13T17:04:24.846Z"
   },
   {
    "duration": 331,
    "start_time": "2021-09-13T17:04:24.895Z"
   },
   {
    "duration": 251,
    "start_time": "2021-09-13T17:04:25.227Z"
   },
   {
    "duration": 273,
    "start_time": "2021-09-13T17:04:25.479Z"
   },
   {
    "duration": 13,
    "start_time": "2021-09-13T17:04:25.754Z"
   },
   {
    "duration": 1201,
    "start_time": "2021-09-13T17:04:25.769Z"
   },
   {
    "duration": 22,
    "start_time": "2021-09-13T17:04:26.972Z"
   },
   {
    "duration": 16,
    "start_time": "2021-09-13T17:04:26.996Z"
   },
   {
    "duration": 2,
    "start_time": "2021-09-13T17:04:27.014Z"
   },
   {
    "duration": 20,
    "start_time": "2021-09-13T17:04:27.017Z"
   },
   {
    "duration": 12,
    "start_time": "2021-09-13T17:04:35.603Z"
   },
   {
    "duration": 13,
    "start_time": "2021-09-13T17:04:39.616Z"
   },
   {
    "duration": 13,
    "start_time": "2021-09-13T17:04:42.530Z"
   },
   {
    "duration": 5,
    "start_time": "2021-09-13T17:16:03.300Z"
   },
   {
    "duration": 7,
    "start_time": "2021-09-13T17:16:05.982Z"
   },
   {
    "duration": 12,
    "start_time": "2021-09-13T17:16:46.015Z"
   },
   {
    "duration": 12,
    "start_time": "2021-09-13T17:16:59.635Z"
   },
   {
    "duration": 12,
    "start_time": "2021-09-13T17:17:02.980Z"
   },
   {
    "duration": 354,
    "start_time": "2021-09-14T07:27:15.911Z"
   },
   {
    "duration": 1501,
    "start_time": "2021-09-14T07:27:27.225Z"
   },
   {
    "duration": 133,
    "start_time": "2021-09-14T07:27:28.728Z"
   },
   {
    "duration": 12,
    "start_time": "2021-09-14T07:27:28.864Z"
   },
   {
    "duration": 32,
    "start_time": "2021-09-14T07:27:28.879Z"
   },
   {
    "duration": 42,
    "start_time": "2021-09-14T07:27:28.914Z"
   },
   {
    "duration": 11,
    "start_time": "2021-09-14T07:27:28.959Z"
   },
   {
    "duration": 96,
    "start_time": "2021-09-14T07:27:28.973Z"
   },
   {
    "duration": 14,
    "start_time": "2021-09-14T07:27:29.073Z"
   },
   {
    "duration": 64,
    "start_time": "2021-09-14T07:27:29.090Z"
   },
   {
    "duration": 97,
    "start_time": "2021-09-14T07:27:29.158Z"
   },
   {
    "duration": 868,
    "start_time": "2021-09-14T07:27:29.259Z"
   },
   {
    "duration": 494,
    "start_time": "2021-09-14T07:27:30.130Z"
   },
   {
    "duration": 518,
    "start_time": "2021-09-14T07:27:30.627Z"
   },
   {
    "duration": 21,
    "start_time": "2021-09-14T07:27:31.150Z"
   },
   {
    "duration": 2046,
    "start_time": "2021-09-14T07:27:31.174Z"
   },
   {
    "duration": 39,
    "start_time": "2021-09-14T07:27:33.223Z"
   },
   {
    "duration": 29,
    "start_time": "2021-09-14T07:27:33.264Z"
   },
   {
    "duration": 3,
    "start_time": "2021-09-14T07:27:33.296Z"
   },
   {
    "duration": 63,
    "start_time": "2021-09-14T07:27:33.301Z"
   },
   {
    "duration": 17,
    "start_time": "2021-09-14T07:27:33.366Z"
   },
   {
    "duration": 403,
    "start_time": "2021-09-14T07:28:03.662Z"
   },
   {
    "duration": 413,
    "start_time": "2021-09-14T07:28:23.223Z"
   },
   {
    "duration": 1598,
    "start_time": "2021-09-14T07:28:28.534Z"
   },
   {
    "duration": 142,
    "start_time": "2021-09-14T07:28:30.134Z"
   },
   {
    "duration": 12,
    "start_time": "2021-09-14T07:28:30.279Z"
   },
   {
    "duration": 46,
    "start_time": "2021-09-14T07:28:30.294Z"
   },
   {
    "duration": 35,
    "start_time": "2021-09-14T07:28:30.342Z"
   },
   {
    "duration": 21,
    "start_time": "2021-09-14T07:28:30.379Z"
   },
   {
    "duration": 95,
    "start_time": "2021-09-14T07:28:30.402Z"
   },
   {
    "duration": 12,
    "start_time": "2021-09-14T07:28:30.501Z"
   },
   {
    "duration": 50,
    "start_time": "2021-09-14T07:28:30.516Z"
   },
   {
    "duration": 53,
    "start_time": "2021-09-14T07:28:30.568Z"
   },
   {
    "duration": 554,
    "start_time": "2021-09-14T07:28:30.654Z"
   },
   {
    "duration": 447,
    "start_time": "2021-09-14T07:28:31.210Z"
   },
   {
    "duration": 464,
    "start_time": "2021-09-14T07:28:31.660Z"
   },
   {
    "duration": 38,
    "start_time": "2021-09-14T07:28:32.127Z"
   },
   {
    "duration": 1934,
    "start_time": "2021-09-14T07:28:32.167Z"
   },
   {
    "duration": 27,
    "start_time": "2021-09-14T07:28:34.103Z"
   },
   {
    "duration": 45,
    "start_time": "2021-09-14T07:28:34.132Z"
   },
   {
    "duration": 3,
    "start_time": "2021-09-14T07:28:34.179Z"
   },
   {
    "duration": 25,
    "start_time": "2021-09-14T07:28:34.184Z"
   },
   {
    "duration": 56,
    "start_time": "2021-09-14T07:28:34.212Z"
   },
   {
    "duration": 1484,
    "start_time": "2021-09-14T07:59:44.646Z"
   },
   {
    "duration": 148,
    "start_time": "2021-09-14T07:59:46.133Z"
   },
   {
    "duration": 16,
    "start_time": "2021-09-14T07:59:46.284Z"
   },
   {
    "duration": 53,
    "start_time": "2021-09-14T07:59:46.304Z"
   },
   {
    "duration": 26,
    "start_time": "2021-09-14T07:59:46.360Z"
   },
   {
    "duration": 28,
    "start_time": "2021-09-14T07:59:46.389Z"
   },
   {
    "duration": 96,
    "start_time": "2021-09-14T07:59:46.420Z"
   },
   {
    "duration": 35,
    "start_time": "2021-09-14T07:59:46.521Z"
   },
   {
    "duration": 58,
    "start_time": "2021-09-14T07:59:46.559Z"
   },
   {
    "duration": 64,
    "start_time": "2021-09-14T07:59:46.619Z"
   },
   {
    "duration": 728,
    "start_time": "2021-09-14T07:59:46.686Z"
   },
   {
    "duration": -44,
    "start_time": "2021-09-14T07:59:47.461Z"
   },
   {
    "duration": -50,
    "start_time": "2021-09-14T07:59:47.468Z"
   },
   {
    "duration": -56,
    "start_time": "2021-09-14T07:59:47.475Z"
   },
   {
    "duration": -57,
    "start_time": "2021-09-14T07:59:47.478Z"
   },
   {
    "duration": -59,
    "start_time": "2021-09-14T07:59:47.481Z"
   },
   {
    "duration": -61,
    "start_time": "2021-09-14T07:59:47.484Z"
   },
   {
    "duration": -63,
    "start_time": "2021-09-14T07:59:47.487Z"
   },
   {
    "duration": -65,
    "start_time": "2021-09-14T07:59:47.491Z"
   },
   {
    "duration": -67,
    "start_time": "2021-09-14T07:59:47.494Z"
   },
   {
    "duration": 564,
    "start_time": "2021-09-14T08:00:31.865Z"
   },
   {
    "duration": 1418,
    "start_time": "2021-09-14T08:06:18.609Z"
   },
   {
    "duration": 138,
    "start_time": "2021-09-14T08:06:20.030Z"
   },
   {
    "duration": 13,
    "start_time": "2021-09-14T08:06:20.171Z"
   },
   {
    "duration": 28,
    "start_time": "2021-09-14T08:06:20.187Z"
   },
   {
    "duration": 45,
    "start_time": "2021-09-14T08:06:20.218Z"
   },
   {
    "duration": 12,
    "start_time": "2021-09-14T08:06:20.265Z"
   },
   {
    "duration": 92,
    "start_time": "2021-09-14T08:06:20.280Z"
   },
   {
    "duration": 7,
    "start_time": "2021-09-14T08:06:20.376Z"
   },
   {
    "duration": 35,
    "start_time": "2021-09-14T08:06:20.386Z"
   },
   {
    "duration": 52,
    "start_time": "2021-09-14T08:06:20.455Z"
   },
   {
    "duration": 582,
    "start_time": "2021-09-14T08:06:20.509Z"
   },
   {
    "duration": 428,
    "start_time": "2021-09-14T08:06:21.094Z"
   },
   {
    "duration": 471,
    "start_time": "2021-09-14T08:06:21.524Z"
   },
   {
    "duration": 23,
    "start_time": "2021-09-14T08:06:21.997Z"
   },
   {
    "duration": 1927,
    "start_time": "2021-09-14T08:06:22.022Z"
   },
   {
    "duration": 7,
    "start_time": "2021-09-14T08:06:23.951Z"
   },
   {
    "duration": 670,
    "start_time": "2021-09-14T08:06:23.960Z"
   },
   {
    "duration": 3,
    "start_time": "2021-09-14T08:06:24.632Z"
   },
   {
    "duration": 36,
    "start_time": "2021-09-14T08:06:24.637Z"
   },
   {
    "duration": 38,
    "start_time": "2021-09-14T08:06:24.676Z"
   },
   {
    "duration": 2560,
    "start_time": "2021-09-14T08:10:23.895Z"
   },
   {
    "duration": 676,
    "start_time": "2021-09-14T08:17:47.340Z"
   },
   {
    "duration": 8,
    "start_time": "2021-09-14T08:42:32.604Z"
   },
   {
    "duration": 18,
    "start_time": "2021-09-14T08:42:47.995Z"
   },
   {
    "duration": 21,
    "start_time": "2021-09-14T08:42:52.051Z"
   },
   {
    "duration": 1444,
    "start_time": "2021-09-14T08:43:23.384Z"
   },
   {
    "duration": 141,
    "start_time": "2021-09-14T08:43:24.830Z"
   },
   {
    "duration": 12,
    "start_time": "2021-09-14T08:43:24.974Z"
   },
   {
    "duration": 38,
    "start_time": "2021-09-14T08:43:24.989Z"
   },
   {
    "duration": 37,
    "start_time": "2021-09-14T08:43:25.030Z"
   },
   {
    "duration": 12,
    "start_time": "2021-09-14T08:43:25.069Z"
   },
   {
    "duration": 93,
    "start_time": "2021-09-14T08:43:25.084Z"
   },
   {
    "duration": 12,
    "start_time": "2021-09-14T08:43:25.181Z"
   },
   {
    "duration": 35,
    "start_time": "2021-09-14T08:43:25.196Z"
   },
   {
    "duration": 71,
    "start_time": "2021-09-14T08:43:25.234Z"
   },
   {
    "duration": 589,
    "start_time": "2021-09-14T08:43:25.307Z"
   },
   {
    "duration": 435,
    "start_time": "2021-09-14T08:43:25.899Z"
   },
   {
    "duration": 471,
    "start_time": "2021-09-14T08:43:26.336Z"
   },
   {
    "duration": 21,
    "start_time": "2021-09-14T08:43:26.809Z"
   },
   {
    "duration": 2164,
    "start_time": "2021-09-14T08:43:26.833Z"
   },
   {
    "duration": 8,
    "start_time": "2021-09-14T08:43:28.999Z"
   },
   {
    "duration": 2653,
    "start_time": "2021-09-14T08:43:29.009Z"
   },
   {
    "duration": 725,
    "start_time": "2021-09-14T08:43:31.664Z"
   },
   {
    "duration": 3,
    "start_time": "2021-09-14T08:43:32.391Z"
   },
   {
    "duration": 52,
    "start_time": "2021-09-14T08:43:32.396Z"
   },
   {
    "duration": 20,
    "start_time": "2021-09-14T08:43:32.450Z"
   },
   {
    "duration": 1465,
    "start_time": "2021-09-14T08:43:55.962Z"
   },
   {
    "duration": 137,
    "start_time": "2021-09-14T08:43:57.430Z"
   },
   {
    "duration": 11,
    "start_time": "2021-09-14T08:43:57.570Z"
   },
   {
    "duration": 23,
    "start_time": "2021-09-14T08:43:57.584Z"
   },
   {
    "duration": 45,
    "start_time": "2021-09-14T08:43:57.609Z"
   },
   {
    "duration": 14,
    "start_time": "2021-09-14T08:43:57.657Z"
   },
   {
    "duration": 91,
    "start_time": "2021-09-14T08:43:57.673Z"
   },
   {
    "duration": 8,
    "start_time": "2021-09-14T08:43:57.769Z"
   },
   {
    "duration": 33,
    "start_time": "2021-09-14T08:43:57.780Z"
   },
   {
    "duration": 85,
    "start_time": "2021-09-14T08:43:57.816Z"
   },
   {
    "duration": 585,
    "start_time": "2021-09-14T08:43:57.904Z"
   },
   {
    "duration": 485,
    "start_time": "2021-09-14T08:43:58.492Z"
   },
   {
    "duration": 482,
    "start_time": "2021-09-14T08:43:58.980Z"
   },
   {
    "duration": 20,
    "start_time": "2021-09-14T08:43:59.465Z"
   },
   {
    "duration": 2418,
    "start_time": "2021-09-14T08:43:59.488Z"
   },
   {
    "duration": 9,
    "start_time": "2021-09-14T08:44:01.908Z"
   },
   {
    "duration": 2583,
    "start_time": "2021-09-14T08:44:01.920Z"
   },
   {
    "duration": 687,
    "start_time": "2021-09-14T08:44:04.506Z"
   },
   {
    "duration": 3,
    "start_time": "2021-09-14T08:44:05.195Z"
   },
   {
    "duration": 28,
    "start_time": "2021-09-14T08:44:05.200Z"
   },
   {
    "duration": 37,
    "start_time": "2021-09-14T08:44:05.231Z"
   },
   {
    "duration": 424,
    "start_time": "2021-09-14T08:44:26.312Z"
   },
   {
    "duration": 1602,
    "start_time": "2021-09-14T08:44:32.841Z"
   },
   {
    "duration": 177,
    "start_time": "2021-09-14T08:44:34.446Z"
   },
   {
    "duration": 35,
    "start_time": "2021-09-14T08:44:34.627Z"
   },
   {
    "duration": 16,
    "start_time": "2021-09-14T08:44:34.665Z"
   },
   {
    "duration": 29,
    "start_time": "2021-09-14T08:44:34.683Z"
   },
   {
    "duration": 40,
    "start_time": "2021-09-14T08:44:34.715Z"
   },
   {
    "duration": 68,
    "start_time": "2021-09-14T08:44:34.758Z"
   },
   {
    "duration": 25,
    "start_time": "2021-09-14T08:44:34.830Z"
   },
   {
    "duration": 26,
    "start_time": "2021-09-14T08:44:34.858Z"
   },
   {
    "duration": 84,
    "start_time": "2021-09-14T08:44:34.887Z"
   },
   {
    "duration": 595,
    "start_time": "2021-09-14T08:44:34.974Z"
   },
   {
    "duration": 442,
    "start_time": "2021-09-14T08:44:35.571Z"
   },
   {
    "duration": 470,
    "start_time": "2021-09-14T08:44:36.016Z"
   },
   {
    "duration": 20,
    "start_time": "2021-09-14T08:44:36.488Z"
   },
   {
    "duration": 1966,
    "start_time": "2021-09-14T08:44:36.511Z"
   },
   {
    "duration": 9,
    "start_time": "2021-09-14T08:44:38.479Z"
   },
   {
    "duration": 2642,
    "start_time": "2021-09-14T08:44:38.491Z"
   },
   {
    "duration": 655,
    "start_time": "2021-09-14T08:44:41.136Z"
   },
   {
    "duration": 4,
    "start_time": "2021-09-14T08:44:41.794Z"
   },
   {
    "duration": 31,
    "start_time": "2021-09-14T08:44:41.800Z"
   },
   {
    "duration": 38,
    "start_time": "2021-09-14T08:44:41.835Z"
   },
   {
    "duration": 20,
    "start_time": "2021-09-14T08:45:27.905Z"
   },
   {
    "duration": 1490,
    "start_time": "2021-09-14T08:45:39.231Z"
   },
   {
    "duration": 134,
    "start_time": "2021-09-14T08:45:40.724Z"
   },
   {
    "duration": 12,
    "start_time": "2021-09-14T08:45:40.861Z"
   },
   {
    "duration": 30,
    "start_time": "2021-09-14T08:45:40.876Z"
   },
   {
    "duration": 46,
    "start_time": "2021-09-14T08:45:40.908Z"
   },
   {
    "duration": 11,
    "start_time": "2021-09-14T08:45:40.957Z"
   },
   {
    "duration": 90,
    "start_time": "2021-09-14T08:45:40.971Z"
   },
   {
    "duration": 12,
    "start_time": "2021-09-14T08:45:41.064Z"
   },
   {
    "duration": 29,
    "start_time": "2021-09-14T08:45:41.079Z"
   },
   {
    "duration": 85,
    "start_time": "2021-09-14T08:45:41.110Z"
   },
   {
    "duration": 579,
    "start_time": "2021-09-14T08:45:41.197Z"
   },
   {
    "duration": 441,
    "start_time": "2021-09-14T08:45:41.778Z"
   },
   {
    "duration": 481,
    "start_time": "2021-09-14T08:45:42.221Z"
   },
   {
    "duration": 5,
    "start_time": "2021-09-14T08:45:42.705Z"
   },
   {
    "duration": 1988,
    "start_time": "2021-09-14T08:45:42.713Z"
   },
   {
    "duration": 9,
    "start_time": "2021-09-14T08:45:44.703Z"
   },
   {
    "duration": 2562,
    "start_time": "2021-09-14T08:45:44.714Z"
   },
   {
    "duration": 683,
    "start_time": "2021-09-14T08:45:47.279Z"
   },
   {
    "duration": 3,
    "start_time": "2021-09-14T08:45:47.965Z"
   },
   {
    "duration": 24,
    "start_time": "2021-09-14T08:45:47.971Z"
   },
   {
    "duration": 56,
    "start_time": "2021-09-14T08:45:47.998Z"
   },
   {
    "duration": 20,
    "start_time": "2021-09-14T08:45:54.958Z"
   },
   {
    "duration": 778,
    "start_time": "2021-09-14T09:06:43.210Z"
   },
   {
    "duration": 1493,
    "start_time": "2021-09-14T09:07:06.272Z"
   },
   {
    "duration": 21,
    "start_time": "2021-09-14T09:11:57.620Z"
   },
   {
    "duration": 1330,
    "start_time": "2021-09-14T09:12:44.558Z"
   },
   {
    "duration": 21,
    "start_time": "2021-09-14T09:13:43.101Z"
   },
   {
    "duration": 28,
    "start_time": "2021-09-14T11:30:13.898Z"
   },
   {
    "duration": 21,
    "start_time": "2021-09-14T11:35:07.017Z"
   },
   {
    "duration": 1060,
    "start_time": "2021-09-14T11:35:45.284Z"
   },
   {
    "duration": 1093,
    "start_time": "2021-09-14T11:35:55.663Z"
   },
   {
    "duration": 1079,
    "start_time": "2021-09-14T11:41:08.148Z"
   },
   {
    "duration": 22,
    "start_time": "2021-09-14T11:41:14.360Z"
   },
   {
    "duration": 1733,
    "start_time": "2021-09-14T11:43:43.776Z"
   },
   {
    "duration": 468,
    "start_time": "2021-09-14T11:46:28.578Z"
   },
   {
    "duration": 275,
    "start_time": "2021-09-14T11:46:43.561Z"
   },
   {
    "duration": 24,
    "start_time": "2021-09-14T11:46:53.047Z"
   },
   {
    "duration": 290,
    "start_time": "2021-09-14T11:47:05.940Z"
   },
   {
    "duration": 308,
    "start_time": "2021-09-14T12:24:08.608Z"
   },
   {
    "duration": 350,
    "start_time": "2021-09-14T12:24:19.725Z"
   },
   {
    "duration": 729,
    "start_time": "2021-09-14T12:24:29.646Z"
   },
   {
    "duration": 26,
    "start_time": "2021-09-14T12:39:50.254Z"
   },
   {
    "duration": 294,
    "start_time": "2021-09-14T12:40:32.398Z"
   },
   {
    "duration": 26,
    "start_time": "2021-09-14T12:41:04.252Z"
   },
   {
    "duration": 26,
    "start_time": "2021-09-14T12:41:10.860Z"
   },
   {
    "duration": 25,
    "start_time": "2021-09-14T12:41:28.737Z"
   },
   {
    "duration": 26,
    "start_time": "2021-09-14T12:41:46.658Z"
   },
   {
    "duration": 8459,
    "start_time": "2021-09-14T12:42:29.699Z"
   },
   {
    "duration": 1432,
    "start_time": "2021-09-14T12:42:40.607Z"
   },
   {
    "duration": 150,
    "start_time": "2021-09-14T12:42:42.042Z"
   },
   {
    "duration": 12,
    "start_time": "2021-09-14T12:42:42.195Z"
   },
   {
    "duration": 45,
    "start_time": "2021-09-14T12:42:42.211Z"
   },
   {
    "duration": 23,
    "start_time": "2021-09-14T12:42:42.259Z"
   },
   {
    "duration": 12,
    "start_time": "2021-09-14T12:42:42.284Z"
   },
   {
    "duration": 105,
    "start_time": "2021-09-14T12:42:42.299Z"
   },
   {
    "duration": 8,
    "start_time": "2021-09-14T12:42:42.408Z"
   },
   {
    "duration": 61,
    "start_time": "2021-09-14T12:42:42.418Z"
   },
   {
    "duration": 92,
    "start_time": "2021-09-14T12:42:42.481Z"
   },
   {
    "duration": 595,
    "start_time": "2021-09-14T12:42:42.576Z"
   },
   {
    "duration": 454,
    "start_time": "2021-09-14T12:42:43.174Z"
   },
   {
    "duration": 488,
    "start_time": "2021-09-14T12:42:43.631Z"
   },
   {
    "duration": 38,
    "start_time": "2021-09-14T12:42:44.121Z"
   },
   {
    "duration": 2046,
    "start_time": "2021-09-14T12:42:44.161Z"
   },
   {
    "duration": 9,
    "start_time": "2021-09-14T12:42:46.210Z"
   },
   {
    "duration": 1454,
    "start_time": "2021-09-14T12:42:54.868Z"
   },
   {
    "duration": 139,
    "start_time": "2021-09-14T12:42:56.324Z"
   },
   {
    "duration": 11,
    "start_time": "2021-09-14T12:42:56.466Z"
   },
   {
    "duration": 26,
    "start_time": "2021-09-14T12:42:56.480Z"
   },
   {
    "duration": 35,
    "start_time": "2021-09-14T12:42:56.508Z"
   },
   {
    "duration": 12,
    "start_time": "2021-09-14T12:42:56.553Z"
   },
   {
    "duration": 102,
    "start_time": "2021-09-14T12:42:56.567Z"
   },
   {
    "duration": 7,
    "start_time": "2021-09-14T12:42:56.673Z"
   },
   {
    "duration": 47,
    "start_time": "2021-09-14T12:42:56.683Z"
   },
   {
    "duration": 71,
    "start_time": "2021-09-14T12:42:56.732Z"
   },
   {
    "duration": 593,
    "start_time": "2021-09-14T12:42:56.806Z"
   },
   {
    "duration": 453,
    "start_time": "2021-09-14T12:42:57.402Z"
   },
   {
    "duration": 475,
    "start_time": "2021-09-14T12:42:57.857Z"
   },
   {
    "duration": 36,
    "start_time": "2021-09-14T12:42:58.335Z"
   },
   {
    "duration": 2099,
    "start_time": "2021-09-14T12:42:58.374Z"
   },
   {
    "duration": 9,
    "start_time": "2021-09-14T12:43:00.476Z"
   },
   {
    "duration": 38,
    "start_time": "2021-09-14T12:43:00.488Z"
   },
   {
    "duration": 772,
    "start_time": "2021-09-14T12:43:00.528Z"
   },
   {
    "duration": 670,
    "start_time": "2021-09-14T12:43:01.302Z"
   },
   {
    "duration": 3,
    "start_time": "2021-09-14T12:43:01.974Z"
   },
   {
    "duration": 48,
    "start_time": "2021-09-14T12:43:01.979Z"
   },
   {
    "duration": 46,
    "start_time": "2021-09-14T12:43:02.029Z"
   },
   {
    "duration": 1446,
    "start_time": "2021-09-14T12:43:27.278Z"
   },
   {
    "duration": 154,
    "start_time": "2021-09-14T12:43:28.727Z"
   },
   {
    "duration": 13,
    "start_time": "2021-09-14T12:43:28.885Z"
   },
   {
    "duration": 18,
    "start_time": "2021-09-14T12:43:28.902Z"
   },
   {
    "duration": 24,
    "start_time": "2021-09-14T12:43:28.955Z"
   },
   {
    "duration": 11,
    "start_time": "2021-09-14T12:43:28.982Z"
   },
   {
    "duration": 114,
    "start_time": "2021-09-14T12:43:28.996Z"
   },
   {
    "duration": 11,
    "start_time": "2021-09-14T12:43:29.114Z"
   },
   {
    "duration": 52,
    "start_time": "2021-09-14T12:43:29.128Z"
   },
   {
    "duration": 84,
    "start_time": "2021-09-14T12:43:29.183Z"
   },
   {
    "duration": 592,
    "start_time": "2021-09-14T12:43:29.270Z"
   },
   {
    "duration": 473,
    "start_time": "2021-09-14T12:43:29.865Z"
   },
   {
    "duration": 487,
    "start_time": "2021-09-14T12:43:30.341Z"
   },
   {
    "duration": 33,
    "start_time": "2021-09-14T12:43:30.831Z"
   },
   {
    "duration": 1968,
    "start_time": "2021-09-14T12:43:30.867Z"
   },
   {
    "duration": 18,
    "start_time": "2021-09-14T12:43:32.838Z"
   },
   {
    "duration": 765,
    "start_time": "2021-09-14T12:43:32.859Z"
   },
   {
    "duration": 27,
    "start_time": "2021-09-14T12:43:33.627Z"
   },
   {
    "duration": 669,
    "start_time": "2021-09-14T12:43:33.656Z"
   },
   {
    "duration": 3,
    "start_time": "2021-09-14T12:43:34.327Z"
   },
   {
    "duration": 37,
    "start_time": "2021-09-14T12:43:34.332Z"
   },
   {
    "duration": 16,
    "start_time": "2021-09-14T12:43:34.372Z"
   },
   {
    "duration": 91,
    "start_time": "2021-09-14T13:01:00.339Z"
   },
   {
    "duration": 8,
    "start_time": "2021-09-14T13:07:19.496Z"
   },
   {
    "duration": 10,
    "start_time": "2021-09-14T13:08:20.665Z"
   },
   {
    "duration": 746,
    "start_time": "2021-09-14T13:09:53.655Z"
   },
   {
    "duration": 746,
    "start_time": "2021-09-14T13:10:11.230Z"
   },
   {
    "duration": 1430,
    "start_time": "2021-09-14T13:17:50.187Z"
   },
   {
    "duration": 117,
    "start_time": "2021-09-14T13:17:51.620Z"
   },
   {
    "duration": 11,
    "start_time": "2021-09-14T13:17:51.756Z"
   },
   {
    "duration": 33,
    "start_time": "2021-09-14T13:17:51.770Z"
   },
   {
    "duration": 35,
    "start_time": "2021-09-14T13:17:51.806Z"
   },
   {
    "duration": 19,
    "start_time": "2021-09-14T13:17:51.844Z"
   },
   {
    "duration": 89,
    "start_time": "2021-09-14T13:17:51.866Z"
   },
   {
    "duration": 13,
    "start_time": "2021-09-14T13:17:51.959Z"
   },
   {
    "duration": 39,
    "start_time": "2021-09-14T13:17:51.975Z"
   },
   {
    "duration": 76,
    "start_time": "2021-09-14T13:17:52.016Z"
   },
   {
    "duration": 552,
    "start_time": "2021-09-14T13:17:52.095Z"
   },
   {
    "duration": 430,
    "start_time": "2021-09-14T13:17:52.654Z"
   },
   {
    "duration": 486,
    "start_time": "2021-09-14T13:17:53.086Z"
   },
   {
    "duration": 20,
    "start_time": "2021-09-14T13:17:53.574Z"
   },
   {
    "duration": 2011,
    "start_time": "2021-09-14T13:17:53.596Z"
   },
   {
    "duration": 10,
    "start_time": "2021-09-14T13:17:55.610Z"
   },
   {
    "duration": 756,
    "start_time": "2021-09-14T13:17:55.623Z"
   },
   {
    "duration": 11,
    "start_time": "2021-09-14T13:17:56.381Z"
   },
   {
    "duration": 769,
    "start_time": "2021-09-14T13:17:56.394Z"
   },
   {
    "duration": 716,
    "start_time": "2021-09-14T13:17:57.166Z"
   },
   {
    "duration": 779,
    "start_time": "2021-09-14T13:17:57.884Z"
   },
   {
    "duration": 740,
    "start_time": "2021-09-14T13:17:58.666Z"
   },
   {
    "duration": 843,
    "start_time": "2021-09-14T13:17:59.411Z"
   },
   {
    "duration": 896,
    "start_time": "2021-09-14T13:18:00.257Z"
   },
   {
    "duration": 3,
    "start_time": "2021-09-14T13:18:01.155Z"
   },
   {
    "duration": 48,
    "start_time": "2021-09-14T13:18:01.161Z"
   },
   {
    "duration": 30,
    "start_time": "2021-09-14T13:18:01.211Z"
   },
   {
    "duration": 17,
    "start_time": "2021-09-14T13:30:31.819Z"
   },
   {
    "duration": 402,
    "start_time": "2021-09-14T13:42:05.864Z"
   },
   {
    "duration": 8,
    "start_time": "2021-09-14T13:42:19.769Z"
   },
   {
    "duration": 10,
    "start_time": "2021-09-14T13:43:00.530Z"
   },
   {
    "duration": 9,
    "start_time": "2021-09-14T13:43:08.793Z"
   },
   {
    "duration": 14,
    "start_time": "2021-09-14T13:44:19.182Z"
   },
   {
    "duration": 15,
    "start_time": "2021-09-14T13:44:30.142Z"
   },
   {
    "duration": 19,
    "start_time": "2021-09-14T13:45:03.997Z"
   },
   {
    "duration": 118,
    "start_time": "2021-09-14T13:45:12.440Z"
   },
   {
    "duration": 19,
    "start_time": "2021-09-14T13:45:50.460Z"
   },
   {
    "duration": 18,
    "start_time": "2021-09-14T13:46:48.003Z"
   },
   {
    "duration": 21,
    "start_time": "2021-09-14T13:51:09.533Z"
   },
   {
    "duration": 333,
    "start_time": "2021-09-14T16:11:11.084Z"
   },
   {
    "duration": 1493,
    "start_time": "2021-09-14T16:11:20.086Z"
   },
   {
    "duration": 130,
    "start_time": "2021-09-14T16:11:21.581Z"
   },
   {
    "duration": 12,
    "start_time": "2021-09-14T16:11:21.714Z"
   },
   {
    "duration": 41,
    "start_time": "2021-09-14T16:11:21.729Z"
   },
   {
    "duration": 27,
    "start_time": "2021-09-14T16:11:21.772Z"
   },
   {
    "duration": 12,
    "start_time": "2021-09-14T16:11:21.802Z"
   },
   {
    "duration": 112,
    "start_time": "2021-09-14T16:11:21.817Z"
   },
   {
    "duration": 8,
    "start_time": "2021-09-14T16:11:21.935Z"
   },
   {
    "duration": 29,
    "start_time": "2021-09-14T16:11:21.968Z"
   },
   {
    "duration": 81,
    "start_time": "2021-09-14T16:11:21.999Z"
   },
   {
    "duration": 621,
    "start_time": "2021-09-14T16:11:22.083Z"
   },
   {
    "duration": 464,
    "start_time": "2021-09-14T16:11:22.706Z"
   },
   {
    "duration": 503,
    "start_time": "2021-09-14T16:11:23.172Z"
   },
   {
    "duration": 22,
    "start_time": "2021-09-14T16:11:23.677Z"
   },
   {
    "duration": 2082,
    "start_time": "2021-09-14T16:11:23.701Z"
   },
   {
    "duration": 9,
    "start_time": "2021-09-14T16:11:25.786Z"
   },
   {
    "duration": 797,
    "start_time": "2021-09-14T16:11:25.797Z"
   },
   {
    "duration": 10,
    "start_time": "2021-09-14T16:11:26.597Z"
   },
   {
    "duration": 706,
    "start_time": "2021-09-14T16:11:26.610Z"
   },
   {
    "duration": 800,
    "start_time": "2021-09-14T16:11:27.318Z"
   },
   {
    "duration": 883,
    "start_time": "2021-09-14T16:11:28.120Z"
   },
   {
    "duration": 840,
    "start_time": "2021-09-14T16:11:29.005Z"
   },
   {
    "duration": 825,
    "start_time": "2021-09-14T16:11:29.850Z"
   },
   {
    "duration": 757,
    "start_time": "2021-09-14T16:11:30.678Z"
   },
   {
    "duration": 37,
    "start_time": "2021-09-14T16:11:31.438Z"
   },
   {
    "duration": 23,
    "start_time": "2021-09-14T16:11:31.478Z"
   },
   {
    "duration": 22,
    "start_time": "2021-09-14T16:11:31.504Z"
   },
   {
    "duration": 60,
    "start_time": "2021-09-14T16:11:31.529Z"
   },
   {
    "duration": 26,
    "start_time": "2021-09-14T16:11:31.592Z"
   },
   {
    "duration": 58,
    "start_time": "2021-09-14T16:11:31.621Z"
   },
   {
    "duration": 423,
    "start_time": "2021-09-14T16:12:35.926Z"
   },
   {
    "duration": 430,
    "start_time": "2021-09-14T16:13:01.027Z"
   },
   {
    "duration": 551,
    "start_time": "2021-09-14T16:13:38.416Z"
   },
   {
    "duration": 837,
    "start_time": "2021-09-14T16:15:28.412Z"
   },
   {
    "duration": 732,
    "start_time": "2021-09-14T16:15:52.495Z"
   },
   {
    "duration": 713,
    "start_time": "2021-09-14T16:16:02.082Z"
   },
   {
    "duration": 657,
    "start_time": "2021-09-14T16:16:12.379Z"
   },
   {
    "duration": 706,
    "start_time": "2021-09-14T16:16:39.431Z"
   },
   {
    "duration": 429,
    "start_time": "2021-09-14T16:17:13.481Z"
   },
   {
    "duration": 434,
    "start_time": "2021-09-14T16:17:48.462Z"
   },
   {
    "duration": 398,
    "start_time": "2021-09-14T16:18:01.639Z"
   },
   {
    "duration": 486,
    "start_time": "2021-09-14T16:18:23.007Z"
   },
   {
    "duration": 390,
    "start_time": "2021-09-14T16:18:42.139Z"
   },
   {
    "duration": 573,
    "start_time": "2021-09-14T16:20:00.437Z"
   },
   {
    "duration": 612,
    "start_time": "2021-09-14T16:25:10.626Z"
   },
   {
    "duration": 494,
    "start_time": "2021-09-14T16:25:35.076Z"
   },
   {
    "duration": 475,
    "start_time": "2021-09-14T16:25:48.295Z"
   },
   {
    "duration": 441,
    "start_time": "2021-09-14T16:25:56.275Z"
   },
   {
    "duration": 1488,
    "start_time": "2021-09-14T16:26:15.784Z"
   },
   {
    "duration": 134,
    "start_time": "2021-09-14T16:26:17.274Z"
   },
   {
    "duration": 12,
    "start_time": "2021-09-14T16:26:17.411Z"
   },
   {
    "duration": 40,
    "start_time": "2021-09-14T16:26:17.427Z"
   },
   {
    "duration": 24,
    "start_time": "2021-09-14T16:26:17.469Z"
   },
   {
    "duration": 11,
    "start_time": "2021-09-14T16:26:17.495Z"
   },
   {
    "duration": 96,
    "start_time": "2021-09-14T16:26:17.508Z"
   },
   {
    "duration": 13,
    "start_time": "2021-09-14T16:26:17.608Z"
   },
   {
    "duration": 42,
    "start_time": "2021-09-14T16:26:17.625Z"
   },
   {
    "duration": 53,
    "start_time": "2021-09-14T16:26:17.670Z"
   },
   {
    "duration": 644,
    "start_time": "2021-09-14T16:26:17.726Z"
   },
   {
    "duration": 464,
    "start_time": "2021-09-14T16:26:18.373Z"
   },
   {
    "duration": 497,
    "start_time": "2021-09-14T16:26:18.840Z"
   },
   {
    "duration": 39,
    "start_time": "2021-09-14T16:26:19.340Z"
   },
   {
    "duration": 2081,
    "start_time": "2021-09-14T16:26:19.382Z"
   },
   {
    "duration": 9,
    "start_time": "2021-09-14T16:26:21.468Z"
   },
   {
    "duration": 792,
    "start_time": "2021-09-14T16:26:21.479Z"
   },
   {
    "duration": 10,
    "start_time": "2021-09-14T16:26:22.273Z"
   },
   {
    "duration": 701,
    "start_time": "2021-09-14T16:26:22.286Z"
   },
   {
    "duration": 819,
    "start_time": "2021-09-14T16:26:22.989Z"
   },
   {
    "duration": 756,
    "start_time": "2021-09-14T16:26:23.811Z"
   },
   {
    "duration": 763,
    "start_time": "2021-09-14T16:26:24.569Z"
   },
   {
    "duration": 833,
    "start_time": "2021-09-14T16:26:25.336Z"
   },
   {
    "duration": 767,
    "start_time": "2021-09-14T16:26:26.173Z"
   },
   {
    "duration": 33,
    "start_time": "2021-09-14T16:26:26.944Z"
   },
   {
    "duration": 21,
    "start_time": "2021-09-14T16:26:26.980Z"
   },
   {
    "duration": 20,
    "start_time": "2021-09-14T16:26:27.003Z"
   },
   {
    "duration": 59,
    "start_time": "2021-09-14T16:26:27.026Z"
   },
   {
    "duration": 24,
    "start_time": "2021-09-14T16:26:27.088Z"
   },
   {
    "duration": 16,
    "start_time": "2021-09-14T16:26:27.115Z"
   },
   {
    "duration": 457,
    "start_time": "2021-09-14T16:28:07.949Z"
   },
   {
    "duration": 273,
    "start_time": "2021-09-14T16:28:17.770Z"
   },
   {
    "duration": 23,
    "start_time": "2021-09-14T16:28:24.468Z"
   },
   {
    "duration": 24,
    "start_time": "2021-09-14T16:28:40.747Z"
   },
   {
    "duration": 1523,
    "start_time": "2021-09-14T16:28:51.344Z"
   },
   {
    "duration": 135,
    "start_time": "2021-09-14T16:28:52.869Z"
   },
   {
    "duration": 14,
    "start_time": "2021-09-14T16:28:53.009Z"
   },
   {
    "duration": 13,
    "start_time": "2021-09-14T16:28:53.027Z"
   },
   {
    "duration": 26,
    "start_time": "2021-09-14T16:28:53.068Z"
   },
   {
    "duration": 15,
    "start_time": "2021-09-14T16:28:53.097Z"
   },
   {
    "duration": 104,
    "start_time": "2021-09-14T16:28:53.115Z"
   },
   {
    "duration": 13,
    "start_time": "2021-09-14T16:28:53.222Z"
   },
   {
    "duration": 49,
    "start_time": "2021-09-14T16:28:53.241Z"
   },
   {
    "duration": 83,
    "start_time": "2021-09-14T16:28:53.294Z"
   },
   {
    "duration": 29,
    "start_time": "2021-09-14T16:28:53.381Z"
   },
   {
    "duration": 498,
    "start_time": "2021-09-14T16:28:53.413Z"
   },
   {
    "duration": 519,
    "start_time": "2021-09-14T16:28:53.915Z"
   },
   {
    "duration": 41,
    "start_time": "2021-09-14T16:28:54.437Z"
   },
   {
    "duration": 1986,
    "start_time": "2021-09-14T16:28:54.481Z"
   },
   {
    "duration": 9,
    "start_time": "2021-09-14T16:28:56.469Z"
   },
   {
    "duration": 870,
    "start_time": "2021-09-14T16:28:56.480Z"
   },
   {
    "duration": 21,
    "start_time": "2021-09-14T16:28:57.352Z"
   },
   {
    "duration": 694,
    "start_time": "2021-09-14T16:28:57.375Z"
   },
   {
    "duration": 853,
    "start_time": "2021-09-14T16:28:58.071Z"
   },
   {
    "duration": 869,
    "start_time": "2021-09-14T16:28:58.927Z"
   },
   {
    "duration": 869,
    "start_time": "2021-09-14T16:28:59.798Z"
   },
   {
    "duration": 942,
    "start_time": "2021-09-14T16:29:00.670Z"
   },
   {
    "duration": 829,
    "start_time": "2021-09-14T16:29:01.615Z"
   },
   {
    "duration": 28,
    "start_time": "2021-09-14T16:29:02.447Z"
   },
   {
    "duration": 22,
    "start_time": "2021-09-14T16:29:02.477Z"
   },
   {
    "duration": 23,
    "start_time": "2021-09-14T16:29:02.504Z"
   },
   {
    "duration": 54,
    "start_time": "2021-09-14T16:29:02.530Z"
   },
   {
    "duration": 22,
    "start_time": "2021-09-14T16:29:02.587Z"
   },
   {
    "duration": 23,
    "start_time": "2021-09-14T16:29:02.612Z"
   },
   {
    "duration": 449,
    "start_time": "2021-09-14T16:29:15.518Z"
   },
   {
    "duration": 2182,
    "start_time": "2021-09-14T16:32:55.423Z"
   },
   {
    "duration": 124,
    "start_time": "2021-09-14T16:32:57.608Z"
   },
   {
    "duration": 34,
    "start_time": "2021-09-14T16:32:57.735Z"
   },
   {
    "duration": 23,
    "start_time": "2021-09-14T16:32:57.772Z"
   },
   {
    "duration": 1992,
    "start_time": "2021-09-14T16:32:57.797Z"
   },
   {
    "duration": 324,
    "start_time": "2021-09-14T16:32:59.471Z"
   },
   {
    "duration": 317,
    "start_time": "2021-09-14T16:32:59.479Z"
   },
   {
    "duration": 312,
    "start_time": "2021-09-14T16:32:59.485Z"
   },
   {
    "duration": 268,
    "start_time": "2021-09-14T16:32:59.531Z"
   },
   {
    "duration": 259,
    "start_time": "2021-09-14T16:32:59.541Z"
   },
   {
    "duration": 253,
    "start_time": "2021-09-14T16:32:59.548Z"
   },
   {
    "duration": 240,
    "start_time": "2021-09-14T16:32:59.563Z"
   },
   {
    "duration": 228,
    "start_time": "2021-09-14T16:32:59.576Z"
   },
   {
    "duration": 222,
    "start_time": "2021-09-14T16:32:59.584Z"
   },
   {
    "duration": 214,
    "start_time": "2021-09-14T16:32:59.593Z"
   },
   {
    "duration": 207,
    "start_time": "2021-09-14T16:32:59.602Z"
   },
   {
    "duration": 197,
    "start_time": "2021-09-14T16:32:59.613Z"
   },
   {
    "duration": 193,
    "start_time": "2021-09-14T16:32:59.618Z"
   },
   {
    "duration": 183,
    "start_time": "2021-09-14T16:32:59.629Z"
   },
   {
    "duration": 178,
    "start_time": "2021-09-14T16:32:59.635Z"
   },
   {
    "duration": 170,
    "start_time": "2021-09-14T16:32:59.645Z"
   },
   {
    "duration": 166,
    "start_time": "2021-09-14T16:32:59.650Z"
   },
   {
    "duration": 160,
    "start_time": "2021-09-14T16:32:59.657Z"
   },
   {
    "duration": 151,
    "start_time": "2021-09-14T16:32:59.667Z"
   },
   {
    "duration": 118,
    "start_time": "2021-09-14T16:32:59.701Z"
   },
   {
    "duration": 106,
    "start_time": "2021-09-14T16:32:59.714Z"
   },
   {
    "duration": 101,
    "start_time": "2021-09-14T16:32:59.721Z"
   },
   {
    "duration": 91,
    "start_time": "2021-09-14T16:32:59.732Z"
   },
   {
    "duration": 87,
    "start_time": "2021-09-14T16:32:59.737Z"
   },
   {
    "duration": 79,
    "start_time": "2021-09-14T16:32:59.747Z"
   },
   {
    "duration": 2280,
    "start_time": "2021-09-14T16:34:29.553Z"
   },
   {
    "duration": 145,
    "start_time": "2021-09-14T16:34:31.837Z"
   },
   {
    "duration": 41,
    "start_time": "2021-09-14T16:34:31.986Z"
   },
   {
    "duration": 42,
    "start_time": "2021-09-14T16:34:32.031Z"
   },
   {
    "duration": 17,
    "start_time": "2021-09-14T16:34:32.076Z"
   },
   {
    "duration": 2131,
    "start_time": "2021-09-14T16:34:32.096Z"
   },
   {
    "duration": 344,
    "start_time": "2021-09-14T16:34:33.888Z"
   },
   {
    "duration": 310,
    "start_time": "2021-09-14T16:34:33.924Z"
   },
   {
    "duration": 237,
    "start_time": "2021-09-14T16:34:33.999Z"
   },
   {
    "duration": 209,
    "start_time": "2021-09-14T16:34:34.030Z"
   },
   {
    "duration": 190,
    "start_time": "2021-09-14T16:34:34.051Z"
   },
   {
    "duration": 164,
    "start_time": "2021-09-14T16:34:34.080Z"
   },
   {
    "duration": 133,
    "start_time": "2021-09-14T16:34:34.113Z"
   },
   {
    "duration": 110,
    "start_time": "2021-09-14T16:34:34.138Z"
   },
   {
    "duration": 101,
    "start_time": "2021-09-14T16:34:34.149Z"
   },
   {
    "duration": 94,
    "start_time": "2021-09-14T16:34:34.158Z"
   },
   {
    "duration": 90,
    "start_time": "2021-09-14T16:34:34.164Z"
   },
   {
    "duration": 89,
    "start_time": "2021-09-14T16:34:34.168Z"
   },
   {
    "duration": 84,
    "start_time": "2021-09-14T16:34:34.175Z"
   },
   {
    "duration": 81,
    "start_time": "2021-09-14T16:34:34.181Z"
   },
   {
    "duration": 23,
    "start_time": "2021-09-14T16:34:34.241Z"
   },
   {
    "duration": 17,
    "start_time": "2021-09-14T16:34:34.249Z"
   },
   {
    "duration": 15,
    "start_time": "2021-09-14T16:34:34.253Z"
   },
   {
    "duration": 6,
    "start_time": "2021-09-14T16:34:34.264Z"
   },
   {
    "duration": 3,
    "start_time": "2021-09-14T16:34:34.269Z"
   },
   {
    "duration": -2,
    "start_time": "2021-09-14T16:34:34.276Z"
   },
   {
    "duration": -5,
    "start_time": "2021-09-14T16:34:34.281Z"
   },
   {
    "duration": -8,
    "start_time": "2021-09-14T16:34:34.286Z"
   },
   {
    "duration": -15,
    "start_time": "2021-09-14T16:34:34.295Z"
   },
   {
    "duration": -18,
    "start_time": "2021-09-14T16:34:34.301Z"
   },
   {
    "duration": -22,
    "start_time": "2021-09-14T16:34:34.307Z"
   },
   {
    "duration": 2198,
    "start_time": "2021-09-14T16:35:14.181Z"
   },
   {
    "duration": 124,
    "start_time": "2021-09-14T16:35:16.381Z"
   },
   {
    "duration": 36,
    "start_time": "2021-09-14T16:35:16.508Z"
   },
   {
    "duration": 28,
    "start_time": "2021-09-14T16:35:16.547Z"
   },
   {
    "duration": 14,
    "start_time": "2021-09-14T16:35:16.578Z"
   },
   {
    "duration": 1996,
    "start_time": "2021-09-14T16:35:16.595Z"
   },
   {
    "duration": 397,
    "start_time": "2021-09-14T16:35:18.197Z"
   },
   {
    "duration": 394,
    "start_time": "2021-09-14T16:35:18.202Z"
   },
   {
    "duration": 357,
    "start_time": "2021-09-14T16:35:18.241Z"
   },
   {
    "duration": 274,
    "start_time": "2021-09-14T16:35:18.325Z"
   },
   {
    "duration": 271,
    "start_time": "2021-09-14T16:35:18.330Z"
   },
   {
    "duration": 267,
    "start_time": "2021-09-14T16:35:18.335Z"
   },
   {
    "duration": 263,
    "start_time": "2021-09-14T16:35:18.341Z"
   },
   {
    "duration": 259,
    "start_time": "2021-09-14T16:35:18.346Z"
   },
   {
    "duration": 255,
    "start_time": "2021-09-14T16:35:18.352Z"
   },
   {
    "duration": 243,
    "start_time": "2021-09-14T16:35:18.365Z"
   },
   {
    "duration": 239,
    "start_time": "2021-09-14T16:35:18.371Z"
   },
   {
    "duration": 235,
    "start_time": "2021-09-14T16:35:18.376Z"
   },
   {
    "duration": 232,
    "start_time": "2021-09-14T16:35:18.381Z"
   },
   {
    "duration": 227,
    "start_time": "2021-09-14T16:35:18.387Z"
   },
   {
    "duration": 221,
    "start_time": "2021-09-14T16:35:18.394Z"
   },
   {
    "duration": 216,
    "start_time": "2021-09-14T16:35:18.401Z"
   },
   {
    "duration": 213,
    "start_time": "2021-09-14T16:35:18.406Z"
   },
   {
    "duration": 210,
    "start_time": "2021-09-14T16:35:18.410Z"
   },
   {
    "duration": 203,
    "start_time": "2021-09-14T16:35:18.419Z"
   },
   {
    "duration": 198,
    "start_time": "2021-09-14T16:35:18.425Z"
   },
   {
    "duration": 195,
    "start_time": "2021-09-14T16:35:18.430Z"
   },
   {
    "duration": 192,
    "start_time": "2021-09-14T16:35:18.434Z"
   },
   {
    "duration": 189,
    "start_time": "2021-09-14T16:35:18.439Z"
   },
   {
    "duration": 184,
    "start_time": "2021-09-14T16:35:18.445Z"
   },
   {
    "duration": 149,
    "start_time": "2021-09-14T16:35:18.482Z"
   },
   {
    "duration": 2541,
    "start_time": "2021-09-14T16:36:42.839Z"
   },
   {
    "duration": 127,
    "start_time": "2021-09-14T16:36:45.383Z"
   },
   {
    "duration": 2307,
    "start_time": "2021-09-14T16:36:45.513Z"
   },
   {
    "duration": 251,
    "start_time": "2021-09-14T16:36:47.574Z"
   },
   {
    "duration": 187,
    "start_time": "2021-09-14T16:36:47.639Z"
   },
   {
    "duration": 175,
    "start_time": "2021-09-14T16:36:47.653Z"
   },
   {
    "duration": 162,
    "start_time": "2021-09-14T16:36:47.667Z"
   },
   {
    "duration": 153,
    "start_time": "2021-09-14T16:36:47.678Z"
   },
   {
    "duration": 137,
    "start_time": "2021-09-14T16:36:47.696Z"
   },
   {
    "duration": 99,
    "start_time": "2021-09-14T16:36:47.735Z"
   },
   {
    "duration": 91,
    "start_time": "2021-09-14T16:36:47.745Z"
   },
   {
    "duration": 89,
    "start_time": "2021-09-14T16:36:47.749Z"
   },
   {
    "duration": 85,
    "start_time": "2021-09-14T16:36:47.754Z"
   },
   {
    "duration": 73,
    "start_time": "2021-09-14T16:36:47.768Z"
   },
   {
    "duration": 62,
    "start_time": "2021-09-14T16:36:47.780Z"
   },
   {
    "duration": 58,
    "start_time": "2021-09-14T16:36:47.786Z"
   },
   {
    "duration": 49,
    "start_time": "2021-09-14T16:36:47.796Z"
   },
   {
    "duration": 44,
    "start_time": "2021-09-14T16:36:47.802Z"
   },
   {
    "duration": 40,
    "start_time": "2021-09-14T16:36:47.808Z"
   },
   {
    "duration": 35,
    "start_time": "2021-09-14T16:36:47.814Z"
   },
   {
    "duration": 31,
    "start_time": "2021-09-14T16:36:47.819Z"
   },
   {
    "duration": 24,
    "start_time": "2021-09-14T16:36:47.828Z"
   },
   {
    "duration": 21,
    "start_time": "2021-09-14T16:36:47.832Z"
   },
   {
    "duration": -11,
    "start_time": "2021-09-14T16:36:47.866Z"
   },
   {
    "duration": -18,
    "start_time": "2021-09-14T16:36:47.874Z"
   },
   {
    "duration": -42,
    "start_time": "2021-09-14T16:36:47.899Z"
   },
   {
    "duration": -46,
    "start_time": "2021-09-14T16:36:47.905Z"
   },
   {
    "duration": -50,
    "start_time": "2021-09-14T16:36:47.910Z"
   },
   {
    "duration": -53,
    "start_time": "2021-09-14T16:36:47.915Z"
   },
   {
    "duration": -54,
    "start_time": "2021-09-14T16:36:47.921Z"
   },
   {
    "duration": -57,
    "start_time": "2021-09-14T16:36:47.925Z"
   },
   {
    "duration": 3478,
    "start_time": "2021-09-14T16:38:42.283Z"
   },
   {
    "duration": 131,
    "start_time": "2021-09-14T16:38:45.763Z"
   },
   {
    "duration": 24,
    "start_time": "2021-09-14T16:38:45.897Z"
   },
   {
    "duration": 13,
    "start_time": "2021-09-14T16:38:45.924Z"
   },
   {
    "duration": 41,
    "start_time": "2021-09-14T16:38:45.939Z"
   },
   {
    "duration": 2274,
    "start_time": "2021-09-14T16:38:45.983Z"
   },
   {
    "duration": 184,
    "start_time": "2021-09-14T16:38:48.077Z"
   },
   {
    "duration": 167,
    "start_time": "2021-09-14T16:38:48.095Z"
   },
   {
    "duration": 155,
    "start_time": "2021-09-14T16:38:48.108Z"
   },
   {
    "duration": 111,
    "start_time": "2021-09-14T16:38:48.154Z"
   },
   {
    "duration": 100,
    "start_time": "2021-09-14T16:38:48.166Z"
   },
   {
    "duration": 91,
    "start_time": "2021-09-14T16:38:48.177Z"
   },
   {
    "duration": 83,
    "start_time": "2021-09-14T16:38:48.186Z"
   },
   {
    "duration": 72,
    "start_time": "2021-09-14T16:38:48.198Z"
   },
   {
    "duration": 62,
    "start_time": "2021-09-14T16:38:48.210Z"
   },
   {
    "duration": 50,
    "start_time": "2021-09-14T16:38:48.223Z"
   },
   {
    "duration": 40,
    "start_time": "2021-09-14T16:38:48.234Z"
   },
   {
    "duration": 30,
    "start_time": "2021-09-14T16:38:48.245Z"
   },
   {
    "duration": -7,
    "start_time": "2021-09-14T16:38:48.283Z"
   },
   {
    "duration": -19,
    "start_time": "2021-09-14T16:38:48.297Z"
   },
   {
    "duration": -27,
    "start_time": "2021-09-14T16:38:48.306Z"
   },
   {
    "duration": -37,
    "start_time": "2021-09-14T16:38:48.317Z"
   },
   {
    "duration": -45,
    "start_time": "2021-09-14T16:38:48.327Z"
   },
   {
    "duration": -64,
    "start_time": "2021-09-14T16:38:48.348Z"
   },
   {
    "duration": -73,
    "start_time": "2021-09-14T16:38:48.358Z"
   },
   {
    "duration": -103,
    "start_time": "2021-09-14T16:38:48.389Z"
   },
   {
    "duration": -118,
    "start_time": "2021-09-14T16:38:48.405Z"
   },
   {
    "duration": -132,
    "start_time": "2021-09-14T16:38:48.421Z"
   },
   {
    "duration": -141,
    "start_time": "2021-09-14T16:38:48.431Z"
   },
   {
    "duration": -149,
    "start_time": "2021-09-14T16:38:48.441Z"
   },
   {
    "duration": -158,
    "start_time": "2021-09-14T16:38:48.451Z"
   },
   {
    "duration": 1992,
    "start_time": "2021-09-14T16:40:45.249Z"
   },
   {
    "duration": 127,
    "start_time": "2021-09-14T16:40:47.244Z"
   },
   {
    "duration": 24,
    "start_time": "2021-09-14T16:40:47.374Z"
   },
   {
    "duration": 21,
    "start_time": "2021-09-14T16:40:47.401Z"
   },
   {
    "duration": 193,
    "start_time": "2021-09-14T16:40:47.424Z"
   },
   {
    "duration": 13148,
    "start_time": "2021-09-14T16:40:47.619Z"
   },
   {
    "duration": -1981,
    "start_time": "2021-09-14T16:41:02.751Z"
   },
   {
    "duration": -1989,
    "start_time": "2021-09-14T16:41:02.761Z"
   },
   {
    "duration": -1997,
    "start_time": "2021-09-14T16:41:02.770Z"
   },
   {
    "duration": -2150,
    "start_time": "2021-09-14T16:41:02.924Z"
   },
   {
    "duration": -2162,
    "start_time": "2021-09-14T16:41:02.938Z"
   },
   {
    "duration": -2165,
    "start_time": "2021-09-14T16:41:02.942Z"
   },
   {
    "duration": -2169,
    "start_time": "2021-09-14T16:41:02.947Z"
   },
   {
    "duration": -2205,
    "start_time": "2021-09-14T16:41:02.984Z"
   },
   {
    "duration": -2220,
    "start_time": "2021-09-14T16:41:03.000Z"
   },
   {
    "duration": -2223,
    "start_time": "2021-09-14T16:41:03.005Z"
   },
   {
    "duration": -2229,
    "start_time": "2021-09-14T16:41:03.012Z"
   },
   {
    "duration": -2236,
    "start_time": "2021-09-14T16:41:03.020Z"
   },
   {
    "duration": -2242,
    "start_time": "2021-09-14T16:41:03.027Z"
   },
   {
    "duration": -2249,
    "start_time": "2021-09-14T16:41:03.035Z"
   },
   {
    "duration": -2307,
    "start_time": "2021-09-14T16:41:03.095Z"
   },
   {
    "duration": -2322,
    "start_time": "2021-09-14T16:41:03.111Z"
   },
   {
    "duration": -2339,
    "start_time": "2021-09-14T16:41:03.130Z"
   },
   {
    "duration": -2348,
    "start_time": "2021-09-14T16:41:03.140Z"
   },
   {
    "duration": -2356,
    "start_time": "2021-09-14T16:41:03.149Z"
   },
   {
    "duration": -2363,
    "start_time": "2021-09-14T16:41:03.157Z"
   },
   {
    "duration": -2370,
    "start_time": "2021-09-14T16:41:03.165Z"
   },
   {
    "duration": -2375,
    "start_time": "2021-09-14T16:41:03.172Z"
   },
   {
    "duration": -2382,
    "start_time": "2021-09-14T16:41:03.180Z"
   },
   {
    "duration": -2389,
    "start_time": "2021-09-14T16:41:03.188Z"
   },
   {
    "duration": -2444,
    "start_time": "2021-09-14T16:41:03.245Z"
   },
   {
    "duration": 1452,
    "start_time": "2021-09-14T16:41:19.620Z"
   },
   {
    "duration": 131,
    "start_time": "2021-09-14T16:41:21.075Z"
   },
   {
    "duration": 24,
    "start_time": "2021-09-14T16:41:21.209Z"
   },
   {
    "duration": 34,
    "start_time": "2021-09-14T16:41:21.236Z"
   },
   {
    "duration": 13,
    "start_time": "2021-09-14T16:41:21.273Z"
   },
   {
    "duration": 24,
    "start_time": "2021-09-14T16:41:21.288Z"
   },
   {
    "duration": 11,
    "start_time": "2021-09-14T16:41:21.314Z"
   },
   {
    "duration": 104,
    "start_time": "2021-09-14T16:41:21.329Z"
   },
   {
    "duration": 32,
    "start_time": "2021-09-14T16:41:21.435Z"
   },
   {
    "duration": 27,
    "start_time": "2021-09-14T16:41:21.470Z"
   },
   {
    "duration": 75,
    "start_time": "2021-09-14T16:41:21.500Z"
   },
   {
    "duration": 615,
    "start_time": "2021-09-14T16:41:21.578Z"
   },
   {
    "duration": 471,
    "start_time": "2021-09-14T16:41:22.196Z"
   },
   {
    "duration": 507,
    "start_time": "2021-09-14T16:41:22.670Z"
   },
   {
    "duration": 21,
    "start_time": "2021-09-14T16:41:23.179Z"
   },
   {
    "duration": 2057,
    "start_time": "2021-09-14T16:41:23.202Z"
   },
   {
    "duration": 10,
    "start_time": "2021-09-14T16:41:25.261Z"
   },
   {
    "duration": 776,
    "start_time": "2021-09-14T16:41:25.273Z"
   },
   {
    "duration": 18,
    "start_time": "2021-09-14T16:41:26.052Z"
   },
   {
    "duration": 685,
    "start_time": "2021-09-14T16:41:26.073Z"
   },
   {
    "duration": 862,
    "start_time": "2021-09-14T16:41:26.761Z"
   },
   {
    "duration": 866,
    "start_time": "2021-09-14T16:41:27.625Z"
   },
   {
    "duration": 851,
    "start_time": "2021-09-14T16:41:28.498Z"
   },
   {
    "duration": 943,
    "start_time": "2021-09-14T16:41:29.352Z"
   },
   {
    "duration": 825,
    "start_time": "2021-09-14T16:41:30.299Z"
   },
   {
    "duration": 20,
    "start_time": "2021-09-14T16:41:31.127Z"
   },
   {
    "duration": 19,
    "start_time": "2021-09-14T16:41:31.168Z"
   },
   {
    "duration": 19,
    "start_time": "2021-09-14T16:41:31.190Z"
   },
   {
    "duration": 56,
    "start_time": "2021-09-14T16:41:31.211Z"
   },
   {
    "duration": 21,
    "start_time": "2021-09-14T16:41:31.270Z"
   },
   {
    "duration": 17,
    "start_time": "2021-09-14T16:41:31.293Z"
   },
   {
    "duration": 2149,
    "start_time": "2021-09-14T16:42:28.384Z"
   },
   {
    "duration": 1938,
    "start_time": "2021-09-14T16:43:45.853Z"
   },
   {
    "duration": 2050,
    "start_time": "2021-09-14T16:44:26.878Z"
   },
   {
    "duration": 778,
    "start_time": "2021-09-14T16:45:08.501Z"
   },
   {
    "duration": 755,
    "start_time": "2021-09-14T16:45:39.444Z"
   },
   {
    "duration": 1925,
    "start_time": "2021-09-14T16:46:05.168Z"
   },
   {
    "duration": 897,
    "start_time": "2021-09-14T16:48:56.542Z"
   },
   {
    "duration": 886,
    "start_time": "2021-09-14T16:49:07.761Z"
   },
   {
    "duration": 1197,
    "start_time": "2021-09-14T16:50:54.791Z"
   },
   {
    "duration": 867,
    "start_time": "2021-09-14T16:51:31.507Z"
   },
   {
    "duration": 755,
    "start_time": "2021-09-14T16:52:41.069Z"
   },
   {
    "duration": 957,
    "start_time": "2021-09-14T16:52:59.278Z"
   },
   {
    "duration": 741,
    "start_time": "2021-09-14T16:55:17.668Z"
   },
   {
    "duration": 824,
    "start_time": "2021-09-14T16:55:36.858Z"
   },
   {
    "duration": 815,
    "start_time": "2021-09-14T16:57:56.119Z"
   },
   {
    "duration": 1511,
    "start_time": "2021-09-14T16:59:10.456Z"
   },
   {
    "duration": 134,
    "start_time": "2021-09-14T16:59:11.969Z"
   },
   {
    "duration": 24,
    "start_time": "2021-09-14T16:59:12.106Z"
   },
   {
    "duration": 13,
    "start_time": "2021-09-14T16:59:12.133Z"
   },
   {
    "duration": 13,
    "start_time": "2021-09-14T16:59:12.168Z"
   },
   {
    "duration": 24,
    "start_time": "2021-09-14T16:59:12.184Z"
   },
   {
    "duration": 12,
    "start_time": "2021-09-14T16:59:12.211Z"
   },
   {
    "duration": 109,
    "start_time": "2021-09-14T16:59:12.227Z"
   },
   {
    "duration": 28,
    "start_time": "2021-09-14T16:59:12.339Z"
   },
   {
    "duration": 28,
    "start_time": "2021-09-14T16:59:12.370Z"
   },
   {
    "duration": 76,
    "start_time": "2021-09-14T16:59:12.400Z"
   },
   {
    "duration": 631,
    "start_time": "2021-09-14T16:59:12.478Z"
   },
   {
    "duration": 578,
    "start_time": "2021-09-14T16:59:13.112Z"
   },
   {
    "duration": 513,
    "start_time": "2021-09-14T16:59:13.693Z"
   },
   {
    "duration": 22,
    "start_time": "2021-09-14T16:59:14.209Z"
   },
   {
    "duration": 2100,
    "start_time": "2021-09-14T16:59:14.233Z"
   },
   {
    "duration": 8,
    "start_time": "2021-09-14T16:59:16.336Z"
   },
   {
    "duration": 800,
    "start_time": "2021-09-14T16:59:16.346Z"
   },
   {
    "duration": 23,
    "start_time": "2021-09-14T16:59:17.148Z"
   },
   {
    "duration": 693,
    "start_time": "2021-09-14T16:59:17.174Z"
   },
   {
    "duration": 864,
    "start_time": "2021-09-14T16:59:17.870Z"
   },
   {
    "duration": 808,
    "start_time": "2021-09-14T16:59:18.737Z"
   },
   {
    "duration": 846,
    "start_time": "2021-09-14T16:59:19.550Z"
   },
   {
    "duration": 864,
    "start_time": "2021-09-14T16:59:20.399Z"
   },
   {
    "duration": 877,
    "start_time": "2021-09-14T16:59:21.267Z"
   },
   {
    "duration": 27,
    "start_time": "2021-09-14T16:59:22.146Z"
   },
   {
    "duration": 20,
    "start_time": "2021-09-14T16:59:22.176Z"
   },
   {
    "duration": 18,
    "start_time": "2021-09-14T16:59:22.199Z"
   },
   {
    "duration": 56,
    "start_time": "2021-09-14T16:59:22.220Z"
   },
   {
    "duration": 20,
    "start_time": "2021-09-14T16:59:22.279Z"
   },
   {
    "duration": 17,
    "start_time": "2021-09-14T16:59:22.301Z"
   },
   {
    "duration": 357,
    "start_time": "2021-09-14T17:00:27.197Z"
   },
   {
    "duration": 362,
    "start_time": "2021-09-14T17:01:08.768Z"
   },
   {
    "duration": 478,
    "start_time": "2021-09-14T17:03:29.966Z"
   },
   {
    "duration": 449,
    "start_time": "2021-09-14T17:03:44.334Z"
   },
   {
    "duration": 418,
    "start_time": "2021-09-14T17:04:20.858Z"
   },
   {
    "duration": 401,
    "start_time": "2021-09-14T17:04:44.082Z"
   },
   {
    "duration": 1961,
    "start_time": "2021-09-14T17:05:11.741Z"
   },
   {
    "duration": 883,
    "start_time": "2021-09-14T17:05:22.911Z"
   },
   {
    "duration": 693,
    "start_time": "2021-09-14T17:06:09.330Z"
   },
   {
    "duration": 679,
    "start_time": "2021-09-14T17:06:25.720Z"
   },
   {
    "duration": 766,
    "start_time": "2021-09-14T17:10:07.597Z"
   },
   {
    "duration": 773,
    "start_time": "2021-09-14T17:10:13.974Z"
   },
   {
    "duration": 109,
    "start_time": "2021-09-15T06:05:33.270Z"
   },
   {
    "duration": 1568,
    "start_time": "2021-09-15T06:06:18.121Z"
   },
   {
    "duration": 139,
    "start_time": "2021-09-15T06:06:19.691Z"
   },
   {
    "duration": 50,
    "start_time": "2021-09-15T06:06:19.834Z"
   },
   {
    "duration": 14,
    "start_time": "2021-09-15T06:06:20.096Z"
   },
   {
    "duration": 15,
    "start_time": "2021-09-15T06:06:20.415Z"
   },
   {
    "duration": 25,
    "start_time": "2021-09-15T06:06:20.936Z"
   },
   {
    "duration": 12,
    "start_time": "2021-09-15T06:06:21.782Z"
   },
   {
    "duration": 78,
    "start_time": "2021-09-15T06:06:24.257Z"
   },
   {
    "duration": 12,
    "start_time": "2021-09-15T06:06:24.964Z"
   },
   {
    "duration": 41,
    "start_time": "2021-09-15T06:06:25.152Z"
   },
   {
    "duration": 52,
    "start_time": "2021-09-15T06:06:25.579Z"
   },
   {
    "duration": 625,
    "start_time": "2021-09-15T06:06:26.872Z"
   },
   {
    "duration": 463,
    "start_time": "2021-09-15T06:06:28.783Z"
   },
   {
    "duration": 515,
    "start_time": "2021-09-15T06:06:30.832Z"
   },
   {
    "duration": 22,
    "start_time": "2021-09-15T06:06:32.222Z"
   },
   {
    "duration": 2296,
    "start_time": "2021-09-15T06:08:16.460Z"
   },
   {
    "duration": 96,
    "start_time": "2021-09-15T06:09:28.898Z"
   },
   {
    "duration": 120,
    "start_time": "2021-09-15T06:09:56.366Z"
   },
   {
    "duration": 1167,
    "start_time": "2021-10-03T13:04:33.138Z"
   },
   {
    "duration": 86,
    "start_time": "2021-10-03T13:04:34.307Z"
   },
   {
    "duration": 15,
    "start_time": "2021-10-03T13:04:34.395Z"
   },
   {
    "duration": 7,
    "start_time": "2021-10-03T13:04:34.412Z"
   },
   {
    "duration": 14,
    "start_time": "2021-10-03T13:04:34.421Z"
   },
   {
    "duration": 25,
    "start_time": "2021-10-03T13:04:34.437Z"
   },
   {
    "duration": 19,
    "start_time": "2021-10-03T13:04:34.463Z"
   },
   {
    "duration": 46,
    "start_time": "2021-10-03T13:04:34.484Z"
   },
   {
    "duration": 5,
    "start_time": "2021-10-03T13:04:34.533Z"
   },
   {
    "duration": 45,
    "start_time": "2021-10-03T13:04:34.540Z"
   },
   {
    "duration": 37,
    "start_time": "2021-10-03T13:04:34.586Z"
   },
   {
    "duration": 414,
    "start_time": "2021-10-03T13:04:34.625Z"
   },
   {
    "duration": 281,
    "start_time": "2021-10-03T13:04:35.041Z"
   },
   {
    "duration": 300,
    "start_time": "2021-10-03T13:04:35.324Z"
   },
   {
    "duration": 13,
    "start_time": "2021-10-03T13:04:35.626Z"
   },
   {
    "duration": 1249,
    "start_time": "2021-10-03T13:04:35.641Z"
   },
   {
    "duration": 6,
    "start_time": "2021-10-03T13:04:36.892Z"
   },
   {
    "duration": 491,
    "start_time": "2021-10-03T13:04:36.900Z"
   },
   {
    "duration": 8,
    "start_time": "2021-10-03T13:04:37.393Z"
   },
   {
    "duration": 434,
    "start_time": "2021-10-03T13:04:37.403Z"
   },
   {
    "duration": 625,
    "start_time": "2021-10-03T13:04:37.838Z"
   },
   {
    "duration": 603,
    "start_time": "2021-10-03T13:04:38.466Z"
   },
   {
    "duration": 615,
    "start_time": "2021-10-03T13:04:39.076Z"
   },
   {
    "duration": 586,
    "start_time": "2021-10-03T13:04:39.693Z"
   },
   {
    "duration": 657,
    "start_time": "2021-10-03T13:04:40.281Z"
   },
   {
    "duration": 246,
    "start_time": "2021-10-03T13:04:40.939Z"
   },
   {
    "duration": 14,
    "start_time": "2021-10-03T13:04:41.187Z"
   },
   {
    "duration": 13,
    "start_time": "2021-10-03T13:04:41.203Z"
   },
   {
    "duration": 16,
    "start_time": "2021-10-03T13:04:41.218Z"
   },
   {
    "duration": 42,
    "start_time": "2021-10-03T13:04:41.236Z"
   },
   {
    "duration": 11,
    "start_time": "2021-10-03T13:04:41.280Z"
   }
  ],
  "kernelspec": {
   "display_name": "Python 3",
   "language": "python",
   "name": "python3"
  },
  "language_info": {
   "codemirror_mode": {
    "name": "ipython",
    "version": 3
   },
   "file_extension": ".py",
   "mimetype": "text/x-python",
   "name": "python",
   "nbconvert_exporter": "python",
   "pygments_lexer": "ipython3",
   "version": "3.8.8"
  },
  "toc": {
   "base_numbering": 1,
   "nav_menu": {},
   "number_sections": true,
   "sideBar": true,
   "skip_h1_title": true,
   "title_cell": "Table of Contents",
   "title_sidebar": "Contents",
   "toc_cell": false,
   "toc_position": {},
   "toc_section_display": true,
   "toc_window_display": false
  }
 },
 "nbformat": 4,
 "nbformat_minor": 2
}
